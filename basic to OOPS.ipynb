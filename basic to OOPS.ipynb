{
 "cells": [
  {
   "cell_type": "markdown",
   "id": "698b840f",
   "metadata": {},
   "source": [
    "#variables\n"
   ]
  },
  {
   "cell_type": "code",
   "execution_count": 3,
   "id": "98ac0af8",
   "metadata": {},
   "outputs": [
    {
     "name": "stdout",
     "output_type": "stream",
     "text": [
      "5.87\n",
      "<class 'float'>\n"
     ]
    }
   ],
   "source": [
    "a=5.87\n",
    "\n",
    "print(a)\n",
    "print(type(a))"
   ]
  },
  {
   "cell_type": "code",
   "execution_count": 4,
   "id": "627f1f39",
   "metadata": {},
   "outputs": [
    {
     "name": "stdout",
     "output_type": "stream",
     "text": [
      "<class 'str'>\n",
      "<class 'str'>\n"
     ]
    }
   ],
   "source": [
    "x=\"suvetha\"\n",
    "y= 'suvetha'\n",
    "print(type(x))\n",
    "z=\"5.87\"\n",
    "print(type(z))"
   ]
  },
  {
   "cell_type": "code",
   "execution_count": 9,
   "id": "c3a35c5c",
   "metadata": {},
   "outputs": [
    {
     "name": "stdout",
     "output_type": "stream",
     "text": [
      "6\n",
      "2\n",
      "8\n",
      "2.0\n",
      "2\n",
      "0\n"
     ]
    }
   ],
   "source": [
    "x=4\n",
    "y=2\n",
    "print(x+y)\n",
    "print(x-y)\n",
    "print(x*y)\n",
    "print(x/y)\n",
    "print(x//y)\n",
    "print(x%y)"
   ]
  },
  {
   "cell_type": "code",
   "execution_count": null,
   "id": "0974c319",
   "metadata": {},
   "outputs": [],
   "source": [
    "<\n",
    ">\n",
    "==\n",
    ">=\n",
    "<=\n",
    "!="
   ]
  },
  {
   "cell_type": "code",
   "execution_count": 10,
   "id": "71d3b35a",
   "metadata": {},
   "outputs": [
    {
     "name": "stdout",
     "output_type": "stream",
     "text": [
      "4\n",
      "x\n"
     ]
    }
   ],
   "source": [
    "print(x)\n",
    "print(\"x\")"
   ]
  },
  {
   "cell_type": "code",
   "execution_count": 1,
   "id": "ced16154",
   "metadata": {},
   "outputs": [
    {
     "ename": "TypeError",
     "evalue": "unsupported operand type(s) for +: 'int' and 'str'",
     "output_type": "error",
     "traceback": [
      "\u001b[1;31m---------------------------------------------------------------------------\u001b[0m",
      "\u001b[1;31mTypeError\u001b[0m                                 Traceback (most recent call last)",
      "Cell \u001b[1;32mIn[1], line 3\u001b[0m\n\u001b[0;32m      1\u001b[0m x \u001b[38;5;241m=\u001b[39m \u001b[38;5;241m5\u001b[39m\n\u001b[0;32m      2\u001b[0m y \u001b[38;5;241m=\u001b[39m \u001b[38;5;124m'\u001b[39m\u001b[38;5;124m5\u001b[39m\u001b[38;5;124m'\u001b[39m\n\u001b[1;32m----> 3\u001b[0m z \u001b[38;5;241m=\u001b[39m x\u001b[38;5;241m+\u001b[39my\n\u001b[0;32m      4\u001b[0m \u001b[38;5;28mprint\u001b[39m(z)\n",
      "\u001b[1;31mTypeError\u001b[0m: unsupported operand type(s) for +: 'int' and 'str'"
     ]
    }
   ],
   "source": [
    "x = 5\n",
    "y = '5'\n",
    "z = x+y\n",
    "print(z)"
   ]
  },
  {
   "cell_type": "code",
   "execution_count": 7,
   "id": "f9d58dfe",
   "metadata": {},
   "outputs": [
    {
     "name": "stdout",
     "output_type": "stream",
     "text": [
      "1505,1540,1575,1610,1645,1680,1715,1750,1785,1820,1855,1890,1925,1960,1995,2030,2065,2100,2135,2170,2205,2240,2275,2310,2345,2380,2415,2450,2485,2520,2555,2590,2625,2660,2695,\n",
      "total number: 35\n"
     ]
    }
   ],
   "source": [
    "count = 0\n",
    "for i in range(1500,2701):\n",
    "    if i%7==0 and i%5 == 0:\n",
    "        print(i,end=',')\n",
    "        count += 1\n",
    "#print(f\"\\ntotal number:\",count)\n",
    "#print(f\"total number:\",count)\n",
    "#print(\"total number:\",count)\n",
    "print(\"\\ntotal number:\",count)"
   ]
  },
  {
   "cell_type": "code",
   "execution_count": 8,
   "id": "63890fd3",
   "metadata": {
    "scrolled": true
   },
   "outputs": [
    {
     "name": "stdout",
     "output_type": "stream",
     "text": [
      "0\n",
      "1\n",
      "2\n",
      "3\n",
      "4\n",
      "6\n",
      "7\n",
      "8\n",
      "9\n"
     ]
    }
   ],
   "source": [
    "for i in range(10):\n",
    "    if i == 5:\n",
    "        #print(i)\n",
    "        continue\n",
    "    print(i)"
   ]
  },
  {
   "cell_type": "code",
   "execution_count": 3,
   "id": "8bc5bde2",
   "metadata": {},
   "outputs": [
    {
     "name": "stdout",
     "output_type": "stream",
     "text": [
      "1\n",
      "2\n",
      "3\n",
      "4\n"
     ]
    }
   ],
   "source": [
    "for i in range(1,10):\n",
    "    if i == 5:\n",
    "        #print(i)\n",
    "        break\n",
    "    print(i)"
   ]
  },
  {
   "cell_type": "code",
   "execution_count": 10,
   "id": "0201e968",
   "metadata": {},
   "outputs": [
    {
     "name": "stdout",
     "output_type": "stream",
     "text": [
      "1505 1540 1575 1610 1645 1680 1715 1750 1785 1820 1855 1890 1925 1960 1995 2030 2065 2100 2135 2170 2205 2240 2275 2310 2345 2380 2415 2450 2485 2520 2555 2590 2625 2660 2695 \n",
      " total number: 35\n"
     ]
    }
   ],
   "source": [
    "for i in range(1500,2701):\n",
    "    if i%7==0:\n",
    "        if i%5==0:\n",
    "            print(i,end=' ')\n",
    "print(\"\\n total number:\", count)"
   ]
  },
  {
   "cell_type": "code",
   "execution_count": 11,
   "id": "bad26951",
   "metadata": {},
   "outputs": [
    {
     "name": "stdout",
     "output_type": "stream",
     "text": [
      "a\n",
      "e\n",
      "o\n",
      "a\n",
      "e\n"
     ]
    }
   ],
   "source": [
    "#vowels\n",
    "x= \"aeroplane\"\n",
    "r= ['a','e','i','o','u']\n",
    "for i in x:\n",
    "    if i in r:\n",
    "        print(i)"
   ]
  },
  {
   "cell_type": "code",
   "execution_count": 12,
   "id": "32fb6b68",
   "metadata": {},
   "outputs": [
    {
     "name": "stdout",
     "output_type": "stream",
     "text": [
      "Variable   Type    Data/Info\n",
      "----------------------------\n",
      "a          int     5\n",
      "count      int     35\n",
      "i          str     e\n",
      "r          list    n=5\n",
      "x          str     aeroplane\n"
     ]
    }
   ],
   "source": [
    "%whos\n"
   ]
  },
  {
   "cell_type": "code",
   "execution_count": 13,
   "id": "193693b3",
   "metadata": {},
   "outputs": [
    {
     "name": "stdout",
     "output_type": "stream",
     "text": [
      "Variable   Type       Data/Info\n",
      "-------------------------------\n",
      "a          complex    (5+6j)\n",
      "b          int        10\n",
      "c          int        20\n",
      "count      int        35\n",
      "i          str        e\n",
      "r          list       n=5\n",
      "x          str        aeroplane\n"
     ]
    }
   ],
   "source": [
    "a= 5+6j\n",
    "b=10\n",
    "c=20\n",
    "%whos"
   ]
  },
  {
   "cell_type": "code",
   "execution_count": 14,
   "id": "bbac9ace",
   "metadata": {},
   "outputs": [
    {
     "name": "stdout",
     "output_type": "stream",
     "text": [
      "121\n"
     ]
    }
   ],
   "source": [
    "def add(a,b):\n",
    "    c=a+b\n",
    "    print(c)\n",
    "add(45,76)\n"
   ]
  },
  {
   "cell_type": "code",
   "execution_count": 15,
   "id": "a35449ed",
   "metadata": {},
   "outputs": [
    {
     "name": "stdout",
     "output_type": "stream",
     "text": [
      "Variable   Type        Data/Info\n",
      "--------------------------------\n",
      "a          complex     (5+6j)\n",
      "add        function    <function add at 0x000001ABCF6318A0>\n",
      "b          int         10\n",
      "c          int         20\n",
      "count      int         35\n",
      "i          str         e\n",
      "r          list        n=5\n",
      "x          str         aeroplane\n"
     ]
    }
   ],
   "source": [
    "%whos"
   ]
  },
  {
   "cell_type": "code",
   "execution_count": 16,
   "id": "10f2071b",
   "metadata": {},
   "outputs": [],
   "source": [
    "del add"
   ]
  },
  {
   "cell_type": "code",
   "execution_count": 17,
   "id": "84477d36",
   "metadata": {},
   "outputs": [
    {
     "name": "stdout",
     "output_type": "stream",
     "text": [
      "Variable   Type       Data/Info\n",
      "-------------------------------\n",
      "a          complex    (5+6j)\n",
      "b          int        10\n",
      "c          int        20\n",
      "count      int        35\n",
      "i          str        e\n",
      "r          list       n=5\n",
      "x          str        aeroplane\n"
     ]
    }
   ],
   "source": [
    "%whos"
   ]
  },
  {
   "cell_type": "code",
   "execution_count": 18,
   "id": "97077b5e",
   "metadata": {},
   "outputs": [
    {
     "ename": "NameError",
     "evalue": "name 'add' is not defined",
     "output_type": "error",
     "traceback": [
      "\u001b[1;31m---------------------------------------------------------------------------\u001b[0m",
      "\u001b[1;31mNameError\u001b[0m                                 Traceback (most recent call last)",
      "Cell \u001b[1;32mIn[18], line 1\u001b[0m\n\u001b[1;32m----> 1\u001b[0m add(\u001b[38;5;241m75\u001b[39m,\u001b[38;5;241m85\u001b[39m)\n",
      "\u001b[1;31mNameError\u001b[0m: name 'add' is not defined"
     ]
    }
   ],
   "source": [
    "add(75,85)"
   ]
  },
  {
   "cell_type": "code",
   "execution_count": 19,
   "id": "730a2073",
   "metadata": {},
   "outputs": [],
   "source": [
    "b=29"
   ]
  },
  {
   "cell_type": "code",
   "execution_count": 20,
   "id": "c829a778",
   "metadata": {},
   "outputs": [
    {
     "name": "stdout",
     "output_type": "stream",
     "text": [
      "Variable   Type       Data/Info\n",
      "-------------------------------\n",
      "a          complex    (5+6j)\n",
      "b          int        29\n",
      "c          int        20\n",
      "count      int        35\n",
      "i          str        e\n",
      "r          list       n=5\n",
      "x          str        aeroplane\n"
     ]
    }
   ],
   "source": [
    "%whos"
   ]
  },
  {
   "cell_type": "code",
   "execution_count": 21,
   "id": "3e85dace",
   "metadata": {},
   "outputs": [],
   "source": [
    "del b"
   ]
  },
  {
   "cell_type": "code",
   "execution_count": 22,
   "id": "602b4d6f",
   "metadata": {},
   "outputs": [
    {
     "name": "stdout",
     "output_type": "stream",
     "text": [
      "Variable   Type       Data/Info\n",
      "-------------------------------\n",
      "a          complex    (5+6j)\n",
      "c          int        20\n",
      "count      int        35\n",
      "i          str        e\n",
      "r          list       n=5\n",
      "x          str        aeroplane\n"
     ]
    }
   ],
   "source": [
    "%whos"
   ]
  },
  {
   "cell_type": "code",
   "execution_count": 23,
   "id": "e0cfd392",
   "metadata": {},
   "outputs": [
    {
     "name": "stdout",
     "output_type": "stream",
     "text": [
      "466\n"
     ]
    }
   ],
   "source": [
    "a=12\n",
    "b=454\n",
    "\n",
    "c=a+b\n",
    "print(c)"
   ]
  },
  {
   "cell_type": "code",
   "execution_count": 24,
   "id": "32f9e553",
   "metadata": {},
   "outputs": [
    {
     "data": {
      "text/plain": [
       "1837443858928"
      ]
     },
     "execution_count": 24,
     "metadata": {},
     "output_type": "execute_result"
    }
   ],
   "source": [
    "id(b)"
   ]
  },
  {
   "cell_type": "code",
   "execution_count": 25,
   "id": "cf980259",
   "metadata": {},
   "outputs": [
    {
     "name": "stdout",
     "output_type": "stream",
     "text": [
      "1505,1512,1519,1526,1533,1540,1547,1554,1561,1568,1575,1582,1589,1596,1603,1610,1617,1624,1631,1638,1645,1652,1659,1666,1673,1680,1687,1694,1701,1708,1715,1722,1729,1736,1743,1750,1757,1764,1771,1778,1785,1792,1799,1806,1813,1820,1827,1834,1841,1848,1855,1862,1869,1876,1883,1890,1897,1904,1911,1918,1925,1932,1939,1946,1953,1960,1967,1974,1981,1988,1995,2002,2009,2016,2023,2030,2037,2044,2051,2058,2065,2072,2079,2086,2093,2100,2107,2114,2121,2128,2135,2142,2149,2156,2163,2170,2177,2184,2191,2198,2205,2212,2219,2226,2233,2240,2247,2254,2261,2268,2275,2282,2289,2296,2303,2310,2317,2324,2331,2338,2345,2352,2359,2366,2373,2380,2387,2394,2401,2408,2415,2422,2429,2436,2443,2450,2457,2464,2471,2478,2485,2492,2499,2506,2513,2520,2527,2534,2541,2548,2555,2562,2569,2576,2583,2590,2597,2604,2611,2618,2625,2632,2639,2646,2653,2660,2667,2674,2681,2688,2695,/n total number: 171\n"
     ]
    }
   ],
   "source": [
    "count = 0\n",
    "for i in range(1500,2701):\n",
    "    if i%7==0 & i%5 == 0:\n",
    "        print(i,end=',')\n",
    "        count += 1\n",
    "        \n",
    "print(\"/n total number:\", count)"
   ]
  },
  {
   "cell_type": "code",
   "execution_count": 7,
   "id": "dc5c2724",
   "metadata": {},
   "outputs": [
    {
     "name": "stdout",
     "output_type": "stream",
     "text": [
      "1\n",
      "2\n",
      "3\n",
      "4\n",
      "5\n",
      "6\n",
      "7\n",
      "8\n",
      "9\n"
     ]
    }
   ],
   "source": [
    "for i in range(1,10):\n",
    "    if i == 5:\n",
    "        #print(i)\n",
    "        pass\n",
    "        #print(i)\n",
    "    print(i)"
   ]
  },
  {
   "cell_type": "code",
   "execution_count": 27,
   "id": "42ad15ef",
   "metadata": {},
   "outputs": [
    {
     "name": "stdout",
     "output_type": "stream",
     "text": [
      "1\n",
      "3\n"
     ]
    }
   ],
   "source": [
    "for number in range(10):\n",
    "    #print(number)\n",
    "    if number == 5:\n",
    "        #print(number)\n",
    "        break  # Stop the loop when number equals 5\n",
    "    elif number % 2 == 0:\n",
    "        #print(number)\n",
    "        continue  # Skip even numbers\n",
    "    print(number)  # Prints only odd numbers less than 5\n"
   ]
  },
  {
   "cell_type": "code",
   "execution_count": 28,
   "id": "1ff87a82",
   "metadata": {},
   "outputs": [
    {
     "name": "stdout",
     "output_type": "stream",
     "text": [
      "a\t b\t c\t count\t i\t number\t r\t x\t \n"
     ]
    }
   ],
   "source": [
    "%who"
   ]
  },
  {
   "cell_type": "code",
   "execution_count": 32,
   "id": "96a99cca",
   "metadata": {},
   "outputs": [
    {
     "name": "stdout",
     "output_type": "stream",
     "text": [
      "Variable   Type    Data/Info\n",
      "----------------------------\n",
      "a          int     5\n",
      "b          int     454\n",
      "c          int     466\n",
      "count      int     171\n",
      "i          int     9\n",
      "number     int     5\n",
      "r          list    n=5\n",
      "x          str     aeroplane\n"
     ]
    }
   ],
   "source": [
    "%whos"
   ]
  },
  {
   "cell_type": "code",
   "execution_count": 30,
   "id": "5116b1c5",
   "metadata": {},
   "outputs": [
    {
     "data": {
      "text/plain": [
       "140723804869544"
      ]
     },
     "execution_count": 30,
     "metadata": {},
     "output_type": "execute_result"
    }
   ],
   "source": [
    "5\n",
    "id(5)\n"
   ]
  },
  {
   "cell_type": "code",
   "execution_count": 31,
   "id": "0647b25e",
   "metadata": {},
   "outputs": [
    {
     "data": {
      "text/plain": [
       "140723804869544"
      ]
     },
     "execution_count": 31,
     "metadata": {},
     "output_type": "execute_result"
    }
   ],
   "source": [
    "a=5\n",
    "id(a)"
   ]
  },
  {
   "cell_type": "code",
   "execution_count": 3,
   "id": "b04efb92",
   "metadata": {},
   "outputs": [
    {
     "name": "stdout",
     "output_type": "stream",
     "text": [
      "False\n"
     ]
    }
   ],
   "source": [
    "x = True\n",
    "y = False\n",
    "result = x and y\n",
    "print(result)"
   ]
  },
  {
   "cell_type": "code",
   "execution_count": 6,
   "id": "95e6145e",
   "metadata": {},
   "outputs": [
    {
     "name": "stdout",
     "output_type": "stream",
     "text": [
      "False\n"
     ]
    }
   ],
   "source": [
    "x = True  \n",
    "y = False  \n",
    "result = x & y \n",
    "print(result)"
   ]
  },
  {
   "cell_type": "code",
   "execution_count": 9,
   "id": "f4b840db",
   "metadata": {},
   "outputs": [
    {
     "name": "stdout",
     "output_type": "stream",
     "text": [
      "1\n"
     ]
    }
   ],
   "source": [
    "x = 5  # In binary: 101\n",
    "y = 3  # In binary: 011\n",
    "result = x & y \n",
    "print(result)"
   ]
  },
  {
   "cell_type": "code",
   "execution_count": 7,
   "id": "ba716b7c",
   "metadata": {},
   "outputs": [
    {
     "name": "stdout",
     "output_type": "stream",
     "text": [
      "3\n"
     ]
    }
   ],
   "source": [
    "x = 5\n",
    "y = 3\n",
    "result = x and y\n",
    "print(result)"
   ]
  },
  {
   "cell_type": "code",
   "execution_count": 11,
   "id": "d67725df",
   "metadata": {},
   "outputs": [
    {
     "name": "stdout",
     "output_type": "stream",
     "text": [
      "0\n"
     ]
    }
   ],
   "source": [
    "x = 0\n",
    "y = 3\n",
    "result = x and y\n",
    "print(result)"
   ]
  },
  {
   "cell_type": "code",
   "execution_count": 16,
   "id": "bfab1158",
   "metadata": {},
   "outputs": [
    {
     "data": {
      "text/plain": [
       "''"
      ]
     },
     "execution_count": 16,
     "metadata": {},
     "output_type": "execute_result"
    }
   ],
   "source": [
    "a='suvetha'\n",
    "#a.reverse()\n",
    "a[-1:0]"
   ]
  },
  {
   "cell_type": "code",
   "execution_count": 19,
   "id": "c5489327",
   "metadata": {},
   "outputs": [
    {
     "data": {
      "text/plain": [
       "'suveth'"
      ]
     },
     "execution_count": 19,
     "metadata": {},
     "output_type": "execute_result"
    }
   ],
   "source": [
    "a='suvetha'\n",
    "a[:-1]"
   ]
  },
  {
   "cell_type": "code",
   "execution_count": 20,
   "id": "bcb331a4",
   "metadata": {},
   "outputs": [
    {
     "data": {
      "text/plain": [
       "'ahtevus'"
      ]
     },
     "execution_count": 20,
     "metadata": {},
     "output_type": "execute_result"
    }
   ],
   "source": [
    "a='suvetha'\n",
    "a[::-1]"
   ]
  },
  {
   "cell_type": "code",
   "execution_count": 22,
   "id": "5c7140c0",
   "metadata": {},
   "outputs": [
    {
     "data": {
      "text/plain": [
       "'suve'"
      ]
     },
     "execution_count": 22,
     "metadata": {},
     "output_type": "execute_result"
    }
   ],
   "source": [
    "a[0:4]"
   ]
  },
  {
   "cell_type": "code",
   "execution_count": 23,
   "id": "8861be97",
   "metadata": {},
   "outputs": [
    {
     "data": {
      "text/plain": [
       "'suvetha'"
      ]
     },
     "execution_count": 23,
     "metadata": {},
     "output_type": "execute_result"
    }
   ],
   "source": [
    "a[0:]"
   ]
  },
  {
   "cell_type": "code",
   "execution_count": 24,
   "id": "ec9c2e44",
   "metadata": {},
   "outputs": [
    {
     "data": {
      "text/plain": [
       "'suvetha'"
      ]
     },
     "execution_count": 24,
     "metadata": {},
     "output_type": "execute_result"
    }
   ],
   "source": [
    "a[::]"
   ]
  },
  {
   "cell_type": "code",
   "execution_count": 25,
   "id": "a8ddb6e3",
   "metadata": {},
   "outputs": [
    {
     "ename": "TypeError",
     "evalue": "'int' object is not subscriptable",
     "output_type": "error",
     "traceback": [
      "\u001b[1;31m---------------------------------------------------------------------------\u001b[0m",
      "\u001b[1;31mTypeError\u001b[0m                                 Traceback (most recent call last)",
      "Cell \u001b[1;32mIn[25], line 2\u001b[0m\n\u001b[0;32m      1\u001b[0m a\u001b[38;5;241m=\u001b[39m\u001b[38;5;241m123\u001b[39m\n\u001b[1;32m----> 2\u001b[0m a[\u001b[38;5;241m1\u001b[39m]\n",
      "\u001b[1;31mTypeError\u001b[0m: 'int' object is not subscriptable"
     ]
    }
   ],
   "source": [
    "a=123\n",
    "a[1]"
   ]
  },
  {
   "cell_type": "code",
   "execution_count": 26,
   "id": "2fe92cb7",
   "metadata": {},
   "outputs": [
    {
     "name": "stdout",
     "output_type": "stream",
     "text": [
      "123\n"
     ]
    }
   ],
   "source": [
    "num=1234\n",
    "last_num = num%10\n",
    "reverse_num = 0 * 10 + last_num\n",
    "num = num//10\n",
    "print(num)"
   ]
  },
  {
   "cell_type": "code",
   "execution_count": 30,
   "id": "8590060b",
   "metadata": {},
   "outputs": [
    {
     "data": {
      "text/plain": [
       "4"
      ]
     },
     "execution_count": 30,
     "metadata": {},
     "output_type": "execute_result"
    }
   ],
   "source": [
    "1234%10\n"
   ]
  },
  {
   "cell_type": "code",
   "execution_count": 31,
   "id": "8293651b",
   "metadata": {},
   "outputs": [
    {
     "data": {
      "text/plain": [
       "4"
      ]
     },
     "execution_count": 31,
     "metadata": {},
     "output_type": "execute_result"
    }
   ],
   "source": [
    "0 * 10 + 4"
   ]
  },
  {
   "cell_type": "code",
   "execution_count": 32,
   "id": "9d1d683c",
   "metadata": {},
   "outputs": [
    {
     "data": {
      "text/plain": [
       "123"
      ]
     },
     "execution_count": 32,
     "metadata": {},
     "output_type": "execute_result"
    }
   ],
   "source": [
    "1234//10"
   ]
  },
  {
   "cell_type": "code",
   "execution_count": 4,
   "id": "d1eea266",
   "metadata": {},
   "outputs": [
    {
     "data": {
      "text/plain": [
       "4321"
      ]
     },
     "execution_count": 4,
     "metadata": {},
     "output_type": "execute_result"
    }
   ],
   "source": [
    "def revint(num):\n",
    "    rev_num = 0\n",
    "    while num > 0:\n",
    "        last = num % 10\n",
    "        rev_num = rev_num * 10 + last\n",
    "        num = num // 10\n",
    "    return rev_num\n",
    "revint(1234)"
   ]
  },
  {
   "cell_type": "code",
   "execution_count": 16,
   "id": "54e12d27",
   "metadata": {},
   "outputs": [
    {
     "name": "stdout",
     "output_type": "stream",
     "text": [
      "4321"
     ]
    }
   ],
   "source": [
    "num = 1234\n",
    "while num >0:\n",
    "    last = num % 10\n",
    "    num = num //10\n",
    "    print(last,end= '')"
   ]
  },
  {
   "cell_type": "code",
   "execution_count": 18,
   "id": "7679c006",
   "metadata": {},
   "outputs": [
    {
     "name": "stdout",
     "output_type": "stream",
     "text": [
      "3\n"
     ]
    }
   ],
   "source": [
    "num = 1234\n",
    "x=num//10\n",
    "res=x%10\n",
    "print(res)"
   ]
  },
  {
   "cell_type": "code",
   "execution_count": 14,
   "id": "2d1046a5",
   "metadata": {},
   "outputs": [
    {
     "data": {
      "text/plain": [
       "1"
      ]
     },
     "execution_count": 14,
     "metadata": {},
     "output_type": "execute_result"
    }
   ],
   "source": [
    "def rev(num):\n",
    "    while num >0:\n",
    "        last = num % 10\n",
    "        num = num //10\n",
    "        #return(last,end = '')\n",
    "    return(last)\n",
    "rev(1234)"
   ]
  },
  {
   "cell_type": "code",
   "execution_count": 48,
   "id": "a5697999",
   "metadata": {},
   "outputs": [
    {
     "data": {
      "text/plain": [
       "16"
      ]
     },
     "execution_count": 48,
     "metadata": {},
     "output_type": "execute_result"
    }
   ],
   "source": [
    "pow(2,4)"
   ]
  },
  {
   "cell_type": "code",
   "execution_count": 50,
   "id": "afc3488c",
   "metadata": {},
   "outputs": [
    {
     "data": {
      "text/plain": [
       "2"
      ]
     },
     "execution_count": 50,
     "metadata": {},
     "output_type": "execute_result"
    }
   ],
   "source": [
    "pow(2,4,7)"
   ]
  },
  {
   "cell_type": "code",
   "execution_count": 51,
   "id": "5acb49f1",
   "metadata": {},
   "outputs": [
    {
     "data": {
      "text/plain": [
       "4"
      ]
     },
     "execution_count": 51,
     "metadata": {},
     "output_type": "execute_result"
    }
   ],
   "source": [
    "pow(2,4,6)"
   ]
  },
  {
   "cell_type": "code",
   "execution_count": 52,
   "id": "651559a2",
   "metadata": {},
   "outputs": [],
   "source": [
    "pow?"
   ]
  },
  {
   "cell_type": "code",
   "execution_count": 53,
   "id": "6f413633",
   "metadata": {},
   "outputs": [],
   "source": [
    "pow??"
   ]
  },
  {
   "cell_type": "code",
   "execution_count": 21,
   "id": "aa7e2e75",
   "metadata": {},
   "outputs": [
    {
     "name": "stdout",
     "output_type": "stream",
     "text": [
      "selected\n"
     ]
    }
   ],
   "source": [
    "def form(a,age):\n",
    "    if a=='married':\n",
    "        print(\"rejected\")\n",
    "    else:\n",
    "        if age>18:\n",
    "            print(\"selected\")\n",
    "        else:\n",
    "            print(\"age is unsatisfied\")\n",
    "            \n",
    "form('unmarried',27)"
   ]
  },
  {
   "cell_type": "code",
   "execution_count": 4,
   "id": "02d2b146",
   "metadata": {},
   "outputs": [
    {
     "name": "stdout",
     "output_type": "stream",
     "text": [
      "age is unsatisfied\n"
     ]
    }
   ],
   "source": [
    "def fill(age,a):\n",
    "    for age in range(18,30):\n",
    "        if a==\"married\":\n",
    "            print(\"rejected\")\n",
    "        elif a==\"umarried\":\n",
    "            print(\"selected\")\n",
    "    print(\"age is unsatisfied\")\n",
    "\n",
    "fill('20',\"unmarried\")"
   ]
  },
  {
   "cell_type": "code",
   "execution_count": 7,
   "id": "4df72fcb",
   "metadata": {},
   "outputs": [
    {
     "name": "stdout",
     "output_type": "stream",
     "text": [
      "enter age22\n",
      "enter statusunmarried\n"
     ]
    }
   ],
   "source": [
    "age=(input(\"enter age\"))\n",
    "a= input(\"enter status\")\n",
    "for age in range(18,30):\n",
    "    if a==\"married\":\n",
    "        print(\"rejected\")\n",
    "    elif a==\"umarried\":\n",
    "        print(\"selected\")\n",
    "#print(\"age is unsatisfied\")\n",
    "\n"
   ]
  },
  {
   "cell_type": "code",
   "execution_count": 16,
   "id": "afd70cc7",
   "metadata": {},
   "outputs": [
    {
     "name": "stdout",
     "output_type": "stream",
     "text": [
      "inside else\n",
      "inside else\n",
      "inside else\n",
      "inside else\n",
      "inside else\n",
      "inside else\n",
      "inside else\n",
      "inside else\n",
      "inside if\n",
      "done\n"
     ]
    }
   ],
   "source": [
    "n=12\n",
    "i=1\n",
    "while True:\n",
    "    if i%9==0:\n",
    "        print(\"inside if\")\n",
    "        break\n",
    "    else:\n",
    "        print(\"inside else\")\n",
    "        i=i+1\n",
    "print(\"done\")\n"
   ]
  },
  {
   "cell_type": "code",
   "execution_count": 23,
   "id": "f6841337",
   "metadata": {},
   "outputs": [
    {
     "data": {
      "text/plain": [
       "'em htiw nioj'"
      ]
     },
     "execution_count": 23,
     "metadata": {},
     "output_type": "execute_result"
    }
   ],
   "source": [
    "a=\"join with me\"\n",
    "a[::-1]\n"
   ]
  },
  {
   "cell_type": "code",
   "execution_count": 25,
   "id": "64ba107d",
   "metadata": {},
   "outputs": [
    {
     "data": {
      "text/plain": [
       "['join', 'with', 'me']"
      ]
     },
     "execution_count": 25,
     "metadata": {},
     "output_type": "execute_result"
    }
   ],
   "source": [
    "b=a.split(' ')\n",
    "b"
   ]
  },
  {
   "cell_type": "code",
   "execution_count": 26,
   "id": "4107236f",
   "metadata": {},
   "outputs": [
    {
     "data": {
      "text/plain": [
       "['me', 'with', 'join']"
      ]
     },
     "execution_count": 26,
     "metadata": {},
     "output_type": "execute_result"
    }
   ],
   "source": [
    "b[::-1]"
   ]
  },
  {
   "cell_type": "code",
   "execution_count": 27,
   "id": "68fc421e",
   "metadata": {},
   "outputs": [
    {
     "data": {
      "text/plain": [
       "'join with me'"
      ]
     },
     "execution_count": 27,
     "metadata": {},
     "output_type": "execute_result"
    }
   ],
   "source": [
    "a"
   ]
  },
  {
   "cell_type": "code",
   "execution_count": 28,
   "id": "84939e15",
   "metadata": {},
   "outputs": [
    {
     "data": {
      "text/plain": [
       "['me', 'with', 'join']"
      ]
     },
     "execution_count": 28,
     "metadata": {},
     "output_type": "execute_result"
    }
   ],
   "source": [
    "a.split(' ')[::-1]"
   ]
  },
  {
   "cell_type": "code",
   "execution_count": 1,
   "id": "ddd98851",
   "metadata": {},
   "outputs": [
    {
     "name": "stdout",
     "output_type": "stream",
     "text": [
      "[1, 2, 3, 4, 5] [1, 2, 3, 4, 5] [1, 2, 3, 4, 5]\n"
     ]
    }
   ],
   "source": [
    "l1= [1,2,3,4,5]\n",
    "l2=l1.copy()\n",
    "l3=l1\n",
    "print(l1,l2,l3)"
   ]
  },
  {
   "cell_type": "code",
   "execution_count": 3,
   "id": "a32eab3b",
   "metadata": {},
   "outputs": [
    {
     "name": "stdout",
     "output_type": "stream",
     "text": [
      "[1, 22, 3, 4, 5] [1, 2, 3, 4, 5] [1, 22, 3, 4, 5]\n"
     ]
    }
   ],
   "source": [
    "l1[1]=22\n",
    "print(l1,l2,l3)"
   ]
  },
  {
   "cell_type": "code",
   "execution_count": 4,
   "id": "6040a02c",
   "metadata": {},
   "outputs": [
    {
     "name": "stdout",
     "output_type": "stream",
     "text": [
      "[1, 22, 33, 4, 5] [1, 2, 3, 4, 5] [1, 22, 33, 4, 5]\n"
     ]
    }
   ],
   "source": [
    "l3[2]=33\n",
    "print(l1,l2,l3)"
   ]
  },
  {
   "cell_type": "code",
   "execution_count": 5,
   "id": "5bf54f4e",
   "metadata": {},
   "outputs": [
    {
     "name": "stdout",
     "output_type": "stream",
     "text": [
      "[1, 22, 33, 4, 5] [1, 2, 3, 44, 5] [1, 22, 33, 4, 5]\n"
     ]
    }
   ],
   "source": [
    "l2[3]=44\n",
    "print(l1,l2,l3)"
   ]
  },
  {
   "cell_type": "code",
   "execution_count": 6,
   "id": "fff51f06",
   "metadata": {},
   "outputs": [
    {
     "name": "stdout",
     "output_type": "stream",
     "text": [
      "2404871240384\n",
      "2404871240128\n",
      "2404871240384\n"
     ]
    }
   ],
   "source": [
    "print(id(l1))\n",
    "print(id(l2))\n",
    "print(id(l3))"
   ]
  },
  {
   "cell_type": "code",
   "execution_count": 10,
   "id": "b378e62b",
   "metadata": {},
   "outputs": [
    {
     "data": {
      "text/plain": [
       "[-2, 2, 3, 4, 5, 6, 7, 8]"
      ]
     },
     "execution_count": 10,
     "metadata": {},
     "output_type": "execute_result"
    }
   ],
   "source": [
    "l4= [5,6,7,3,4,8,2,-2]\n",
    "l4.sort()\n",
    "l4"
   ]
  },
  {
   "cell_type": "code",
   "execution_count": 12,
   "id": "89801b55",
   "metadata": {},
   "outputs": [
    {
     "data": {
      "text/plain": [
       "[-6, -4, 1, 3, 4, 5, 6, 8, 9]"
      ]
     },
     "execution_count": 12,
     "metadata": {},
     "output_type": "execute_result"
    }
   ],
   "source": [
    "l5=[8,9,6,4,3,5,1,-4,-6]\n",
    "sorted(l5)\n"
   ]
  },
  {
   "cell_type": "code",
   "execution_count": 13,
   "id": "f56c7316",
   "metadata": {},
   "outputs": [
    {
     "name": "stdout",
     "output_type": "stream",
     "text": [
      "[-2, 2, 3, 4, 5, 6, 7, 8] [8, 9, 6, 4, 3, 5, 1, -4, -6]\n"
     ]
    }
   ],
   "source": [
    "print(l4,l5)"
   ]
  },
  {
   "cell_type": "code",
   "execution_count": 1,
   "id": "2288af44",
   "metadata": {},
   "outputs": [
    {
     "name": "stdout",
     "output_type": "stream",
     "text": [
      "[0, 1, 4, 9, 16, 25, 36, 49, 64, 81]\n"
     ]
    }
   ],
   "source": [
    "x= [a**2 for a in range(10)]\n",
    "print(x)"
   ]
  },
  {
   "cell_type": "code",
   "execution_count": 3,
   "id": "e44422de",
   "metadata": {},
   "outputs": [
    {
     "name": "stdout",
     "output_type": "stream",
     "text": [
      "{0: 0, 1: 1, 2: 4, 3: 9, 4: 16, 5: 25, 6: 36, 7: 49, 8: 64, 9: 81}\n"
     ]
    }
   ],
   "source": [
    "y={b:b**2 for b in range(10)}\n",
    "print(y)\n"
   ]
  },
  {
   "cell_type": "code",
   "execution_count": 2,
   "id": "cdfd2796",
   "metadata": {},
   "outputs": [
    {
     "name": "stdout",
     "output_type": "stream",
     "text": [
      "100\n"
     ]
    }
   ],
   "source": [
    "def funct(func,value):\n",
    "    return func(value)\n",
    "def square(x):\n",
    "    return x*x\n",
    "result= funct(square,10)\n",
    "print(result)"
   ]
  },
  {
   "cell_type": "code",
   "execution_count": 3,
   "id": "588f7470",
   "metadata": {},
   "outputs": [
    {
     "name": "stdout",
     "output_type": "stream",
     "text": [
      "20\n"
     ]
    }
   ],
   "source": [
    "def add(x):\n",
    "    return x+x\n",
    "result=funct(add,10)\n",
    "print(result)"
   ]
  },
  {
   "cell_type": "code",
   "execution_count": 6,
   "id": "06f15836",
   "metadata": {},
   "outputs": [
    {
     "name": "stdout",
     "output_type": "stream",
     "text": [
      "[]\n",
      "[0]\n",
      "[0, 1]\n",
      "[0, 1, 4]\n",
      "[0, 1, 4, 9]\n",
      "[0, 1, 4, 9, 16]\n",
      "[0, 1, 4, 9, 16, 25]\n",
      "[0, 1, 4, 9, 16, 25, 36]\n",
      "[0, 1, 4, 9, 16, 25, 36, 49]\n",
      "[0, 1, 4, 9, 16, 25, 36, 49, 64]\n",
      "[0, 1, 4, 9, 16, 25, 36, 49, 64, 81]\n",
      "[0, 1, 4, 9, 16, 25, 36, 49, 64, 81, 100]\n",
      "[0, 1, 4, 9, 16, 25, 36, 49, 64, 81, 100, 121]\n",
      "[0, 1, 4, 9, 16, 25, 36, 49, 64, 81, 100, 121, 144]\n",
      "[0, 1, 4, 9, 16, 25, 36, 49, 64, 81, 100, 121, 144, 169]\n",
      "[0, 1, 4, 9, 16, 25, 36, 49, 64, 81, 100, 121, 144, 169, 196]\n",
      "[0, 1, 4, 9, 16, 25, 36, 49, 64, 81, 100, 121, 144, 169, 196, 225]\n",
      "[0, 1, 4, 9, 16, 25, 36, 49, 64, 81, 100, 121, 144, 169, 196, 225, 256]\n",
      "[0, 1, 4, 9, 16, 25, 36, 49, 64, 81, 100, 121, 144, 169, 196, 225, 256, 289]\n",
      "[0, 1, 4, 9, 16, 25, 36, 49, 64, 81, 100, 121, 144, 169, 196, 225, 256, 289, 324]\n"
     ]
    }
   ],
   "source": [
    "for i in range(20):\n",
    "    square=list(map(lambda x:x*x,range(i)))\n",
    "    print(square)\n",
    "    "
   ]
  },
  {
   "cell_type": "code",
   "execution_count": 7,
   "id": "cdcdaeea",
   "metadata": {},
   "outputs": [
    {
     "name": "stdout",
     "output_type": "stream",
     "text": [
      "[0, 1, 4, 9, 16, 25, 36, 49, 64, 81, 100, 121, 144, 169, 196, 225, 256, 289, 324, 361]\n"
     ]
    }
   ],
   "source": [
    "square=list(map(lambda x:x*x,range(20)))\n",
    "print(square)"
   ]
  },
  {
   "cell_type": "code",
   "execution_count": 8,
   "id": "1e702277",
   "metadata": {},
   "outputs": [
    {
     "name": "stdout",
     "output_type": "stream",
     "text": [
      "[0, 2, 4, 6, 8, 10, 12, 14, 16, 18]\n"
     ]
    }
   ],
   "source": [
    "number=list(filter(lambda x:x%2==0,range(20)))\n",
    "print(number)"
   ]
  },
  {
   "cell_type": "code",
   "execution_count": 15,
   "id": "373bc5aa",
   "metadata": {},
   "outputs": [
    {
     "name": "stdout",
     "output_type": "stream",
     "text": [
      "0 0\n",
      "1 1\n",
      "2 4\n",
      "3 9\n",
      "4 16\n",
      "5 25\n",
      "6 36\n",
      "7 49\n",
      "8 64\n",
      "9 81\n",
      "10 100\n",
      "11 121\n",
      "12 144\n",
      "13 169\n",
      "14 196\n",
      "15 225\n",
      "16 256\n",
      "17 289\n",
      "18 324\n",
      "19 361\n"
     ]
    }
   ],
   "source": [
    "t=[]\n",
    "for i in range(20):\n",
    "    t.append(print(i,i*i))"
   ]
  },
  {
   "cell_type": "code",
   "execution_count": 13,
   "id": "0c16f19e",
   "metadata": {},
   "outputs": [
    {
     "name": "stdout",
     "output_type": "stream",
     "text": [
      "[None, None, None, None, None, None, None, None, None, None, None, None, None, None, None, None, None, None, None, None]\n"
     ]
    }
   ],
   "source": [
    "print(t)"
   ]
  },
  {
   "cell_type": "code",
   "execution_count": 16,
   "id": "69abfb02",
   "metadata": {},
   "outputs": [
    {
     "name": "stdout",
     "output_type": "stream",
     "text": [
      "((0, 0), (1, 1), (2, 4), (3, 9), (4, 16), (5, 25), (6, 36), (7, 49), (8, 64), (9, 81), (10, 100), (11, 121), (12, 144), (13, 169), (14, 196), (15, 225), (16, 256), (17, 289), (18, 324), (19, 361))\n"
     ]
    }
   ],
   "source": [
    "l=tuple((i,i**2) for i in range(20))\n",
    "print(l)"
   ]
  },
  {
   "cell_type": "code",
   "execution_count": 17,
   "id": "4999ea2a",
   "metadata": {},
   "outputs": [
    {
     "data": {
      "text/plain": [
       "tuple"
      ]
     },
     "execution_count": 17,
     "metadata": {},
     "output_type": "execute_result"
    }
   ],
   "source": [
    "type(l)"
   ]
  },
  {
   "cell_type": "code",
   "execution_count": 18,
   "id": "359c4cdc",
   "metadata": {},
   "outputs": [
    {
     "name": "stdout",
     "output_type": "stream",
     "text": [
      "[(0, 0), (1, 1), (2, 4), (3, 9), (4, 16), (5, 25), (6, 36), (7, 49), (8, 64), (9, 81), (10, 100), (11, 121), (12, 144), (13, 169), (14, 196), (15, 225), (16, 256), (17, 289), (18, 324), (19, 361)]\n"
     ]
    }
   ],
   "source": [
    "a=list((i,i**2) for i in range(20))\n",
    "print(a)"
   ]
  },
  {
   "cell_type": "code",
   "execution_count": 19,
   "id": "dace3743",
   "metadata": {},
   "outputs": [
    {
     "data": {
      "text/plain": [
       "list"
      ]
     },
     "execution_count": 19,
     "metadata": {},
     "output_type": "execute_result"
    }
   ],
   "source": [
    "type(a)"
   ]
  },
  {
   "cell_type": "code",
   "execution_count": 21,
   "id": "29784c66",
   "metadata": {},
   "outputs": [
    {
     "name": "stdout",
     "output_type": "stream",
     "text": [
      "[1, 2, 3, 4, 5, 6, 7, 8, 9]\n"
     ]
    }
   ],
   "source": [
    "a=[]\n",
    "l=[1,2,3,4,5,4,6,3,7,8,9]\n",
    "for i in l:\n",
    "    if i not in a:\n",
    "        a.append(i)\n",
    "print(a)        "
   ]
  },
  {
   "cell_type": "code",
   "execution_count": 1,
   "id": "a4559e68",
   "metadata": {},
   "outputs": [],
   "source": [
    "import numpy as np\n",
    "a=np.eye(4)"
   ]
  },
  {
   "cell_type": "code",
   "execution_count": 2,
   "id": "f1da8322",
   "metadata": {},
   "outputs": [
    {
     "name": "stdout",
     "output_type": "stream",
     "text": [
      "[[1. 0. 0. 0.]\n",
      " [0. 1. 0. 0.]\n",
      " [0. 0. 1. 0.]\n",
      " [0. 0. 0. 1.]]\n"
     ]
    }
   ],
   "source": [
    "print(a)"
   ]
  },
  {
   "cell_type": "code",
   "execution_count": 3,
   "id": "6640bed4",
   "metadata": {},
   "outputs": [
    {
     "name": "stdout",
     "output_type": "stream",
     "text": [
      "[[2 2 2]\n",
      " [2 2 2]\n",
      " [2 2 2]]\n"
     ]
    }
   ],
   "source": [
    "b=np.full([3,3],2)\n",
    "print(b)"
   ]
  },
  {
   "cell_type": "code",
   "execution_count": 4,
   "id": "5e68e230",
   "metadata": {},
   "outputs": [
    {
     "name": "stdout",
     "output_type": "stream",
     "text": [
      "[[0. 0. 0. 0.]\n",
      " [0. 0. 0. 0.]\n",
      " [0. 0. 0. 0.]]\n",
      "[[1. 1. 1. 1.]\n",
      " [1. 1. 1. 1.]\n",
      " [1. 1. 1. 1.]]\n"
     ]
    }
   ],
   "source": [
    "print(np.zeros([3,4]))\n",
    "print(np.ones([3,4]))"
   ]
  },
  {
   "cell_type": "markdown",
   "id": "7423f6cb",
   "metadata": {},
   "source": [
    " print(np.array([1,2,3],[4,5,6]))"
   ]
  },
  {
   "cell_type": "code",
   "execution_count": 5,
   "id": "46dd7ad1",
   "metadata": {},
   "outputs": [
    {
     "name": "stdout",
     "output_type": "stream",
     "text": [
      "[[1 2 3]\n",
      " [4 5 6]]\n"
     ]
    }
   ],
   "source": [
    "print(np.array([[1,2,3],[4,5,6]]))"
   ]
  },
  {
   "cell_type": "code",
   "execution_count": 6,
   "id": "53e51957",
   "metadata": {},
   "outputs": [
    {
     "name": "stdout",
     "output_type": "stream",
     "text": [
      "[[1. 0. 0. 0.]\n",
      " [0. 1. 0. 0.]\n",
      " [0. 0. 1. 0.]\n",
      " [0. 0. 0. 1.]]\n"
     ]
    }
   ],
   "source": [
    "print(np.identity(4)) # similar as np.eye(4)"
   ]
  },
  {
   "cell_type": "code",
   "execution_count": 8,
   "id": "cd66204b",
   "metadata": {},
   "outputs": [],
   "source": [
    "text = \"Python is the most used language in top companies such as Intel, IBM, NASA, Pixar, Netflix, Facebook, JP Morgan Chase, Spotify, and many more because of its performance and its powerful libraries. To get into these companies and organizations as a Python developer, you need to master some important Python Interview Questions to crack their Python Online Assessment Round and Python Interview Round. We have prepared a list of the Top 50 Python Interview Questions along with their answers to ace interviews.\""
   ]
  },
  {
   "cell_type": "code",
   "execution_count": 17,
   "id": "3d7daa42",
   "metadata": {},
   "outputs": [],
   "source": [
    "def count_word_frequency(text):\n",
    "    # Initialize an empty dictionary to store word frequencietexts\n",
    "    word_frequency = {}\n",
    "\n",
    "    # Split the text into words\n",
    "    words = text.split()\n",
    "\n",
    "    # Count the frequency of each word\n",
    "    for word in words:\n",
    "        # Remove punctuation and convert to lowercase for simplicity\n",
    "        cleaned_word = word.strip(\".,?!\").lower()\n",
    "\n",
    "        # Update the dictionary with the word count\n",
    "        if cleaned_word in word_frequency:\n",
    "            word_frequency[cleaned_word] += 1     ## updating the key if already exsists\n",
    "        else:\n",
    "            word_frequency[cleaned_word] = 1    ## assigning the key if the key dosent exsists\n",
    "\n",
    "    return (word_frequency)\n"
   ]
  },
  {
   "cell_type": "code",
   "execution_count": 18,
   "id": "6765df66",
   "metadata": {},
   "outputs": [
    {
     "name": "stdout",
     "output_type": "stream",
     "text": [
      "{'python': 6, 'is': 1, 'the': 2, 'most': 1, 'used': 1, 'language': 1, 'in': 1, 'top': 2, 'companies': 2, 'such': 1, 'as': 2, 'intel': 1, 'ibm': 1, 'nasa': 1, 'pixar': 1, 'netflix': 1, 'facebook': 1, 'jp': 1, 'morgan': 1, 'chase': 1, 'spotify': 1, 'and': 4, 'many': 1, 'more': 1, 'because': 1, 'of': 2, 'its': 2, 'performance': 1, 'powerful': 1, 'libraries': 1, 'to': 4, 'get': 1, 'into': 1, 'these': 1, 'organizations': 1, 'a': 2, 'developer': 1, 'you': 1, 'need': 1, 'master': 1, 'some': 1, 'important': 1, 'interview': 3, 'questions': 2, 'crack': 1, 'their': 2, 'online': 1, 'assessment': 1, 'round': 2, 'we': 1, 'have': 1, 'prepared': 1, 'list': 1, '50': 1, 'along': 1, 'with': 1, 'answers': 1, 'ace': 1, 'interviews': 1}\n"
     ]
    }
   ],
   "source": [
    "word_frequency = count_word_frequency(text)\n",
    "print(word_frequency)"
   ]
  },
  {
   "cell_type": "code",
   "execution_count": 1,
   "id": "c41d942e",
   "metadata": {},
   "outputs": [
    {
     "data": {
      "text/plain": [
       "'VEbAbY'"
      ]
     },
     "execution_count": 1,
     "metadata": {},
     "output_type": "execute_result"
    }
   ],
   "source": [
    "x = \"veBaBy\"\n",
    "x.swapcase()"
   ]
  },
  {
   "cell_type": "code",
   "execution_count": 4,
   "id": "952c13d5",
   "metadata": {},
   "outputs": [
    {
     "data": {
      "text/plain": [
       "'veBaBy'"
      ]
     },
     "execution_count": 4,
     "metadata": {},
     "output_type": "execute_result"
    }
   ],
   "source": [
    "x"
   ]
  },
  {
   "cell_type": "code",
   "execution_count": 3,
   "id": "0c5bc591",
   "metadata": {},
   "outputs": [
    {
     "data": {
      "text/plain": [
       "'VEbAbY'"
      ]
     },
     "execution_count": 3,
     "metadata": {},
     "output_type": "execute_result"
    }
   ],
   "source": [
    "a = x.swapcase()\n",
    "a"
   ]
  },
  {
   "cell_type": "code",
   "execution_count": 5,
   "id": "6d8d0a1e",
   "metadata": {},
   "outputs": [
    {
     "data": {
      "text/plain": [
       "'VEbAbY'"
      ]
     },
     "execution_count": 5,
     "metadata": {},
     "output_type": "execute_result"
    }
   ],
   "source": [
    "a"
   ]
  },
  {
   "cell_type": "code",
   "execution_count": 6,
   "id": "7ec8deae",
   "metadata": {},
   "outputs": [
    {
     "data": {
      "text/plain": [
       "'E'"
      ]
     },
     "execution_count": 6,
     "metadata": {},
     "output_type": "execute_result"
    }
   ],
   "source": [
    "a[1]"
   ]
  },
  {
   "cell_type": "code",
   "execution_count": 7,
   "id": "a84d0307",
   "metadata": {},
   "outputs": [
    {
     "data": {
      "text/plain": [
       "123"
      ]
     },
     "execution_count": 7,
     "metadata": {},
     "output_type": "execute_result"
    }
   ],
   "source": [
    "b= 123\n",
    "b"
   ]
  },
  {
   "cell_type": "code",
   "execution_count": 8,
   "id": "eeb6522d",
   "metadata": {},
   "outputs": [
    {
     "ename": "TypeError",
     "evalue": "'int' object is not subscriptable",
     "output_type": "error",
     "traceback": [
      "\u001b[1;31m---------------------------------------------------------------------------\u001b[0m",
      "\u001b[1;31mTypeError\u001b[0m                                 Traceback (most recent call last)",
      "Cell \u001b[1;32mIn[8], line 1\u001b[0m\n\u001b[1;32m----> 1\u001b[0m b[\u001b[38;5;241m1\u001b[39m]\n",
      "\u001b[1;31mTypeError\u001b[0m: 'int' object is not subscriptable"
     ]
    }
   ],
   "source": [
    "b[1]"
   ]
  },
  {
   "cell_type": "code",
   "execution_count": 5,
   "id": "8a0d3325",
   "metadata": {},
   "outputs": [
    {
     "name": "stdout",
     "output_type": "stream",
     "text": [
      "hi...hi...hi\n"
     ]
    }
   ],
   "source": [
    "print(\"hi\",\"hi\",sep = \"...\", end = \"...\")\n",
    "print(\"hi\")"
   ]
  },
  {
   "cell_type": "code",
   "execution_count": 9,
   "id": "192a7cb2",
   "metadata": {},
   "outputs": [
    {
     "name": "stdout",
     "output_type": "stream",
     "text": [
      "'It's hero time!' \n",
      "\t\t -Ben 10\n"
     ]
    }
   ],
   "source": [
    "print(\"\\'It\\'s hero time!\\' \\n\\t\\t -Ben 10\")"
   ]
  },
  {
   "cell_type": "code",
   "execution_count": 10,
   "id": "5d311442",
   "metadata": {},
   "outputs": [
    {
     "name": "stdout",
     "output_type": "stream",
     "text": [
      "['False', 'None', 'True', 'and', 'as', 'assert', 'async', 'await', 'break', 'class', 'continue', 'def', 'del', 'elif', 'else', 'except', 'finally', 'for', 'from', 'global', 'if', 'import', 'in', 'is', 'lambda', 'nonlocal', 'not', 'or', 'pass', 'raise', 'return', 'try', 'while', 'with', 'yield']\n"
     ]
    }
   ],
   "source": [
    "import keyword\n",
    "print(keyword.kwlist)"
   ]
  },
  {
   "cell_type": "code",
   "execution_count": 2,
   "id": "22f672a8",
   "metadata": {},
   "outputs": [
    {
     "name": "stdout",
     "output_type": "stream",
     "text": [
      "2\n",
      "512\n"
     ]
    }
   ],
   "source": [
    "print(2%10)\n",
    "print(2**3**(2%10))"
   ]
  },
  {
   "cell_type": "code",
   "execution_count": 4,
   "id": "759e571e",
   "metadata": {},
   "outputs": [
    {
     "name": "stdout",
     "output_type": "stream",
     "text": [
      "False\n",
      "True\n"
     ]
    }
   ],
   "source": [
    "a= \"Siva\"\n",
    "b= \"siva\"\n",
    "print(a==b)\n",
    "print(a<b)"
   ]
  },
  {
   "cell_type": "code",
   "execution_count": 10,
   "id": "a214d1df",
   "metadata": {},
   "outputs": [
    {
     "name": "stdout",
     "output_type": "stream",
     "text": [
      "S: 83\n",
      "s: 115\n",
      "8: 56\n",
      "@: 64\n",
      " : 32\n"
     ]
    }
   ],
   "source": [
    "#----Ascii value--------every leter in the keyborad has Ascii value\n",
    "print(\"S:\",ord(\"S\"))\n",
    "print(\"s:\",ord(\"s\"))\n",
    "print(\"8:\",ord(\"8\"))\n",
    "print(\"@:\",ord(\"@\"))\n",
    "print(\" :\",ord(\" \"))"
   ]
  },
  {
   "cell_type": "code",
   "execution_count": 11,
   "id": "42eacd54",
   "metadata": {},
   "outputs": [
    {
     "name": "stdout",
     "output_type": "stream",
     "text": [
      "4 5\n",
      "5 4\n"
     ]
    }
   ],
   "source": [
    "#Swaping\n",
    "a=4\n",
    "b=5\n",
    "print(a,b)\n",
    "a,b = b,a\n",
    "print(a,b)"
   ]
  },
  {
   "cell_type": "code",
   "execution_count": 12,
   "id": "7742ed3b",
   "metadata": {},
   "outputs": [
    {
     "name": "stdout",
     "output_type": "stream",
     "text": [
      "10 5\n"
     ]
    }
   ],
   "source": [
    "a=5\n",
    "b=10\n",
    "a+=b\n",
    "b=a-b\n",
    "a-=b\n",
    "print(a,b)"
   ]
  },
  {
   "cell_type": "code",
   "execution_count": 7,
   "id": "bdd623f0",
   "metadata": {},
   "outputs": [
    {
     "name": "stdout",
     "output_type": "stream",
     "text": [
      "I can do everything with the help of jesusI can do everything with the help of jesusI can do everything with the help of jesusI can do everything with the help of jesusI can do everything with the help of jesusI can do everything with the help of jesusI can do everything with the help of jesusI can do everything with the help of jesusI can do everything with the help of jesusI can do everything with the help of jesus "
     ]
    }
   ],
   "source": [
    "# String Replication\n",
    "a=\"I can do everything with the help of jesus\"\n",
    "print(a*10)"
   ]
  },
  {
   "cell_type": "code",
   "execution_count": null,
   "id": "291c42b6",
   "metadata": {},
   "outputs": [],
   "source": [
    "'''\n",
    "input()-----always gets string type of data. if i give 5 it take it as a string not an integer\n",
    "i need to do type casting to change the type of data.........int(input())...float(input())\n",
    "'''"
   ]
  },
  {
   "cell_type": "code",
   "execution_count": 9,
   "id": "995161ad",
   "metadata": {},
   "outputs": [
    {
     "name": "stdout",
     "output_type": "stream",
     "text": [
      "Suvetha 1234 120.05\n",
      "0.0\n"
     ]
    }
   ],
   "source": [
    "'''\n",
    "class \n",
    "'''\n",
    "\n",
    "class Bank_account:\n",
    "    custname = \"\"   # ------- class variable ------ can access with class no need to create objecct\n",
    "    accno = 0\n",
    "    balance = 0.0\n",
    "    \n",
    "cust1 = Bank_account()\n",
    "cust1.custname = \"Suvetha\"\n",
    "cust1.accno = 1234\n",
    "cust1.balance = 120.05\n",
    "\n",
    "print(cust1.custname,cust1.accno,cust1.balance)    \n",
    "print(Bank_account.balance)"
   ]
  },
  {
   "cell_type": "code",
   "execution_count": 5,
   "id": "0281cbc1",
   "metadata": {},
   "outputs": [
    {
     "name": "stdout",
     "output_type": "stream",
     "text": [
      "4 4 20\n"
     ]
    }
   ],
   "source": [
    "'''\n",
    "__init__() method is the constructor in the python classes and its automatically called when object is created.\n",
    "It is used to initialise the object's attribute.\n",
    "'''\n",
    "class Car:\n",
    "    def __init__(self):\n",
    "        self.wheels = 4    # ----- instance variable---- can't access without object\n",
    "        self.airbags = 2\n",
    "        self.mileage = 25.04\n",
    "        \n",
    "    def movefarward(self):\n",
    "        print(\"moving!\")\n",
    "        \n",
    "    def movebackward(self):\n",
    "        print(\"moving back!\")\n",
    "        \n",
    "car1 = Car()\n",
    "car1.airbags = 4\n",
    "car1.mileage = 20\n",
    "\n",
    "print(car1.wheels, car1.airbags, car1.mileage)"
   ]
  },
  {
   "cell_type": "code",
   "execution_count": 1,
   "id": "784f1b5b",
   "metadata": {},
   "outputs": [
    {
     "name": "stdout",
     "output_type": "stream",
     "text": [
      "Swift\n",
      "wheels: 4 airbags: 3 mileage: 25.05\n",
      "moving with the speed: 60\n",
      "None\n",
      "moving back!\n",
      "None\n",
      "Inova\n",
      "wheels: 4 airbags: 2 mileage: 20.05\n"
     ]
    }
   ],
   "source": [
    "class car:\n",
    "    def __init__(self, name, no_wheels,no_airbags,mile):\n",
    "        self.carname = name\n",
    "        self.wheels = no_wheels\n",
    "        self.airbags = no_airbags\n",
    "        self.mileage = mile\n",
    "        \n",
    "    def __str__(self):\n",
    "        return self.carname\n",
    "        \n",
    "    def movefarward(self,speed):\n",
    "        print(\"moving with the speed:\",speed)\n",
    "        \n",
    "    def movebackward(self):\n",
    "        print(\"moving back!\")\n",
    "        \n",
    "car2 = car(\"Swift\",4,3,25.05)\n",
    "print(car2)\n",
    "print(\"wheels:\",car2.wheels,\"airbags:\",car2.airbags,\"mileage:\",car2.mileage)\n",
    "print(car2.movefarward(60))\n",
    "print(car2.movebackward())\n",
    "\n",
    "car3 = car(\"Inova\",4,2,20.05)\n",
    "print(car3)\n",
    "print(\"wheels:\",car3.wheels,\"airbags:\",car3.airbags,\"mileage:\",car3.mileage)"
   ]
  },
  {
   "cell_type": "code",
   "execution_count": 9,
   "id": "6346a91d",
   "metadata": {},
   "outputs": [
    {
     "name": "stdout",
     "output_type": "stream",
     "text": [
      "3\n",
      "True\n"
     ]
    }
   ],
   "source": [
    "print(getattr(car2,'airbags'))  \n",
    "print(isinstance(car2,car)) \n",
    "''' getattr() fn. used to get the value of mention attribute in the object.\n",
    "isinstance() fn. check if the object belongs to specific class or not and \n",
    "also check if a variable is of a certain type or not.'''"
   ]
  },
  {
   "cell_type": "code",
   "execution_count": 25,
   "id": "4873af7a",
   "metadata": {},
   "outputs": [
    {
     "name": "stdout",
     "output_type": "stream",
     "text": [
      "<__main__.Car object at 0x0000023C02CA3250>\n",
      "Swift\n",
      "Inova\n"
     ]
    },
    {
     "data": {
      "text/plain": [
       "' when the object is created hashcode for that object is also created ------  car1 created with the code : 23C02CA3250'"
      ]
     },
     "execution_count": 25,
     "metadata": {},
     "output_type": "execute_result"
    }
   ],
   "source": [
    "print(car1)   \n",
    "print(car2)\n",
    "print(car3)\n",
    "''' when the object is created hashcode for that object is also created ------  car1 created with the code : 23C02CA3250\n",
    "when i use __str__(self)------ then print the car(object) name not the code of that object\n",
    "'''"
   ]
  },
  {
   "cell_type": "code",
   "execution_count": 26,
   "id": "ab6e233f",
   "metadata": {},
   "outputs": [
    {
     "name": "stdout",
     "output_type": "stream",
     "text": [
      "Suvetha\n",
      "balance: 600.74 account_number: 4321\n",
      "Jeni\n",
      "balance: 897.65 account_number: 5678\n"
     ]
    }
   ],
   "source": [
    "class bank():\n",
    "    def __init__(self,name,acno,balance):\n",
    "        self.name = name\n",
    "        self.accno = acno\n",
    "        self.balance = balance\n",
    "        \n",
    "    def __str__(self):\n",
    "        return self.name\n",
    "    \n",
    "cus1= bank(\"Suvetha\",4321,600.74)\n",
    "print(cus1)\n",
    "print(\"balance:\",cus1.balance,\"account_number:\",cus1.accno)\n",
    "cus2= bank(\"Jeni\",5678,897.65)\n",
    "print(cus2)\n",
    "print(\"balance:\",cus2.balance,\"account_number:\",cus2.accno)"
   ]
  },
  {
   "cell_type": "code",
   "execution_count": 2,
   "id": "6be9e305",
   "metadata": {},
   "outputs": [
    {
     "name": "stdout",
     "output_type": "stream",
     "text": [
      "Swift\n",
      "wheels: 4\n",
      "airbags: 4 mileage: 25.05\n",
      "Swift wheels: 8 airbags: 4 mileage: 25.05\n"
     ]
    }
   ],
   "source": [
    "''' (i) ENCAPSULATION ------- Data Hiding and binding related variables and methods under the same class.\n",
    " combines variables and methods with getters and setters\n",
    " getter -------- private variable need to print outside the class with the use of getter.\n",
    " setter -------- to update the value of private variable value then use setter.'''\n",
    "\n",
    "class car:\n",
    "    def __init__(self, name, no_wheels,no_airbags,mile):\n",
    "        self.carname = name\n",
    "        self.__wheels = no_wheels   # ----- private variable\n",
    "        self.airbags = no_airbags\n",
    "        self.mileage = mile\n",
    "        \n",
    "    def __str__(self):\n",
    "        return self.carname\n",
    "        \n",
    "    def movefarward(self,speed):\n",
    "        print(\"moving with the speed:\",speed)\n",
    "        \n",
    "    def movebackward(self):\n",
    "        print(\"moving back!\")\n",
    "        \n",
    "    def get_wheels(self):             #-------- getter ----- used to print the value of private variable outside the class.\n",
    "        return self.__wheels\n",
    "    \n",
    "    def set_wheels(self,wheels_no):   #-------- setter ----- used to update the value of private variable.\n",
    "        self.__wheels = wheels_no\n",
    "        \n",
    "c1= car(\"Swift\",4,4,25.05)\n",
    "print(c1)\n",
    "print(\"wheels:\",c1.get_wheels())    # ------- to print the private variable value then need to call the  getter method.\n",
    "print(\"airbags:\",c1.airbags,\"mileage:\",c1.mileage)\n",
    "c1.set_wheels(8)   # -------- need to update then call the setter method.\n",
    "print(c1,\"wheels:\",c1.get_wheels(),\"airbags:\",c1.airbags,\"mileage:\",c1.mileage)"
   ]
  },
  {
   "cell_type": "code",
   "execution_count": 7,
   "id": "9aac1b3f",
   "metadata": {},
   "outputs": [
    {
     "name": "stdout",
     "output_type": "stream",
     "text": [
      "airbags : 4 wheels : 4\n"
     ]
    },
    {
     "data": {
      "text/plain": [
       "'moving!'"
      ]
     },
     "execution_count": 7,
     "metadata": {},
     "output_type": "execute_result"
    }
   ],
   "source": [
    "''' (ii) INHERITANCE ------ use inheritance concept to feed property from one class to another class (reusability of code)'''\n",
    "\n",
    "# Type (I) Single Inheritance ( one parent one child)\n",
    "\n",
    "class vehicle:    # -------------- Parent Class / main Class\n",
    "    no_of_wheels = 4\n",
    "    \n",
    "    def forward(self):\n",
    "        return \"moving!\"\n",
    "        \n",
    "class cars(vehicle):    # -------- Child Class / Sub Class\n",
    "    no_of_airbags = 4\n",
    "    \n",
    "cs1 = cars()\n",
    "print(\"airbags :\",cs1.no_of_airbags,\"wheels :\",cs1.no_of_wheels)\n",
    "cs1.forward()"
   ]
  },
  {
   "cell_type": "code",
   "execution_count": 9,
   "id": "8c87073d",
   "metadata": {},
   "outputs": [
    {
     "name": "stdout",
     "output_type": "stream",
     "text": [
      "airbags : 4 wheels : 4\n",
      "4 40.0\n"
     ]
    }
   ],
   "source": [
    "# Type(II) Heirarchical Inheritance ( one parent with more child)\n",
    "\n",
    "class vehicle:    # -------------- Parent Class / main Class\n",
    "    no_of_wheels = 4\n",
    "    \n",
    "    def forward(self):\n",
    "        return \"moving!\"\n",
    "        \n",
    "class cars(vehicle):    # -------- Child Class / Sub Class\n",
    "    no_of_airbags = 4\n",
    "    \n",
    "class bike(vehicle):\n",
    "    mileage = 40.0\n",
    "    \n",
    "cs1 = cars()\n",
    "print(\"airbags :\",cs1.no_of_airbags,\"wheels :\",cs1.no_of_wheels)\n",
    "cs1.forward()\n",
    "b1 = bike()\n",
    "print(b1.no_of_wheels, b1.mileage)"
   ]
  },
  {
   "cell_type": "code",
   "execution_count": 10,
   "id": "70b3fa6f",
   "metadata": {},
   "outputs": [
    {
     "name": "stdout",
     "output_type": "stream",
     "text": [
      "airbags : 4 wheels : 4 mileage : 40.0\n"
     ]
    },
    {
     "data": {
      "text/plain": [
       "'moving!'"
      ]
     },
     "execution_count": 10,
     "metadata": {},
     "output_type": "execute_result"
    }
   ],
   "source": [
    "# Type (III) Multi-Level Inheritance.\n",
    "\n",
    "class vehicle:    # -------------- Parent Class / main Class\n",
    "    no_of_wheels = 4\n",
    "    \n",
    "    def forward(self):\n",
    "        return \"moving!\"\n",
    "        \n",
    "class cars(vehicle):   \n",
    "    no_of_airbags = 4\n",
    "    \n",
    "class maruthi(cars):\n",
    "    mileage = 40.0\n",
    "    \n",
    "m1 = maruthi()\n",
    "print(\"airbags :\",m1.no_of_airbags,\"wheels :\",m1.no_of_wheels,\"mileage :\",m1.mileage)\n",
    "m1.forward()"
   ]
  },
  {
   "cell_type": "code",
   "execution_count": 11,
   "id": "479ee494",
   "metadata": {},
   "outputs": [
    {
     "name": "stdout",
     "output_type": "stream",
     "text": [
      "wheels: 4 airbags: 4 mileage: 40.0 cam: True\n"
     ]
    }
   ],
   "source": [
    "# Type (IV) Multiple Inheritancce ( two parent one child)\n",
    "\n",
    "class vehicle:    # -------------- Parent Class / main Class\n",
    "    no_of_wheels = 4\n",
    "    \n",
    "    def forward(self):\n",
    "        return \"moving!\"\n",
    "        \n",
    "class cars(vehicle):   \n",
    "    no_of_airbags = 4\n",
    "    \n",
    "class maruthi(cars):\n",
    "    mileage = 40.0\n",
    "    \n",
    "class toyota(cars):\n",
    "    mileage = 50.0\n",
    "    \n",
    "class Inova(maruthi,toyota):  # ---- same property in two parents (Diamond Property) python consider the 1st parent we mention.\n",
    "    back_cam = True\n",
    "\n",
    "c1 = Inova()\n",
    "print(\"wheels:\",c1.no_of_wheels, \"airbags:\", c1.no_of_airbags, \"mileage:\", c1.mileage,\"cam:\",c1.back_cam)\n",
    "    "
   ]
  },
  {
   "cell_type": "code",
   "execution_count": 15,
   "id": "84908e40",
   "metadata": {},
   "outputs": [
    {
     "name": "stdout",
     "output_type": "stream",
     "text": [
      "15\n",
      "101.30000000000001\n"
     ]
    }
   ],
   "source": [
    "''' (iii) Polymorphism (same things with more form)\n",
    "'''\n",
    " # Type (I) compile time Polymorphism (Method Overloading)\n",
    " # ------------- funcion overloading ---- defining multiple fn. with the same name but different parameters.   \n",
    "'''\n",
    "int sum(int a ,int b):\n",
    "    print(a+b)\n",
    "    \n",
    "float sum(float a, float b):\n",
    "    print(a+b)\n",
    "    \n",
    "int sum(int a ,int b, int c):\n",
    "    print(a+b+c)\n",
    "    \n",
    "sum(2,3) ----- int\n",
    "sum(5.6, 9.2) ----- float\n",
    "sum(3,7,6) ----- sum() with 3 argument\n",
    "\n",
    "specify with the data type and no. of argument in another languages'''\n",
    "\n",
    "# In Python\n",
    "class summation:\n",
    "    def summ(self,*args):\n",
    "        ans = 0 \n",
    "        for i in args:\n",
    "            ans += i\n",
    "        return ans\n",
    "    \n",
    "add = summation()\n",
    "print(add.summ(2,4,5,4))\n",
    "print(add.summ(5,7,8,3.4,77.9))"
   ]
  },
  {
   "cell_type": "code",
   "execution_count": 8,
   "id": "3a1c39e0",
   "metadata": {},
   "outputs": [
    {
     "name": "stdout",
     "output_type": "stream",
     "text": [
      "moving forward!\n",
      "playing song!\n"
     ]
    }
   ],
   "source": [
    "'''\n",
    "(iv) ABSTRACTION  (hiding unneccsary details and reusability)'''\n",
    "\n",
    "from abc import ABC, abstractmethod\n",
    "\n",
    "class car(ABC):   # ------ abstract class(kandipa indha model la dhaan intha abstract class ah use pandra class define aaghanum)\n",
    "    \n",
    "    @abstractmethod     # ------------ writing something with @ is named as DECORATORS\n",
    "    def moveForward(self):   \n",
    "        pass     # --------- method inside absract class is abstract method ----- not need to define the fn. but specify the fn.\n",
    "    \n",
    "    @abstractmethod\n",
    "    def moveBackward(self): # ---- without defining object i can't call the method [these method are depending on the object]\n",
    "        pass\n",
    "    \n",
    "    @staticmethod  # ------ we don't need to create object to call the class method [static method is depending on the class]\n",
    "    def fm():\n",
    "        pass\n",
    "    \n",
    "    \n",
    "class inova(car):\n",
    "\n",
    "    def moveForward(self):           # ------ without defining the abstract method we can't access it in the class\n",
    "        print(\"moving forward!\")\n",
    "    \n",
    "    def moveBackward(self):\n",
    "        print(\"moving backward!\")\n",
    "    \n",
    "    def fm():\n",
    "        print(\"playing song!\")\n",
    "        \n",
    "\n",
    "cc = inova()\n",
    "cc.moveForward()\n",
    "\n",
    "inova.fm()    #  staticmethod example ------ without define the object calling the method fm() in the class inova"
   ]
  },
  {
   "cell_type": "code",
   "execution_count": 20,
   "id": "b372b305",
   "metadata": {},
   "outputs": [
    {
     "name": "stdout",
     "output_type": "stream",
     "text": [
      "['What is SparkContext in PySpark?\\n', 'SparkContext is the entry point to interact with Apache Spark in a Python (PySpark) application. It allows you to connect to a Spark cluster and run operations on RDDs (Resilient Distributed Datasets).\\n', '\\n', 'It is part of the pyspark package and is required before working with low-level Spark operations.\\n', 'When to Use SparkContext?\\n', 'If you need low-level RDD operations.\\n', 'If you are working with older versions of Spark (before 2.0).\\n', 'For DataFrame operations, use SparkSession.']\n"
     ]
    }
   ],
   "source": [
    "# File Handling.     'r' only for read --- 'w' can write(delete exist data and write new) --- 'a' append can add data\n",
    "\n",
    "file = open('C:/Users/suvet/Downloads/sparkfile.txt','r')\n",
    "print(file.read())  # ----- read(5) ------- reads totally as letter by letter (only 5 letter)\n",
    "print(file.readline())   # ----- readline() ----- read line by line 1st line then 2nd line.\n",
    "print(file.readlines())   # ------ readlines() ----- read total lines and output as list each line is each element in the list"
   ]
  },
  {
   "cell_type": "code",
   "execution_count": 24,
   "id": "148ea06f",
   "metadata": {},
   "outputs": [],
   "source": [
    "f = open('C:/Users/suvet/Downloads/sparkfile.txt','w')\n",
    "f.write(\"God bless you\")\n",
    "f.close()"
   ]
  },
  {
   "cell_type": "code",
   "execution_count": 26,
   "id": "ed5bd563",
   "metadata": {},
   "outputs": [],
   "source": [
    "ff = open('C:/Users/suvet/Downloads/sparkfile.txt','a')\n",
    "ff.write(\"'What is SparkContext in PySpark?\\n', 'SparkContext is the entry point to interact with Apache Spark in a Python (PySpark) application. It allows you to connect to a Spark cluster and run operations on RDDs (Resilient Distributed Datasets).\\n', '\\n', 'It is part of the pyspark package and is required before working with low-level Spark operations.\\n', 'When to Use SparkContext?\\n', 'If you need low-level RDD operations.\\n', 'If you are working with older versions of Spark (before 2.0).\\n', 'For DataFrame operations, use SparkSession.'\")\n",
    "ff.close()"
   ]
  },
  {
   "cell_type": "code",
   "execution_count": 30,
   "id": "76fbf8d7",
   "metadata": {},
   "outputs": [
    {
     "name": "stdout",
     "output_type": "stream",
     "text": [
      "God bless you'What is SparkContext in PySpark?\n",
      "', 'SparkContext is the entry point to interact with Apache Spark in a Python (PySpark) application. It allows you to connect to a Spark cluster and run operations on RDDs (Resilient Distributed Datasets).\n",
      "', '\n",
      "', 'It is part of the pyspark package and is required before working with low-level Spark operations.\n",
      "', 'When to Use SparkContext?\n",
      "', 'If you need low-level RDD operations.\n",
      "', 'If you are working with older versions of Spark (before 2.0).\n",
      "', 'For DataFrame operations, use SparkSession.'\n",
      "God bless you'What is SparkContext in PySpark?\n",
      "', 'SparkContext is the entry point to interact with Apache Spark in a Python (PySpark) application. It allows you to connect to a Spark cluster and run operations on RDDs (Resilient Distributed Datasets).\n",
      "', '\n",
      "', 'It is part of the pyspark package and is required before working with low-level Spark operations.\n",
      "', 'When to Use SparkContext?\n",
      "', 'If you need low-level RDD operations.\n",
      "', 'If you are working with older versions of Spark (before 2.0).\n",
      "', 'For DataFrame operations, use SparkSession.'\n"
     ]
    }
   ],
   "source": [
    "file = open('C:/Users/suvet/Downloads/sparkfile.txt','r')\n",
    "print(file.read())\n",
    "file.seek(0) # once read the cursor goes to last so we can't read from 1st ----- if need to read from 1st then set seek(0) \n",
    "print(file.read())                                 # seek(0) ---- point the cursor from 1st\n",
    "file.close()"
   ]
  },
  {
   "cell_type": "code",
   "execution_count": 31,
   "id": "b663dbcd",
   "metadata": {},
   "outputs": [
    {
     "name": "stdout",
     "output_type": "stream",
     "text": [
      "God bless you'What is SparkContext in PySpark?\n",
      "', 'SparkContext is the entry point to interact with Apache Spark in a Python (PySpark) application. It allows you to connect to a Spark cluster and run operations on RDDs (Resilient Distributed Datasets).\n",
      "', '\n",
      "', 'It is part of the pyspark package and is required before working with low-level Spark operations.\n",
      "', 'When to Use SparkContext?\n",
      "', 'If you need low-level RDD operations.\n",
      "', 'If you are working with older versions of Spark (before 2.0).\n",
      "', 'For DataFrame operations, use SparkSession.'\n"
     ]
    }
   ],
   "source": [
    "with open('C:/Users/suvet/Downloads/sparkfile.txt','r') as file:    # in this method its automatically close the file.\n",
    "    print(file.read())"
   ]
  }
 ],
 "metadata": {
  "kernelspec": {
   "display_name": "Python 3 (ipykernel)",
   "language": "python",
   "name": "python3"
  },
  "language_info": {
   "codemirror_mode": {
    "name": "ipython",
    "version": 3
   },
   "file_extension": ".py",
   "mimetype": "text/x-python",
   "name": "python",
   "nbconvert_exporter": "python",
   "pygments_lexer": "ipython3",
   "version": "3.11.5"
  }
 },
 "nbformat": 4,
 "nbformat_minor": 5
}
