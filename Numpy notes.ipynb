{
 "cells": [
  {
   "cell_type": "markdown",
   "id": "dd7def47",
   "metadata": {},
   "source": [
    "# Numpy\n",
    "The numpy library in Python is a powerful library for numerical and scientific computing. It provides support for large, multi-dimensional arrays and matrices, along with a collection of high-level mathematical functions to operate on these arrays."
   ]
  },
  {
   "cell_type": "code",
   "execution_count": 1,
   "id": "76abb9dc",
   "metadata": {},
   "outputs": [
    {
     "name": "stdout",
     "output_type": "stream",
     "text": [
      "[1 2 3]\n",
      "1\n",
      "(3,)\n",
      "3\n",
      "4\n",
      "12\n"
     ]
    }
   ],
   "source": [
    "#array creation\n",
    "import numpy as np  #-----------------------------------ONE DIMENNSION\n",
    "a=np.array([1,2,3])\n",
    "print(a)\n",
    "print(a.ndim)\n",
    "print(a.shape)\n",
    "print(a.size)\n",
    "print(a.itemsize)\n",
    "print(a.nbytes)"
   ]
  },
  {
   "cell_type": "code",
   "execution_count": 2,
   "id": "964cc1c3",
   "metadata": {},
   "outputs": [
    {
     "name": "stdout",
     "output_type": "stream",
     "text": [
      "[[1 2 3]\n",
      " [4 5 6]]\n",
      "2\n",
      "(2, 3)\n",
      "6\n",
      "4\n",
      "24\n"
     ]
    }
   ],
   "source": [
    "b=np.array([[1,2,3],[4,5,6]])#------------------------TOW DIMENSION\n",
    "print(b)\n",
    "print(b.ndim)\n",
    "print(b.shape)\n",
    "print(b.size)\n",
    "print(b.itemsize)\n",
    "print(b.nbytes)"
   ]
  },
  {
   "cell_type": "code",
   "execution_count": 11,
   "id": "7871036e",
   "metadata": {},
   "outputs": [
    {
     "name": "stdout",
     "output_type": "stream",
     "text": [
      "[[[1 2 3]\n",
      "  [4 5 6]\n",
      "  [7 8 9]]]\n",
      "3\n",
      "(1, 3, 3)\n",
      "9\n"
     ]
    }
   ],
   "source": [
    "c=np.array([[[1,2,3],[4,5,6],[7,8,9]]]) #-----THREE DIMENSION\n",
    "print(c)\n",
    "print(c.ndim)\n",
    "print(c.shape)\n",
    "print(c.size)"
   ]
  },
  {
   "cell_type": "code",
   "execution_count": 13,
   "id": "a216ea51",
   "metadata": {},
   "outputs": [
    {
     "name": "stdout",
     "output_type": "stream",
     "text": [
      "[[1 1 1]\n",
      " [1 1 1]]\n"
     ]
    }
   ],
   "source": [
    "d=np.ones([2,3],dtype=int) #-----------------------can specify the dtype,default float\n",
    "print(d)"
   ]
  },
  {
   "cell_type": "code",
   "execution_count": 14,
   "id": "7064ac47",
   "metadata": {},
   "outputs": [
    {
     "name": "stdout",
     "output_type": "stream",
     "text": [
      "[[0. 0. 0.]\n",
      " [0. 0. 0.]]\n"
     ]
    }
   ],
   "source": [
    "e=np.zeros([2,3])\n",
    "print(e)"
   ]
  },
  {
   "cell_type": "code",
   "execution_count": 15,
   "id": "8b85553b",
   "metadata": {},
   "outputs": [
    {
     "name": "stdout",
     "output_type": "stream",
     "text": [
      "[[4 4 4]\n",
      " [4 4 4]]\n"
     ]
    }
   ],
   "source": [
    "f=np.full([2,3],4)\n",
    "print(f)"
   ]
  },
  {
   "cell_type": "code",
   "execution_count": 19,
   "id": "1995dc2a",
   "metadata": {},
   "outputs": [
    {
     "name": "stdout",
     "output_type": "stream",
     "text": [
      "[[1. 0. 0. 0.]\n",
      " [0. 1. 0. 0.]\n",
      " [0. 0. 1. 0.]\n",
      " [0. 0. 0. 1.]]\n",
      "[[1. 0. 0.]\n",
      " [0. 1. 0.]\n",
      " [0. 0. 1.]]\n"
     ]
    }
   ],
   "source": [
    "g=np.eye(4)\n",
    "print(g)\n",
    "\n",
    "h=np.identity(3)\n",
    "print(h)"
   ]
  },
  {
   "cell_type": "code",
   "execution_count": 22,
   "id": "9bcb304a",
   "metadata": {},
   "outputs": [
    {
     "name": "stdout",
     "output_type": "stream",
     "text": [
      "[[0. 0. 0.]\n",
      " [0. 0. 0.]]\n"
     ]
    }
   ],
   "source": [
    "i=np.empty([2,3])\n",
    "print(i)"
   ]
  },
  {
   "cell_type": "code",
   "execution_count": 27,
   "id": "aca80360",
   "metadata": {},
   "outputs": [
    {
     "name": "stdout",
     "output_type": "stream",
     "text": [
      "[]\n"
     ]
    }
   ],
   "source": [
    "b= np.array([],dtype = int) #-------------------creating empty array\n",
    "print(b)"
   ]
  },
  {
   "cell_type": "code",
   "execution_count": 33,
   "id": "06e1ead7",
   "metadata": {},
   "outputs": [
    {
     "name": "stdout",
     "output_type": "stream",
     "text": [
      "[6]\n",
      "[7]\n",
      "[]\n"
     ]
    }
   ],
   "source": [
    "print(np.append(b,6))# don't channge in inplace\n",
    "print(np.append(b,7))\n",
    "\n",
    "print(b)"
   ]
  },
  {
   "cell_type": "code",
   "execution_count": 5,
   "id": "97eb8187",
   "metadata": {},
   "outputs": [
    {
     "name": "stdout",
     "output_type": "stream",
     "text": [
      "[ 3  7 11 15 19]\n",
      "[ 2 12 30 56 90]\n",
      "190\n",
      "6.0\n",
      "[1.41421356 2.         2.44948974 2.82842712 3.16227766]\n"
     ]
    }
   ],
   "source": [
    "a= np.array([2,4,6,8,10])\n",
    "b= np.array([1,3,5,7,9])\n",
    "\n",
    "print(a+b)\n",
    "print(a*b)\n",
    "print(np.dot(a,b))\n",
    "print(np.mean(a))\n",
    "print(np.sqrt(a))"
   ]
  },
  {
   "cell_type": "code",
   "execution_count": 46,
   "id": "7197b2e3",
   "metadata": {},
   "outputs": [
    {
     "name": "stdout",
     "output_type": "stream",
     "text": [
      "0.7728242075097109\n",
      "[[0.77605452 0.45986331 0.03503228]\n",
      " [0.91926393 0.90883222 0.67677196]]\n",
      "float64\n",
      "(2, 3)\n",
      "6\n",
      "2\n"
     ]
    }
   ],
   "source": [
    "a=np.random.rand()#------------------gives random value between 0 and 1.......if mention any range gives empty array\n",
    "print(a)\n",
    "b=np.random.rand(2,3)\n",
    "print(b)\n",
    "print(b.dtype)\n",
    "print(b.shape)\n",
    "print(b.size)\n",
    "print(b.ndim)"
   ]
  },
  {
   "cell_type": "code",
   "execution_count": 7,
   "id": "7492d297",
   "metadata": {},
   "outputs": [
    {
     "name": "stdout",
     "output_type": "stream",
     "text": [
      "11\n",
      "****\n",
      "[[21 18  3]\n",
      " [17  9 18]\n",
      " [ 6  4 19]\n",
      " [20 19  5]]\n",
      "****\n",
      "[[  4  -1 -10]\n",
      " [  5  -4   1]]\n"
     ]
    }
   ],
   "source": [
    "a=np.random.randint(1,20) #---------------gives random interger with given range-----must need to specify the range else error\n",
    "print(a)\n",
    "print(\"****\")\n",
    "b=np.random.randint(1,24,size=(4,3))\n",
    "print(b)\n",
    "print(\"****\")\n",
    "c=np.random.randint(-10,10,size=(2,3))\n",
    "print(c)"
   ]
  },
  {
   "cell_type": "code",
   "execution_count": 8,
   "id": "92cd872a",
   "metadata": {},
   "outputs": [
    {
     "name": "stdout",
     "output_type": "stream",
     "text": [
      "[[15.46022061 -8.37715033]\n",
      " [ 6.80914819  8.45349727]]\n",
      "***\n",
      "1.3819870570896633\n"
     ]
    }
   ],
   "source": [
    "a=np.random.normal(1,10,size=(2,2))#--------(mean,std)\n",
    "print(a)\n",
    "print(\"***\")\n",
    "b=np.random.normal() #------------if not mention the parameter then mean=0,std=1\n",
    "print(b)"
   ]
  },
  {
   "cell_type": "code",
   "execution_count": 10,
   "id": "2c131b41",
   "metadata": {},
   "outputs": [
    {
     "name": "stdout",
     "output_type": "stream",
     "text": [
      "[[5.18570117 9.30920738]\n",
      " [8.20989213 2.32575468]]\n"
     ]
    }
   ],
   "source": [
    "a=np.random.uniform(1,10,size=(2,2))\n",
    "print(a)"
   ]
  },
  {
   "cell_type": "code",
   "execution_count": 4,
   "id": "491f6225",
   "metadata": {},
   "outputs": [
    {
     "name": "stdout",
     "output_type": "stream",
     "text": [
      "2\n",
      "***\n",
      "[1 1 1]\n",
      "***\n",
      "[6 5 4 3]\n"
     ]
    }
   ],
   "source": [
    "a=np.random.choice([1,2,3,4,5,6])\n",
    "print(a)\n",
    "print(\"***\")\n",
    "b=np.random.choice([1,2,3,4,5,6,3,2],size=3,replace=True)#------------replace=True means repeated values in output\n",
    "print(b)\n",
    "print(\"***\")\n",
    "c=np.random.choice([1,2,3,4,5,6],size=4,replace=False)\n",
    "print(c)"
   ]
  },
  {
   "cell_type": "code",
   "execution_count": 7,
   "id": "afb07578",
   "metadata": {},
   "outputs": [
    {
     "name": "stdout",
     "output_type": "stream",
     "text": [
      "86.5\n"
     ]
    }
   ],
   "source": [
    "import numpy as np\n",
    "d= [10,20,30,40,50,60,70,80,90,100]\n",
    "p = np.percentile(d,85)\n",
    "print(p)"
   ]
  },
  {
   "cell_type": "code",
   "execution_count": 8,
   "id": "71868f3e",
   "metadata": {},
   "outputs": [
    {
     "name": "stdout",
     "output_type": "stream",
     "text": [
      "-0.02818501518371397\n"
     ]
    }
   ],
   "source": [
    "from scipy.stats import skew\n",
    "d = [100,90,60,80,30,50,40,10,1]\n",
    "s = skew(d)\n",
    "print(s)"
   ]
  },
  {
   "cell_type": "code",
   "execution_count": 12,
   "id": "45ab6ce3",
   "metadata": {},
   "outputs": [
    {
     "name": "stdout",
     "output_type": "stream",
     "text": [
      "-1.4211790687768922\n"
     ]
    }
   ],
   "source": [
    "from scipy.stats import kurtosis\n",
    "d= [10,99,30,40,18,80,70,60,90,1]\n",
    "k = kurtosis(d)\n",
    "print(k)"
   ]
  }
 ],
 "metadata": {
  "kernelspec": {
   "display_name": "Python 3 (ipykernel)",
   "language": "python",
   "name": "python3"
  },
  "language_info": {
   "codemirror_mode": {
    "name": "ipython",
    "version": 3
   },
   "file_extension": ".py",
   "mimetype": "text/x-python",
   "name": "python",
   "nbconvert_exporter": "python",
   "pygments_lexer": "ipython3",
   "version": "3.11.5"
  }
 },
 "nbformat": 4,
 "nbformat_minor": 5
}
