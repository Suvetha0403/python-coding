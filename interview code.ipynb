{
 "cells": [
  {
   "cell_type": "code",
   "execution_count": 1,
   "id": "e5574dee",
   "metadata": {},
   "outputs": [
    {
     "name": "stdout",
     "output_type": "stream",
     "text": [
      "abcddcba is palindrome\n"
     ]
    }
   ],
   "source": [
    "# Write a Python program to check if a string is a palindrome.\n",
    "x= \"abcddcba\"\n",
    "y= x[::-1]\n",
    "if x==y:\n",
    "    print(x, \"is palindrome\")\n",
    "else:\n",
    "    print(x, \"is not a palindrome\")\n",
    "    "
   ]
  },
  {
   "cell_type": "code",
   "execution_count": 2,
   "id": "79889de3",
   "metadata": {},
   "outputs": [
    {
     "name": "stdout",
     "output_type": "stream",
     "text": [
      "mom is palindrome\n"
     ]
    }
   ],
   "source": [
    "#void fn.\n",
    "def pal(x):\n",
    "    y = x[::-1]\n",
    "    if y==x:\n",
    "        return f\"{x} is palindrome\"\n",
    "    else:\n",
    "        return f\"{x} is not a palindrome\"\n",
    "print(pal(\"mom\"))"
   ]
  },
  {
   "cell_type": "code",
   "execution_count": 3,
   "id": "30b5d29e",
   "metadata": {},
   "outputs": [
    {
     "name": "stdout",
     "output_type": "stream",
     "text": [
      "mom is palindrome\n",
      "None\n"
     ]
    }
   ],
   "source": [
    "# non-void fn.\n",
    "def pal(x):\n",
    "    y = x[::-1]\n",
    "    if y==x:\n",
    "        print(f\"{x} is palindrome\")\n",
    "    else:\n",
    "        print(f\"{x} is not a palindrome\")\n",
    "print(pal(\"mom\"))"
   ]
  },
  {
   "cell_type": "code",
   "execution_count": 4,
   "id": "18ee5057",
   "metadata": {},
   "outputs": [
    {
     "data": {
      "text/plain": [
       "24"
      ]
     },
     "execution_count": 4,
     "metadata": {},
     "output_type": "execute_result"
    }
   ],
   "source": [
    "# Write a Python program to find the factorial of the number\n",
    "def factorial(n):\n",
    "    if n == 0:\n",
    "        return 1\n",
    "    else:\n",
    "        return n * factorial(n-1)\n",
    "factorial(4)\n"
   ]
  },
  {
   "cell_type": "code",
   "execution_count": 5,
   "id": "f3db572d",
   "metadata": {},
   "outputs": [
    {
     "name": "stdout",
     "output_type": "stream",
     "text": [
      "15\n"
     ]
    },
    {
     "data": {
      "text/plain": [
       "'----Recursion........ a fn. calls itself directly or indirectly inside the fn. to solve the pblm.\\nbreaking the pblm. to smaller sub pblm. to solve it.'"
      ]
     },
     "execution_count": 5,
     "metadata": {},
     "output_type": "execute_result"
    }
   ],
   "source": [
    "# Write the program to find the sum of n natural number. \n",
    "def sum_of_n(n):\n",
    "    if n==1:\n",
    "        return 1\n",
    "    return n + sum_of_n(n-1)\n",
    "print(sum_of_n(5))\n",
    "\n",
    "'''----Recursion........ a fn. calls itself directly or indirectly inside the fn. to solve the pblm.\n",
    "breaking the pblm. to smaller sub pblm. to solve it.'''"
   ]
  },
  {
   "cell_type": "code",
   "execution_count": 31,
   "id": "db7e5eb7",
   "metadata": {},
   "outputs": [
    {
     "name": "stdout",
     "output_type": "stream",
     "text": [
      "153\n"
     ]
    },
    {
     "data": {
      "text/plain": [
       "'armstrong number'"
      ]
     },
     "execution_count": 31,
     "metadata": {},
     "output_type": "execute_result"
    }
   ],
   "source": [
    "# write code to check if it is armstorng number or not.\n",
    "def arm(n):\n",
    "    num = str(n)\n",
    "    power = len(num)\n",
    "    total = sum((int(digit)**power for digit in num))\n",
    "    print(total)\n",
    "    if total == n:\n",
    "        return \"armstrong number\"\n",
    "    else:\n",
    "        return \"no armstrong number\"\n",
    "arm(153)"
   ]
  },
  {
   "cell_type": "code",
   "execution_count": 6,
   "id": "78fe95fa",
   "metadata": {},
   "outputs": [
    {
     "name": "stdout",
     "output_type": "stream",
     "text": [
      "5\n",
      "5\n"
     ]
    }
   ],
   "source": [
    "# Write a Python program to find the smallest element in a list.\n",
    "x=[10,20,30,40,50,15,25,5]\n",
    "num=x[0]\n",
    "for i in x:\n",
    "    if i < num:\n",
    "        num = i\n",
    "print(num)\n",
    "\n",
    "print(min(x))"
   ]
  },
  {
   "cell_type": "code",
   "execution_count": 7,
   "id": "a19f38f1",
   "metadata": {},
   "outputs": [
    {
     "name": "stdout",
     "output_type": "stream",
     "text": [
      "50\n",
      "50\n"
     ]
    }
   ],
   "source": [
    "# Write a Python program to find the largest element in a list.\n",
    "x=[10,20,8,40,50,15,25,5]\n",
    "num =x[0]\n",
    "for i in x:\n",
    "    if i > num:\n",
    "        num = i\n",
    "print(num)\n",
    "    \n",
    "print(max(x))"
   ]
  },
  {
   "cell_type": "code",
   "execution_count": 8,
   "id": "92f38233",
   "metadata": {},
   "outputs": [
    {
     "name": "stdout",
     "output_type": "stream",
     "text": [
      "86\n"
     ]
    }
   ],
   "source": [
    "#using max() with list\n",
    "def larg(lst):\n",
    "    return max(lst)\n",
    "print(larg([10,20,30,40,20,50,70,86]))"
   ]
  },
  {
   "cell_type": "code",
   "execution_count": 9,
   "id": "5faa2a18",
   "metadata": {},
   "outputs": [
    {
     "name": "stdout",
     "output_type": "stream",
     "text": [
      "9\n"
     ]
    }
   ],
   "source": [
    "def lar(n1,n2,n3):\n",
    "    return max(n1,n2,n3)\n",
    "print(lar(4,9,2))"
   ]
  },
  {
   "cell_type": "code",
   "execution_count": 10,
   "id": "56995169",
   "metadata": {},
   "outputs": [
    {
     "name": "stdout",
     "output_type": "stream",
     "text": [
      "83\n"
     ]
    }
   ],
   "source": [
    "# using max() with tuple\n",
    "def lrg(*args):\n",
    "    return max(*args)\n",
    "print(lrg(4,2,6,7,83,22))"
   ]
  },
  {
   "cell_type": "code",
   "execution_count": 11,
   "id": "450e78f1",
   "metadata": {},
   "outputs": [
    {
     "name": "stdout",
     "output_type": "stream",
     "text": [
      "reversed_string gfedcba\n"
     ]
    }
   ],
   "source": [
    "# Write a Python program to reverse a string.\n",
    "x=\"abcdefg\"\n",
    "print(\"reversed_string\", x[::-1])"
   ]
  },
  {
   "cell_type": "code",
   "execution_count": 12,
   "id": "9e33fb8d",
   "metadata": {},
   "outputs": [
    {
     "name": "stdout",
     "output_type": "stream",
     "text": [
      "[6 5 4 3 2 1]\n"
     ]
    }
   ],
   "source": [
    "# reverse the array using numpy flip\n",
    "import numpy as np\n",
    "x=np.array([1,2,3,4,5,6])\n",
    "y= np.flip(x)\n",
    "print(y)\n"
   ]
  },
  {
   "cell_type": "code",
   "execution_count": 13,
   "id": "60a8cd30",
   "metadata": {},
   "outputs": [
    {
     "name": "stdout",
     "output_type": "stream",
     "text": [
      "[[2 4 8 6 9 8]\n",
      " [6 5 4 3 2 1]]\n"
     ]
    }
   ],
   "source": [
    "import numpy as np\n",
    "x=np.array([[1,2,3,4,5,6],[8,9,6,8,4,2]])\n",
    "y= np.flip(x)\n",
    "print(y)\n"
   ]
  },
  {
   "cell_type": "code",
   "execution_count": 14,
   "id": "2bad500d",
   "metadata": {},
   "outputs": [
    {
     "name": "stdout",
     "output_type": "stream",
     "text": [
      "[1, 2, 3, 4, 5, 6]\n",
      "[6, 5, 4, 3, 2, 1]\n",
      "[1, 2, 3, 4, 5, 6]\n"
     ]
    }
   ],
   "source": [
    "# reverse list using reverse() fn.\n",
    "x=[1,2,3,4,5,6]\n",
    "print(x)\n",
    "x.reverse()\n",
    "print(x)\n",
    "print(x[::-1])"
   ]
  },
  {
   "cell_type": "code",
   "execution_count": 12,
   "id": "72f05f85",
   "metadata": {},
   "outputs": [
    {
     "name": "stdout",
     "output_type": "stream",
     "text": [
      "abcdefgh\n"
     ]
    },
    {
     "ename": "AttributeError",
     "evalue": "'str' object has no attribute 'reverse'",
     "output_type": "error",
     "traceback": [
      "\u001b[1;31m---------------------------------------------------------------------------\u001b[0m",
      "\u001b[1;31mAttributeError\u001b[0m                            Traceback (most recent call last)",
      "Cell \u001b[1;32mIn[12], line 3\u001b[0m\n\u001b[0;32m      1\u001b[0m s \u001b[38;5;241m=\u001b[39m \u001b[38;5;124m\"\u001b[39m\u001b[38;5;124mabcdefgh\u001b[39m\u001b[38;5;124m\"\u001b[39m\n\u001b[0;32m      2\u001b[0m \u001b[38;5;28mprint\u001b[39m(s)\n\u001b[1;32m----> 3\u001b[0m s\u001b[38;5;241m.\u001b[39mreverse()\n\u001b[0;32m      4\u001b[0m \u001b[38;5;28mprint\u001b[39m(s)\n",
      "\u001b[1;31mAttributeError\u001b[0m: 'str' object has no attribute 'reverse'"
     ]
    }
   ],
   "source": [
    "s = \"abcdefgh\"\n",
    "print(s)\n",
    "s.reverse()   # ------- string can't be reverse using reverse() fn.\n",
    "print(s)"
   ]
  },
  {
   "cell_type": "code",
   "execution_count": 15,
   "id": "1ce89b5f",
   "metadata": {},
   "outputs": [
    {
     "name": "stdout",
     "output_type": "stream",
     "text": [
      "3 : 2\n",
      "1 : 2\n",
      "2 : 2\n",
      "4 : 2\n"
     ]
    }
   ],
   "source": [
    "# Write a Python program to count the frequency of each element in a list.\n",
    "x=[1,2,3,4,5,3,1,2,4,6,7]\n",
    "count={}\n",
    "y=[]\n",
    "for i in x:\n",
    "    if i not in y:\n",
    "        y.append(i)\n",
    "        count[i] = 1\n",
    "    else:\n",
    "        count[i] += 1\n",
    "        print(i,\":\",count[i])\n",
    "    \n",
    "        "
   ]
  },
  {
   "cell_type": "code",
   "execution_count": 16,
   "id": "700f9297",
   "metadata": {},
   "outputs": [
    {
     "name": "stdout",
     "output_type": "stream",
     "text": [
      "{1: 2, 2: 3, 3: 1, 4: 2, 5: 2, 7: 1, 8: 2, 9: 1, 6: 1, 10: 1}\n"
     ]
    }
   ],
   "source": [
    "from collections import Counter\n",
    "def countfr(lst):\n",
    "    return dict(Counter(lst))\n",
    "print(countfr([1,2,3,4,5,7,8,4,2,8,2,9,5,1,6,10]))"
   ]
  },
  {
   "cell_type": "code",
   "execution_count": 17,
   "id": "c6b6676c",
   "metadata": {},
   "outputs": [
    {
     "name": "stdout",
     "output_type": "stream",
     "text": [
      "{2: 3, 4: 2, 6: 2, 8: 1, 5: 1, 7: 1}\n"
     ]
    }
   ],
   "source": [
    "from collections import Counter\n",
    "def count_freq(*args):\n",
    "    return dict(Counter(args))\n",
    "print(count_freq(2,4,6,8,5,4,2,7,6,2))"
   ]
  },
  {
   "cell_type": "code",
   "execution_count": 18,
   "id": "05224a45",
   "metadata": {},
   "outputs": [
    {
     "name": "stdout",
     "output_type": "stream",
     "text": [
      "talented\n"
     ]
    }
   ],
   "source": [
    "# Write a python code to find the maximum length of element in string.\n",
    "def maxlen(s):\n",
    "    word = s.split()\n",
    "    return max(word,key = len)\n",
    "print(maxlen(\"suvetha is a talented girl\"))"
   ]
  },
  {
   "cell_type": "code",
   "execution_count": 19,
   "id": "ebf24052",
   "metadata": {},
   "outputs": [
    {
     "name": "stdout",
     "output_type": "stream",
     "text": [
      "maximum\n"
     ]
    }
   ],
   "source": [
    "# Write a python code to find the maximum length of element in string without using max() fn.\n",
    "def maxl(s):\n",
    "    word = s.split()\n",
    "    longest = word[0]\n",
    "    for i in word:\n",
    "        if len(i) > len(longest):\n",
    "            longest = i\n",
    "    print(longest)\n",
    "    \n",
    "maxl(\"Write a python code to find the maximum length of element in string\")"
   ]
  },
  {
   "cell_type": "code",
   "execution_count": 15,
   "id": "e69aa611",
   "metadata": {},
   "outputs": [
    {
     "name": "stdout",
     "output_type": "stream",
     "text": [
      "to\n"
     ]
    }
   ],
   "source": [
    "# Write a python code to find the minimum length of element in string without using min() fn.\n",
    "def maxl(s):\n",
    "    word = s.split()\n",
    "    shortest = word[0]\n",
    "    for i in word:\n",
    "        if len(i) < len(shortest):\n",
    "            shortest = i\n",
    "    print(shortest)\n",
    "    \n",
    "maxl(\"Write python code to find the minimum length of element in string\")"
   ]
  },
  {
   "cell_type": "code",
   "execution_count": 20,
   "id": "c2ef35cd",
   "metadata": {},
   "outputs": [
    {
     "name": "stdout",
     "output_type": "stream",
     "text": [
      "{'Friend': 2, 'indeed': 1, 'is': 1, 'a': 1, 'in': 1, 'deed': 1}\n"
     ]
    }
   ],
   "source": [
    "# Write a Python program to count the frequency of each word in a string.\n",
    "from collections import Counter\n",
    "def freq(s):\n",
    "    word = s.split()\n",
    "    return dict(Counter(word))\n",
    "print(freq(\"Friend indeed is a Friend in deed\"))"
   ]
  },
  {
   "cell_type": "code",
   "execution_count": 21,
   "id": "9d3b99cf",
   "metadata": {},
   "outputs": [
    {
     "name": "stdout",
     "output_type": "stream",
     "text": [
      "{'F': 2, 'r': 2, 'i': 5, 'e': 6, 'n': 4, 'd': 6, ' ': 6, 's': 1, 'a': 1}\n"
     ]
    }
   ],
   "source": [
    "from collections import Counter\n",
    "def freq(s):\n",
    "    return dict(Counter(s))\n",
    "print(freq(\"Friend indeed is a Friend in deed\"))"
   ]
  },
  {
   "cell_type": "code",
   "execution_count": 17,
   "id": "4f1610b8",
   "metadata": {},
   "outputs": [
    {
     "name": "stdout",
     "output_type": "stream",
     "text": [
      "28 : composite\n"
     ]
    }
   ],
   "source": [
    "# Write a Python program to check if a number is composite or prime\n",
    "def comp(n):\n",
    "    if n==1:\n",
    "        return False\n",
    "    for i in range(2,int((n**0.5)+1)):\n",
    "        if n%i == 0:\n",
    "            return f\"{n} : composite\"\n",
    "    return f\"{n} : prime\"\n",
    "print(comp(28))\n",
    "   \n",
    "#n=28\n",
    "#print(range(2, int(n ** 0.5) + 1))"
   ]
  },
  {
   "cell_type": "code",
   "execution_count": 23,
   "id": "5d2a774b",
   "metadata": {},
   "outputs": [
    {
     "name": "stdout",
     "output_type": "stream",
     "text": [
      "prime\n"
     ]
    }
   ],
   "source": [
    "# Write a Python program to check if a number is prime.\n",
    "def prime(n):\n",
    "    if n<2:\n",
    "        return False\n",
    "    for i in range(2,int((n**0.5)+1)):\n",
    "        if n%i == 0:\n",
    "            return \"composite\"\n",
    "    return 'prime'\n",
    "print(prime(7))"
   ]
  },
  {
   "cell_type": "code",
   "execution_count": null,
   "id": "44584482",
   "metadata": {},
   "outputs": [],
   "source": []
  },
  {
   "cell_type": "code",
   "execution_count": 24,
   "id": "3424b4c1",
   "metadata": {},
   "outputs": [
    {
     "data": {
      "text/plain": [
       "'110 is even number'"
      ]
     },
     "execution_count": 24,
     "metadata": {},
     "output_type": "execute_result"
    }
   ],
   "source": [
    "# Write the code to find if the number is even or odd.\n",
    "def ch(num):\n",
    "    if num % 2 == 0:\n",
    "        return f\"{num} is even number\"\n",
    "    else:\n",
    "        return f\"{num} is odd number\"\n",
    "ch(110)"
   ]
  },
  {
   "cell_type": "code",
   "execution_count": 25,
   "id": "286b7ebd",
   "metadata": {},
   "outputs": [
    {
     "name": "stdout",
     "output_type": "stream",
     "text": [
      "110 is even number\n"
     ]
    }
   ],
   "source": [
    "def ch(num):\n",
    "    if num % 2 == 0:\n",
    "        print(num,\"is even number\")\n",
    "    else:\n",
    "        print(num,\"is odd number\")\n",
    "ch(110)"
   ]
  },
  {
   "cell_type": "code",
   "execution_count": 26,
   "id": "8992aac9",
   "metadata": {},
   "outputs": [
    {
     "name": "stdout",
     "output_type": "stream",
     "text": [
      "enter a number:76\n",
      "even\n"
     ]
    }
   ],
   "source": [
    "# write code to find even or odd using ternary operator.\n",
    "x = int(input(\"enter a number:\"))\n",
    "print(\"even\" if x%2 == 0 else \"odd\")"
   ]
  },
  {
   "cell_type": "code",
   "execution_count": 27,
   "id": "1dd7c0cb",
   "metadata": {},
   "outputs": [
    {
     "name": "stdout",
     "output_type": "stream",
     "text": [
      "True\n"
     ]
    }
   ],
   "source": [
    "def num(x):\n",
    "    return x % 2 == 0\n",
    "print(num(116))"
   ]
  },
  {
   "cell_type": "code",
   "execution_count": 28,
   "id": "f766561c",
   "metadata": {},
   "outputs": [
    {
     "name": "stdout",
     "output_type": "stream",
     "text": [
      "With God GraceI am fine.\n",
      "With God Grace I am fine.\n"
     ]
    }
   ],
   "source": [
    "# write code to merge two string.\n",
    "str1 = \"With God Grace\"\n",
    "str2 = \"I am fine.\"\n",
    "mer1 = str1 + str2\n",
    "print(mer1)\n",
    "mer2 = str1 + \" \" + str2\n",
    "print(mer2)"
   ]
  },
  {
   "cell_type": "code",
   "execution_count": 29,
   "id": "ffd6e3d6",
   "metadata": {},
   "outputs": [
    {
     "name": "stdout",
     "output_type": "stream",
     "text": [
      "{'S': 1, 'v': 2, 't': 1, 'h': 1}\n"
     ]
    }
   ],
   "source": [
    "# Write the code to count the consonant in string.\n",
    "from collections import Counter\n",
    "s=\"Suvethav\"\n",
    "x= []\n",
    "for i in s:\n",
    "    if i.lower() not in 'aeiou':\n",
    "        x.append(i)\n",
    "print(dict(Counter(x)))"
   ]
  },
  {
   "cell_type": "code",
   "execution_count": 30,
   "id": "d12d5482",
   "metadata": {},
   "outputs": [
    {
     "name": "stdout",
     "output_type": "stream",
     "text": [
      "{'F': 2, 'r': 2, 'n': 4, 'd': 6, ' ': 6, 's': 1}\n"
     ]
    }
   ],
   "source": [
    "from collections import Counter\n",
    "x= \"Friend indeed is a Friend in deed\"        \n",
    "y = [i for i in x if i.lower() not in 'aeiou']\n",
    "res = dict(Counter(y))\n",
    "print(res)"
   ]
  },
  {
   "cell_type": "code",
   "execution_count": 31,
   "id": "0d737009",
   "metadata": {},
   "outputs": [
    {
     "name": "stdout",
     "output_type": "stream",
     "text": [
      "{'F': 1}\n",
      "{'r': 1}\n",
      "{'n': 1}\n",
      "{'d': 1}\n",
      "{' ': 1}\n",
      "{'n': 1}\n",
      "{'d': 1}\n",
      "{'d': 1}\n",
      "{' ': 1}\n",
      "{'s': 1}\n",
      "{' ': 1}\n",
      "{' ': 1}\n",
      "{'F': 1}\n",
      "{'r': 1}\n",
      "{'n': 1}\n",
      "{'d': 1}\n",
      "{' ': 1}\n",
      "{'n': 1}\n",
      "{' ': 1}\n",
      "{'d': 1}\n",
      "{'d': 1}\n"
     ]
    }
   ],
   "source": [
    "from collections import Counter\n",
    "x= \"Friend indeed is a Friend in deed\"\n",
    "for i in x:\n",
    "    if i.lower() not in 'aeiou':\n",
    "        print(dict(Counter(i)))"
   ]
  },
  {
   "cell_type": "code",
   "execution_count": 32,
   "id": "36074678",
   "metadata": {},
   "outputs": [
    {
     "name": "stdout",
     "output_type": "stream",
     "text": [
      "3\n",
      "number of vowel 3\n"
     ]
    }
   ],
   "source": [
    "# Write the python code to find the count of vowels.\n",
    "def vowel(s):\n",
    "    return sum(1 for i in s if i.lower() in 'aeiou')\n",
    "print(vowel(\"suvetha\"))\n",
    "\n",
    "x=\"suvetha\"\n",
    "count=0\n",
    "for i in x:\n",
    "    if i in 'aeiou':\n",
    "        count+=1\n",
    "print(\"number of vowel\", count)    "
   ]
  },
  {
   "cell_type": "code",
   "execution_count": 33,
   "id": "b941455e",
   "metadata": {},
   "outputs": [
    {
     "name": "stdout",
     "output_type": "stream",
     "text": [
      "u\n",
      "e\n",
      "a\n"
     ]
    }
   ],
   "source": [
    "# Write the python code to find the veowls.\n",
    "x=\"suvetha\"\n",
    "for i in x:\n",
    "    if i in 'aeiou':\n",
    "        print(i)"
   ]
  },
  {
   "cell_type": "code",
   "execution_count": 34,
   "id": "fbd5cd86",
   "metadata": {},
   "outputs": [
    {
     "name": "stdout",
     "output_type": "stream",
     "text": [
      "{'u': 1}\n",
      "{'e': 1}\n",
      "{'a': 1}\n"
     ]
    }
   ],
   "source": [
    "# Write the python code to find the veowls and its count.\n",
    "from collections import Counter\n",
    "x=\"suvetha\"\n",
    "for i in x:\n",
    "    if i in 'aeiou':\n",
    "        print(dict(Counter(i)))\n"
   ]
  },
  {
   "cell_type": "code",
   "execution_count": 35,
   "id": "84a5663b",
   "metadata": {},
   "outputs": [
    {
     "name": "stdout",
     "output_type": "stream",
     "text": [
      "{'u': 3, 'e': 1, 'a': 3, 'o': 1, 'i': 1}\n"
     ]
    }
   ],
   "source": [
    "# Write the python code to find the veowls and its count.\n",
    "from collections import Counter\n",
    "x=\"suvethaouaiau\"\n",
    "y = []\n",
    "for i in x:\n",
    "    if i in 'aeiou':\n",
    "        y.append(i)\n",
    "print(dict(Counter(y)))\n"
   ]
  },
  {
   "cell_type": "code",
   "execution_count": 36,
   "id": "b477cc00",
   "metadata": {},
   "outputs": [
    {
     "name": "stdout",
     "output_type": "stream",
     "text": [
      "u : 1\n",
      "e : 1\n",
      "a : 1\n"
     ]
    }
   ],
   "source": [
    "x=\"suvetha\"\n",
    "count={}\n",
    "for i in x:\n",
    "    if i in 'aeiou':\n",
    "        count[i]=count.get(i,0)+1\n",
    "        print(i,\":\",count[i])\n",
    "        "
   ]
  },
  {
   "cell_type": "code",
   "execution_count": 37,
   "id": "b0c100c8",
   "metadata": {},
   "outputs": [
    {
     "name": "stdout",
     "output_type": "stream",
     "text": [
      "{1: 2, 3: 3, 5: 2, 6: 2, 7: 2, 8: 2, 2: 2, 4: 3, 19: 1, 79: 1}\n"
     ]
    }
   ],
   "source": [
    "l = [1,3,5,6,7,8,3,2,4,5,4,1,4,2,3,6,8,7,19,79]\n",
    "res = {x:l.count(x) for x in l}\n",
    "print(res)"
   ]
  },
  {
   "cell_type": "code",
   "execution_count": 38,
   "id": "f05b654c",
   "metadata": {},
   "outputs": [
    {
     "name": "stdout",
     "output_type": "stream",
     "text": [
      "123456 <class 'str'>\n",
      "123456 <class 'int'>\n",
      "2\n"
     ]
    }
   ],
   "source": [
    "# convert string to int.\n",
    "x=\"123456\"\n",
    "print(x,type(x))\n",
    "y= int(x)\n",
    "print(y,type(y))\n",
    "print(x[1])\n",
    "#print(y[1]) --------int can't be slicing using index number"
   ]
  },
  {
   "cell_type": "code",
   "execution_count": 39,
   "id": "3e665d21",
   "metadata": {
    "scrolled": true
   },
   "outputs": [
    {
     "name": "stdout",
     "output_type": "stream",
     "text": [
      "['p', 'y', 't', 'h', 'o', 'n'] <class 'list'>\n",
      "python <class 'str'>\n"
     ]
    }
   ],
   "source": [
    "# convert list into string.\n",
    "l= ['p','y','t','h','o','n']\n",
    "s= ''.join(l)\n",
    "print(l,type(l))\n",
    "print(s,type(s))"
   ]
  },
  {
   "cell_type": "code",
   "execution_count": 40,
   "id": "3f682a1a",
   "metadata": {},
   "outputs": [
    {
     "name": "stdout",
     "output_type": "stream",
     "text": [
      "350\n"
     ]
    }
   ],
   "source": [
    "# write the code to find the area of rectangle.\n",
    "def rect(length,width):\n",
    "    return length * width\n",
    "print(rect(10,35))"
   ]
  },
  {
   "cell_type": "code",
   "execution_count": 41,
   "id": "ea79d110",
   "metadata": {},
   "outputs": [
    {
     "name": "stdout",
     "output_type": "stream",
     "text": [
      "3\n"
     ]
    }
   ],
   "source": [
    "# write the code to find the area of triangle.\n",
    "def tri(length,height):\n",
    "    return (length * height)//2\n",
    "print(tri(3,2))"
   ]
  },
  {
   "cell_type": "code",
   "execution_count": 42,
   "id": "74e58101",
   "metadata": {},
   "outputs": [
    {
     "name": "stdout",
     "output_type": "stream",
     "text": [
      "{'Name': 'jeni', 'reg': 101, 'dept': 'IT', 'salary': '70k'}\n"
     ]
    }
   ],
   "source": [
    "#Write the code to merge the two dictionary.\n",
    "dict1={'Name':'Suvetha','reg':101}\n",
    "dict2={'Name':'jeni','dept':'IT','salary':'70k'}\n",
    "merged= {**dict1,**dict2}\n",
    "print(merged)"
   ]
  },
  {
   "cell_type": "code",
   "execution_count": 43,
   "id": "9fe60da3",
   "metadata": {},
   "outputs": [
    {
     "name": "stdout",
     "output_type": "stream",
     "text": [
      "{'Name': 'jeni', 'reg': 101, 'dept': 'IT', 'salary': '70k'}\n"
     ]
    }
   ],
   "source": [
    "dict1={'Name':'Suvetha','reg':101}\n",
    "dict2={'Name':'jeni','dept':'IT','salary':'70k'}\n",
    "merge= dict1 | dict2\n",
    "print(merge)"
   ]
  },
  {
   "cell_type": "code",
   "execution_count": 44,
   "id": "7404010c",
   "metadata": {},
   "outputs": [
    {
     "name": "stdout",
     "output_type": "stream",
     "text": [
      "{'Name': 'jeni', 'reg': 101, 'dept': 'IT', 'salary': '70k'}\n"
     ]
    }
   ],
   "source": [
    "dict1={'Name':'Suvetha','reg':101}\n",
    "dict2={'Name':'jeni','dept':'IT','salary':'70k'}\n",
    "dict1.update(dict2)\n",
    "print(dict1)"
   ]
  },
  {
   "cell_type": "code",
   "execution_count": 45,
   "id": "57f79259",
   "metadata": {},
   "outputs": [
    {
     "name": "stdout",
     "output_type": "stream",
     "text": [
      "{'Name': 'jeni', 'reg': 101, 'dept': 'IT', 'salary': '70k'}\n"
     ]
    }
   ],
   "source": [
    "#Dictionary comprehension\n",
    "dict1={'Name':'Suvetha','reg':101}\n",
    "dict2={'Name':'jeni','dept':'IT','salary':'70k'}\n",
    "newdic= {key:value for d in (dict1,dict2) for key,value in d.items()}\n",
    "print(newdic)"
   ]
  },
  {
   "cell_type": "code",
   "execution_count": 46,
   "id": "6f780dbc",
   "metadata": {},
   "outputs": [
    {
     "name": "stdout",
     "output_type": "stream",
     "text": [
      "Yes\n"
     ]
    }
   ],
   "source": [
    "# ---- check the key in the dictionary or not\n",
    "d={'Name':'jeni','dept':'IT','salary':'70k'}\n",
    "if 'dept' in d.keys():\n",
    "    print(\"Yes\")"
   ]
  },
  {
   "cell_type": "code",
   "execution_count": 47,
   "id": "35c39820",
   "metadata": {},
   "outputs": [
    {
     "name": "stdout",
     "output_type": "stream",
     "text": [
      "Yes\n"
     ]
    }
   ],
   "source": [
    "d={'Name':'jeni','dept':'IT','salary':'70k'}\n",
    "if 'dept' in d:\n",
    "    print(\"Yes\")"
   ]
  },
  {
   "cell_type": "code",
   "execution_count": 48,
   "id": "57acae2f",
   "metadata": {},
   "outputs": [
    {
     "name": "stdout",
     "output_type": "stream",
     "text": [
      "{'__name__': '__main__', '__doc__': 'from collections import Counter\\nx= \"Friend indeed is a Friend in deed\"\\nfor i in x:\\n    if i.lower() not in \\'aeiou\\':\\n        print(dict(Counter(i)))\\n', '__package__': None, '__loader__': None, '__spec__': None, '__builtin__': <module 'builtins' (built-in)>, '__builtins__': <module 'builtins' (built-in)>, '_ih': ['', '# Write a Python program to check if a string is a palindrome.\\nx= \"abcddcba\"\\ny= x[::-1]\\nif x==y:\\n    print(x, \"is palindrome\")\\nelse:\\n    print(x, \"is not a palindrome\")\\n    ', '#void fn.\\ndef pal(x):\\n    y = x[::-1]\\n    if y==x:\\n        return f\"{x} is palindrome\"\\n    else:\\n        return f\"{x} is not a palindrome\"\\nprint(pal(\"mom\"))', '# non-void fn.\\ndef pal(x):\\n    y = x[::-1]\\n    if y==x:\\n        print(f\"{x} is palindrome\")\\n    else:\\n        print(f\"{x} is not a palindrome\")\\nprint(pal(\"mom\"))', '# Write a Python program to find the factorial of the number\\ndef factorial(n):\\n    if n == 0:\\n        return 1\\n    else:\\n        return n * factorial(n-1)\\nfactorial(4)', \"# Write the program to find the sum of n natural number. \\ndef sum_of_n(n):\\n    if n==1:\\n        return 1\\n    return n + sum_of_n(n-1)\\nprint(sum_of_n(5))\\n\\n'''----Recursion........ a fn. calls itself directly or indirectly inside the fn. to solve the pblm.\\nbreaking the pblm. to smaller sub pblm. to solve it.'''\", '# Write a Python program to find the smallest element in a list.\\nx=[10,20,30,40,50,15,25,5]\\nnum=x[0]\\nfor i in x:\\n    if i < num:\\n        num = i\\nprint(num)\\n\\nprint(min(x))', '# Write a Python program to find the largest element in a list.\\nx=[10,20,8,40,50,15,25,5]\\nnum =x[0]\\nfor i in x:\\n    if i > num:\\n        num = i\\nprint(num)\\n    \\nprint(max(x))', '#using max() with list\\ndef larg(lst):\\n    return max(lst)\\nprint(larg([10,20,30,40,20,50,70,86]))', 'def lar(n1,n2,n3):\\n    return max(n1,n2,n3)\\nprint(lar(4,9,2))', '# using max() with tuple\\ndef lrg(*args):\\n    return max(*args)\\nprint(lrg(4,2,6,7,83,22))', '# Write a Python program to reverse a string.\\nx=\"abcdefg\"\\nprint(\"reversed_string\", x[::-1])', '# reverse the array using numpy flip\\nimport numpy as np\\nx=np.array([1,2,3,4,5,6])\\ny= np.flip(x)\\nprint(y)', 'import numpy as np\\nx=np.array([[1,2,3,4,5,6],[8,9,6,8,4,2]])\\ny= np.flip(x)\\nprint(y)', '# reverse list using reverse() fn.\\nx=[1,2,3,4,5,6]\\nprint(x)\\nx.reverse()\\nprint(x)\\nprint(x[::-1])', '# Write a Python program to count the frequency of each element in a list.\\nx=[1,2,3,4,5,3,1,2,4,6,7]\\ncount={}\\ny=[]\\nfor i in x:\\n    if i not in y:\\n        y.append(i)\\n        count[i] = 1\\n    else:\\n        count[i] += 1\\n        print(i,\":\",count[i])\\n    \\n        ', 'from collections import Counter\\ndef countfr(lst):\\n    return dict(Counter(lst))\\nprint(countfr([1,2,3,4,5,7,8,4,2,8,2,9,5,1,6,10]))', 'from collections import Counter\\ndef count_freq(*args):\\n    return dict(Counter(args))\\nprint(count_freq(2,4,6,8,5,4,2,7,6,2))', '# Write a python code to find the maximum length of element in string.\\ndef maxlen(s):\\n    word = s.split()\\n    return max(word,key = len)\\nprint(maxlen(\"suvetha is a talented girl\"))', 'def maxl(s):\\n    word = s.split()\\n    longest = word[0]\\n    for i in word:\\n        if len(i) > len(longest):\\n            longest = i\\n    print(longest)\\n    \\nmaxl(\"Write a python code to find the maximum length of element in string\")', '# Write a Python program to count the frequency of each word in a string.\\nfrom collections import Counter\\ndef freq(s):\\n    word = s.split()\\n    return dict(Counter(word))\\nprint(freq(\"Friend indeed is a Friend in deed\"))', 'from collections import Counter\\ndef freq(s):\\n    return dict(Counter(s))\\nprint(freq(\"Friend indeed is a Friend in deed\"))', '# Write a Python program to check if a number is composite or prime\\ndef comp(n):\\n    if n<2:\\n        return False\\n    for i in range(2,int((n**0.5)+1)):\\n        if n%i == 0:\\n            return f\"{n} : composite\"\\n    return f\"{n} : prime\"\\nprint(comp(28))\\n   \\n#n=28\\n#print(range(2, int(n ** 0.5) + 1))', '# Write a Python program to check if a number is prime.\\ndef prime(n):\\n    if n<2:\\n        return False\\n    for i in range(2,int((n**0.5)+1)):\\n        if n%i == 0:\\n            return \"composite\"\\n    return \\'prime\\'\\nprint(prime(7))', '# Write the code to find if the number is even or odd.\\ndef ch(num):\\n    if num % 2 == 0:\\n        return f\"{num} is even number\"\\n    else:\\n        return f\"{num} is odd number\"\\nch(110)', 'def ch(num):\\n    if num % 2 == 0:\\n        print(num,\"is even number\")\\n    else:\\n        print(num,\"is odd number\")\\nch(110)', '# write code to find even or odd using ternary operator.\\nx = int(input(\"enter a number:\"))\\nprint(\"even\" if x%2 == 0 else \"odd\")', 'def num(x):\\n    return x % 2 == 0\\nprint(num(116))', '# write code to merge two string.\\nstr1 = \"With God Grace\"\\nstr2 = \"I am fine.\"\\nmer1 = str1 + str2\\nprint(mer1)\\nmer2 = str1 + \" \" + str2\\nprint(mer2)', '# Write the code to count the consonant in string.\\nfrom collections import Counter\\ns=\"Suvethav\"\\nx= []\\nfor i in s:\\n    if i.lower() not in \\'aeiou\\':\\n        x.append(i)\\nprint(dict(Counter(x)))', '\\'\\'\\'from collections import Counter\\nx= \"Friend indeed is a Friend in deed\"\\nfor i in x:\\n    if i.lower() not in \\'aeiou\\':\\n        print(dict(Counter(i)))\\n\\'\\'\\'\\nfrom collections import Counter\\nx= \"Friend indeed is a Friend in deed\"        \\ny = [i for i in x if i.lower() not in \\'aeiou\\']\\nres = dict(Counter(y))\\nprint(res)', 'from collections import Counter\\nx= \"Friend indeed is a Friend in deed\"\\nfor i in x:\\n    if i.lower() not in \\'aeiou\\':\\n        print(dict(Counter(i)))', '# Write the python code to find the count of vowels.\\ndef vowel(s):\\n    return sum(1 for i in s if i.lower() in \\'aeiou\\')\\nprint(vowel(\"suvetha\"))\\n\\nx=\"suvetha\"\\ncount=0\\nfor i in x:\\n    if i in \\'aeiou\\':\\n        count+=1\\nprint(\"number of vowel\", count)    ', '# Write the python code to find the veowls.\\nx=\"suvetha\"\\nfor i in x:\\n    if i in \\'aeiou\\':\\n        print(i)', '# Write the python code to find the veowls and its count.\\nfrom collections import Counter\\nx=\"suvetha\"\\nfor i in x:\\n    if i in \\'aeiou\\':\\n        print(dict(Counter(i)))', '# Write the python code to find the veowls and its count.\\nfrom collections import Counter\\nx=\"suvethaouaiau\"\\ny = []\\nfor i in x:\\n    if i in \\'aeiou\\':\\n        y.append(i)\\nprint(dict(Counter(y)))', 'x=\"suvetha\"\\ncount={}\\nfor i in x:\\n    if i in \\'aeiou\\':\\n        count[i]=count.get(i,0)+1\\n        print(i,\":\",count[i])\\n        ', 'l = [1,3,5,6,7,8,3,2,4,5,4,1,4,2,3,6,8,7,19,79]\\nres = {x:l.count(x) for x in l}\\nprint(res)', '# convert string to int.\\nx=\"123456\"\\nprint(x,type(x))\\ny= int(x)\\nprint(y,type(y))\\nprint(x[1])\\n#print(y[1]) --------int can\\'t be slicing using index number', \"# convert list into string.\\nl= ['p','y','t','h','o','n']\\ns= ''.join(l)\\nprint(l,type(l))\\nprint(s,type(s))\", '# write the code to find the area of rectangle.\\ndef rect(length,width):\\n    return length * width\\nprint(rect(10,35))', '# write the code to find the area of triangle.\\ndef tri(length,height):\\n    return (length * height)//2\\nprint(tri(3,2))', \"#Write the code to merge the two dictionary.\\ndict1={'Name':'Suvetha','reg':101}\\ndict2={'Name':'jeni','dept':'IT','salary':'70k'}\\nmerged= {**dict1,**dict2}\\nprint(merged)\", \"dict1={'Name':'Suvetha','reg':101}\\ndict2={'Name':'jeni','dept':'IT','salary':'70k'}\\nmerge= dict1 | dict2\\nprint(merge)\", \"dict1={'Name':'Suvetha','reg':101}\\ndict2={'Name':'jeni','dept':'IT','salary':'70k'}\\ndict1.update(dict2)\\nprint(dict1)\", \"#Dictionary comprehension\\ndict1={'Name':'Suvetha','reg':101}\\ndict2={'Name':'jeni','dept':'IT','salary':'70k'}\\nnewdic= {key:value for d in (dict1,dict2) for key,value in d.items()}\\nprint(newdic)\", '# ---- check the key in the dictionary or not\\nd={\\'Name\\':\\'jeni\\',\\'dept\\':\\'IT\\',\\'salary\\':\\'70k\\'}\\nif \\'dept\\' in d.keys():\\n    print(\"Yes\")', 'd={\\'Name\\':\\'jeni\\',\\'dept\\':\\'IT\\',\\'salary\\':\\'70k\\'}\\nif \\'dept\\' in d:\\n    print(\"Yes\")', 'print(locals())  # ---------- retrives a dictionary of local symbols.\\n# --------- locals() returns a dictionary representing the current local symbol table (includes all the local variable)'], '_oh': {4: 24, 5: '----Recursion........ a fn. calls itself directly or indirectly inside the fn. to solve the pblm.\\nbreaking the pblm. to smaller sub pblm. to solve it.', 24: '110 is even number'}, '_dh': [WindowsPath('C:/Users/suvet')], 'In': ['', '# Write a Python program to check if a string is a palindrome.\\nx= \"abcddcba\"\\ny= x[::-1]\\nif x==y:\\n    print(x, \"is palindrome\")\\nelse:\\n    print(x, \"is not a palindrome\")\\n    ', '#void fn.\\ndef pal(x):\\n    y = x[::-1]\\n    if y==x:\\n        return f\"{x} is palindrome\"\\n    else:\\n        return f\"{x} is not a palindrome\"\\nprint(pal(\"mom\"))', '# non-void fn.\\ndef pal(x):\\n    y = x[::-1]\\n    if y==x:\\n        print(f\"{x} is palindrome\")\\n    else:\\n        print(f\"{x} is not a palindrome\")\\nprint(pal(\"mom\"))', '# Write a Python program to find the factorial of the number\\ndef factorial(n):\\n    if n == 0:\\n        return 1\\n    else:\\n        return n * factorial(n-1)\\nfactorial(4)', \"# Write the program to find the sum of n natural number. \\ndef sum_of_n(n):\\n    if n==1:\\n        return 1\\n    return n + sum_of_n(n-1)\\nprint(sum_of_n(5))\\n\\n'''----Recursion........ a fn. calls itself directly or indirectly inside the fn. to solve the pblm.\\nbreaking the pblm. to smaller sub pblm. to solve it.'''\", '# Write a Python program to find the smallest element in a list.\\nx=[10,20,30,40,50,15,25,5]\\nnum=x[0]\\nfor i in x:\\n    if i < num:\\n        num = i\\nprint(num)\\n\\nprint(min(x))', '# Write a Python program to find the largest element in a list.\\nx=[10,20,8,40,50,15,25,5]\\nnum =x[0]\\nfor i in x:\\n    if i > num:\\n        num = i\\nprint(num)\\n    \\nprint(max(x))', '#using max() with list\\ndef larg(lst):\\n    return max(lst)\\nprint(larg([10,20,30,40,20,50,70,86]))', 'def lar(n1,n2,n3):\\n    return max(n1,n2,n3)\\nprint(lar(4,9,2))', '# using max() with tuple\\ndef lrg(*args):\\n    return max(*args)\\nprint(lrg(4,2,6,7,83,22))', '# Write a Python program to reverse a string.\\nx=\"abcdefg\"\\nprint(\"reversed_string\", x[::-1])', '# reverse the array using numpy flip\\nimport numpy as np\\nx=np.array([1,2,3,4,5,6])\\ny= np.flip(x)\\nprint(y)', 'import numpy as np\\nx=np.array([[1,2,3,4,5,6],[8,9,6,8,4,2]])\\ny= np.flip(x)\\nprint(y)', '# reverse list using reverse() fn.\\nx=[1,2,3,4,5,6]\\nprint(x)\\nx.reverse()\\nprint(x)\\nprint(x[::-1])', '# Write a Python program to count the frequency of each element in a list.\\nx=[1,2,3,4,5,3,1,2,4,6,7]\\ncount={}\\ny=[]\\nfor i in x:\\n    if i not in y:\\n        y.append(i)\\n        count[i] = 1\\n    else:\\n        count[i] += 1\\n        print(i,\":\",count[i])\\n    \\n        ', 'from collections import Counter\\ndef countfr(lst):\\n    return dict(Counter(lst))\\nprint(countfr([1,2,3,4,5,7,8,4,2,8,2,9,5,1,6,10]))', 'from collections import Counter\\ndef count_freq(*args):\\n    return dict(Counter(args))\\nprint(count_freq(2,4,6,8,5,4,2,7,6,2))', '# Write a python code to find the maximum length of element in string.\\ndef maxlen(s):\\n    word = s.split()\\n    return max(word,key = len)\\nprint(maxlen(\"suvetha is a talented girl\"))', 'def maxl(s):\\n    word = s.split()\\n    longest = word[0]\\n    for i in word:\\n        if len(i) > len(longest):\\n            longest = i\\n    print(longest)\\n    \\nmaxl(\"Write a python code to find the maximum length of element in string\")', '# Write a Python program to count the frequency of each word in a string.\\nfrom collections import Counter\\ndef freq(s):\\n    word = s.split()\\n    return dict(Counter(word))\\nprint(freq(\"Friend indeed is a Friend in deed\"))', 'from collections import Counter\\ndef freq(s):\\n    return dict(Counter(s))\\nprint(freq(\"Friend indeed is a Friend in deed\"))', '# Write a Python program to check if a number is composite or prime\\ndef comp(n):\\n    if n<2:\\n        return False\\n    for i in range(2,int((n**0.5)+1)):\\n        if n%i == 0:\\n            return f\"{n} : composite\"\\n    return f\"{n} : prime\"\\nprint(comp(28))\\n   \\n#n=28\\n#print(range(2, int(n ** 0.5) + 1))', '# Write a Python program to check if a number is prime.\\ndef prime(n):\\n    if n<2:\\n        return False\\n    for i in range(2,int((n**0.5)+1)):\\n        if n%i == 0:\\n            return \"composite\"\\n    return \\'prime\\'\\nprint(prime(7))', '# Write the code to find if the number is even or odd.\\ndef ch(num):\\n    if num % 2 == 0:\\n        return f\"{num} is even number\"\\n    else:\\n        return f\"{num} is odd number\"\\nch(110)', 'def ch(num):\\n    if num % 2 == 0:\\n        print(num,\"is even number\")\\n    else:\\n        print(num,\"is odd number\")\\nch(110)', '# write code to find even or odd using ternary operator.\\nx = int(input(\"enter a number:\"))\\nprint(\"even\" if x%2 == 0 else \"odd\")', 'def num(x):\\n    return x % 2 == 0\\nprint(num(116))', '# write code to merge two string.\\nstr1 = \"With God Grace\"\\nstr2 = \"I am fine.\"\\nmer1 = str1 + str2\\nprint(mer1)\\nmer2 = str1 + \" \" + str2\\nprint(mer2)', '# Write the code to count the consonant in string.\\nfrom collections import Counter\\ns=\"Suvethav\"\\nx= []\\nfor i in s:\\n    if i.lower() not in \\'aeiou\\':\\n        x.append(i)\\nprint(dict(Counter(x)))', '\\'\\'\\'from collections import Counter\\nx= \"Friend indeed is a Friend in deed\"\\nfor i in x:\\n    if i.lower() not in \\'aeiou\\':\\n        print(dict(Counter(i)))\\n\\'\\'\\'\\nfrom collections import Counter\\nx= \"Friend indeed is a Friend in deed\"        \\ny = [i for i in x if i.lower() not in \\'aeiou\\']\\nres = dict(Counter(y))\\nprint(res)', 'from collections import Counter\\nx= \"Friend indeed is a Friend in deed\"\\nfor i in x:\\n    if i.lower() not in \\'aeiou\\':\\n        print(dict(Counter(i)))', '# Write the python code to find the count of vowels.\\ndef vowel(s):\\n    return sum(1 for i in s if i.lower() in \\'aeiou\\')\\nprint(vowel(\"suvetha\"))\\n\\nx=\"suvetha\"\\ncount=0\\nfor i in x:\\n    if i in \\'aeiou\\':\\n        count+=1\\nprint(\"number of vowel\", count)    ', '# Write the python code to find the veowls.\\nx=\"suvetha\"\\nfor i in x:\\n    if i in \\'aeiou\\':\\n        print(i)', '# Write the python code to find the veowls and its count.\\nfrom collections import Counter\\nx=\"suvetha\"\\nfor i in x:\\n    if i in \\'aeiou\\':\\n        print(dict(Counter(i)))', '# Write the python code to find the veowls and its count.\\nfrom collections import Counter\\nx=\"suvethaouaiau\"\\ny = []\\nfor i in x:\\n    if i in \\'aeiou\\':\\n        y.append(i)\\nprint(dict(Counter(y)))', 'x=\"suvetha\"\\ncount={}\\nfor i in x:\\n    if i in \\'aeiou\\':\\n        count[i]=count.get(i,0)+1\\n        print(i,\":\",count[i])\\n        ', 'l = [1,3,5,6,7,8,3,2,4,5,4,1,4,2,3,6,8,7,19,79]\\nres = {x:l.count(x) for x in l}\\nprint(res)', '# convert string to int.\\nx=\"123456\"\\nprint(x,type(x))\\ny= int(x)\\nprint(y,type(y))\\nprint(x[1])\\n#print(y[1]) --------int can\\'t be slicing using index number', \"# convert list into string.\\nl= ['p','y','t','h','o','n']\\ns= ''.join(l)\\nprint(l,type(l))\\nprint(s,type(s))\", '# write the code to find the area of rectangle.\\ndef rect(length,width):\\n    return length * width\\nprint(rect(10,35))', '# write the code to find the area of triangle.\\ndef tri(length,height):\\n    return (length * height)//2\\nprint(tri(3,2))', \"#Write the code to merge the two dictionary.\\ndict1={'Name':'Suvetha','reg':101}\\ndict2={'Name':'jeni','dept':'IT','salary':'70k'}\\nmerged= {**dict1,**dict2}\\nprint(merged)\", \"dict1={'Name':'Suvetha','reg':101}\\ndict2={'Name':'jeni','dept':'IT','salary':'70k'}\\nmerge= dict1 | dict2\\nprint(merge)\", \"dict1={'Name':'Suvetha','reg':101}\\ndict2={'Name':'jeni','dept':'IT','salary':'70k'}\\ndict1.update(dict2)\\nprint(dict1)\", \"#Dictionary comprehension\\ndict1={'Name':'Suvetha','reg':101}\\ndict2={'Name':'jeni','dept':'IT','salary':'70k'}\\nnewdic= {key:value for d in (dict1,dict2) for key,value in d.items()}\\nprint(newdic)\", '# ---- check the key in the dictionary or not\\nd={\\'Name\\':\\'jeni\\',\\'dept\\':\\'IT\\',\\'salary\\':\\'70k\\'}\\nif \\'dept\\' in d.keys():\\n    print(\"Yes\")', 'd={\\'Name\\':\\'jeni\\',\\'dept\\':\\'IT\\',\\'salary\\':\\'70k\\'}\\nif \\'dept\\' in d:\\n    print(\"Yes\")', 'print(locals())  # ---------- retrives a dictionary of local symbols.\\n# --------- locals() returns a dictionary representing the current local symbol table (includes all the local variable)'], 'Out': {4: 24, 5: '----Recursion........ a fn. calls itself directly or indirectly inside the fn. to solve the pblm.\\nbreaking the pblm. to smaller sub pblm. to solve it.', 24: '110 is even number'}, 'get_ipython': <bound method InteractiveShell.get_ipython of <ipykernel.zmqshell.ZMQInteractiveShell object at 0x00000232E40D8750>>, 'exit': <IPython.core.autocall.ZMQExitAutocall object at 0x00000232E40F3590>, 'quit': <IPython.core.autocall.ZMQExitAutocall object at 0x00000232E40F3590>, 'open': <function open at 0x00000232E206FBA0>, '_': '110 is even number', '__': '----Recursion........ a fn. calls itself directly or indirectly inside the fn. to solve the pblm.\\nbreaking the pblm. to smaller sub pblm. to solve it.', '___': 24, '_i': 'd={\\'Name\\':\\'jeni\\',\\'dept\\':\\'IT\\',\\'salary\\':\\'70k\\'}\\nif \\'dept\\' in d:\\n    print(\"Yes\")', '_ii': '# ---- check the key in the dictionary or not\\nd={\\'Name\\':\\'jeni\\',\\'dept\\':\\'IT\\',\\'salary\\':\\'70k\\'}\\nif \\'dept\\' in d.keys():\\n    print(\"Yes\")', '_iii': \"#Dictionary comprehension\\ndict1={'Name':'Suvetha','reg':101}\\ndict2={'Name':'jeni','dept':'IT','salary':'70k'}\\nnewdic= {key:value for d in (dict1,dict2) for key,value in d.items()}\\nprint(newdic)\", '_i1': '# Write a Python program to check if a string is a palindrome.\\nx= \"abcddcba\"\\ny= x[::-1]\\nif x==y:\\n    print(x, \"is palindrome\")\\nelse:\\n    print(x, \"is not a palindrome\")\\n    ', 'x': '123456', 'y': 123456, '_i2': '#void fn.\\ndef pal(x):\\n    y = x[::-1]\\n    if y==x:\\n        return f\"{x} is palindrome\"\\n    else:\\n        return f\"{x} is not a palindrome\"\\nprint(pal(\"mom\"))', 'pal': <function pal at 0x00000232E40DFA60>, '_i3': '# non-void fn.\\ndef pal(x):\\n    y = x[::-1]\\n    if y==x:\\n        print(f\"{x} is palindrome\")\\n    else:\\n        print(f\"{x} is not a palindrome\")\\nprint(pal(\"mom\"))', '_i4': '# Write a Python program to find the factorial of the number\\ndef factorial(n):\\n    if n == 0:\\n        return 1\\n    else:\\n        return n * factorial(n-1)\\nfactorial(4)', 'factorial': <function factorial at 0x00000232E40DCEA0>, '_4': 24, '_i5': \"# Write the program to find the sum of n natural number. \\ndef sum_of_n(n):\\n    if n==1:\\n        return 1\\n    return n + sum_of_n(n-1)\\nprint(sum_of_n(5))\\n\\n'''----Recursion........ a fn. calls itself directly or indirectly inside the fn. to solve the pblm.\\nbreaking the pblm. to smaller sub pblm. to solve it.'''\", 'sum_of_n': <function sum_of_n at 0x00000232E40DFB00>, '_5': '----Recursion........ a fn. calls itself directly or indirectly inside the fn. to solve the pblm.\\nbreaking the pblm. to smaller sub pblm. to solve it.', '_i6': '# Write a Python program to find the smallest element in a list.\\nx=[10,20,30,40,50,15,25,5]\\nnum=x[0]\\nfor i in x:\\n    if i < num:\\n        num = i\\nprint(num)\\n\\nprint(min(x))', 'num': <function num at 0x00000232E48EC0E0>, 'i': 'a', '_i7': '# Write a Python program to find the largest element in a list.\\nx=[10,20,8,40,50,15,25,5]\\nnum =x[0]\\nfor i in x:\\n    if i > num:\\n        num = i\\nprint(num)\\n    \\nprint(max(x))', '_i8': '#using max() with list\\ndef larg(lst):\\n    return max(lst)\\nprint(larg([10,20,30,40,20,50,70,86]))', 'larg': <function larg at 0x00000232E44B4540>, '_i9': 'def lar(n1,n2,n3):\\n    return max(n1,n2,n3)\\nprint(lar(4,9,2))', 'lar': <function lar at 0x00000232E44B45E0>, '_i10': '# using max() with tuple\\ndef lrg(*args):\\n    return max(*args)\\nprint(lrg(4,2,6,7,83,22))', 'lrg': <function lrg at 0x00000232E44B4680>, '_i11': '# Write a Python program to reverse a string.\\nx=\"abcdefg\"\\nprint(\"reversed_string\", x[::-1])', '_i12': '# reverse the array using numpy flip\\nimport numpy as np\\nx=np.array([1,2,3,4,5,6])\\ny= np.flip(x)\\nprint(y)', 'np': <module 'numpy' from 'C:\\\\Users\\\\suvet\\\\anaconda3\\\\Lib\\\\site-packages\\\\numpy\\\\__init__.py'>, '_i13': 'import numpy as np\\nx=np.array([[1,2,3,4,5,6],[8,9,6,8,4,2]])\\ny= np.flip(x)\\nprint(y)', '_i14': '# reverse list using reverse() fn.\\nx=[1,2,3,4,5,6]\\nprint(x)\\nx.reverse()\\nprint(x)\\nprint(x[::-1])', '_i15': '# Write a Python program to count the frequency of each element in a list.\\nx=[1,2,3,4,5,3,1,2,4,6,7]\\ncount={}\\ny=[]\\nfor i in x:\\n    if i not in y:\\n        y.append(i)\\n        count[i] = 1\\n    else:\\n        count[i] += 1\\n        print(i,\":\",count[i])\\n    \\n        ', 'count': {'u': 1, 'e': 1, 'a': 1}, '_i16': 'from collections import Counter\\ndef countfr(lst):\\n    return dict(Counter(lst))\\nprint(countfr([1,2,3,4,5,7,8,4,2,8,2,9,5,1,6,10]))', 'Counter': <class 'collections.Counter'>, 'countfr': <function countfr at 0x00000232E40DF240>, '_i17': 'from collections import Counter\\ndef count_freq(*args):\\n    return dict(Counter(args))\\nprint(count_freq(2,4,6,8,5,4,2,7,6,2))', 'count_freq': <function count_freq at 0x00000232E48CBEC0>, '_i18': '# Write a python code to find the maximum length of element in string.\\ndef maxlen(s):\\n    word = s.split()\\n    return max(word,key = len)\\nprint(maxlen(\"suvetha is a talented girl\"))', 'maxlen': <function maxlen at 0x00000232E48CBE20>, '_i19': 'def maxl(s):\\n    word = s.split()\\n    longest = word[0]\\n    for i in word:\\n        if len(i) > len(longest):\\n            longest = i\\n    print(longest)\\n    \\nmaxl(\"Write a python code to find the maximum length of element in string\")', 'maxl': <function maxl at 0x00000232E40DFD80>, '_i20': '# Write a Python program to count the frequency of each word in a string.\\nfrom collections import Counter\\ndef freq(s):\\n    word = s.split()\\n    return dict(Counter(word))\\nprint(freq(\"Friend indeed is a Friend in deed\"))', 'freq': <function freq at 0x00000232E44B4360>, '_i21': 'from collections import Counter\\ndef freq(s):\\n    return dict(Counter(s))\\nprint(freq(\"Friend indeed is a Friend in deed\"))', '_i22': '# Write a Python program to check if a number is composite or prime\\ndef comp(n):\\n    if n<2:\\n        return False\\n    for i in range(2,int((n**0.5)+1)):\\n        if n%i == 0:\\n            return f\"{n} : composite\"\\n    return f\"{n} : prime\"\\nprint(comp(28))\\n   \\n#n=28\\n#print(range(2, int(n ** 0.5) + 1))', 'comp': <function comp at 0x00000232DE718D60>, '_i23': '# Write a Python program to check if a number is prime.\\ndef prime(n):\\n    if n<2:\\n        return False\\n    for i in range(2,int((n**0.5)+1)):\\n        if n%i == 0:\\n            return \"composite\"\\n    return \\'prime\\'\\nprint(prime(7))', 'prime': <function prime at 0x00000232E40DF380>, '_i24': '# Write the code to find if the number is even or odd.\\ndef ch(num):\\n    if num % 2 == 0:\\n        return f\"{num} is even number\"\\n    else:\\n        return f\"{num} is odd number\"\\nch(110)', 'ch': <function ch at 0x00000232E40DF920>, '_24': '110 is even number', '_i25': 'def ch(num):\\n    if num % 2 == 0:\\n        print(num,\"is even number\")\\n    else:\\n        print(num,\"is odd number\")\\nch(110)', '_i26': '# write code to find even or odd using ternary operator.\\nx = int(input(\"enter a number:\"))\\nprint(\"even\" if x%2 == 0 else \"odd\")', '_i27': 'def num(x):\\n    return x % 2 == 0\\nprint(num(116))', '_i28': '# write code to merge two string.\\nstr1 = \"With God Grace\"\\nstr2 = \"I am fine.\"\\nmer1 = str1 + str2\\nprint(mer1)\\nmer2 = str1 + \" \" + str2\\nprint(mer2)', 'str1': 'With God Grace', 'str2': 'I am fine.', 'mer1': 'With God GraceI am fine.', 'mer2': 'With God Grace I am fine.', '_i29': '# Write the code to count the consonant in string.\\nfrom collections import Counter\\ns=\"Suvethav\"\\nx= []\\nfor i in s:\\n    if i.lower() not in \\'aeiou\\':\\n        x.append(i)\\nprint(dict(Counter(x)))', 's': 'python', '_i30': '\\'\\'\\'from collections import Counter\\nx= \"Friend indeed is a Friend in deed\"\\nfor i in x:\\n    if i.lower() not in \\'aeiou\\':\\n        print(dict(Counter(i)))\\n\\'\\'\\'\\nfrom collections import Counter\\nx= \"Friend indeed is a Friend in deed\"        \\ny = [i for i in x if i.lower() not in \\'aeiou\\']\\nres = dict(Counter(y))\\nprint(res)', 'res': {1: 2, 3: 3, 5: 2, 6: 2, 7: 2, 8: 2, 2: 2, 4: 3, 19: 1, 79: 1}, '_i31': 'from collections import Counter\\nx= \"Friend indeed is a Friend in deed\"\\nfor i in x:\\n    if i.lower() not in \\'aeiou\\':\\n        print(dict(Counter(i)))', '_i32': '# Write the python code to find the count of vowels.\\ndef vowel(s):\\n    return sum(1 for i in s if i.lower() in \\'aeiou\\')\\nprint(vowel(\"suvetha\"))\\n\\nx=\"suvetha\"\\ncount=0\\nfor i in x:\\n    if i in \\'aeiou\\':\\n        count+=1\\nprint(\"number of vowel\", count)    ', 'vowel': <function vowel at 0x00000232E48EC180>, '_i33': '# Write the python code to find the veowls.\\nx=\"suvetha\"\\nfor i in x:\\n    if i in \\'aeiou\\':\\n        print(i)', '_i34': '# Write the python code to find the veowls and its count.\\nfrom collections import Counter\\nx=\"suvetha\"\\nfor i in x:\\n    if i in \\'aeiou\\':\\n        print(dict(Counter(i)))', '_i35': '# Write the python code to find the veowls and its count.\\nfrom collections import Counter\\nx=\"suvethaouaiau\"\\ny = []\\nfor i in x:\\n    if i in \\'aeiou\\':\\n        y.append(i)\\nprint(dict(Counter(y)))', '_i36': 'x=\"suvetha\"\\ncount={}\\nfor i in x:\\n    if i in \\'aeiou\\':\\n        count[i]=count.get(i,0)+1\\n        print(i,\":\",count[i])\\n        ', '_i37': 'l = [1,3,5,6,7,8,3,2,4,5,4,1,4,2,3,6,8,7,19,79]\\nres = {x:l.count(x) for x in l}\\nprint(res)', 'l': ['p', 'y', 't', 'h', 'o', 'n'], '_i38': '# convert string to int.\\nx=\"123456\"\\nprint(x,type(x))\\ny= int(x)\\nprint(y,type(y))\\nprint(x[1])\\n#print(y[1]) --------int can\\'t be slicing using index number', '_i39': \"# convert list into string.\\nl= ['p','y','t','h','o','n']\\ns= ''.join(l)\\nprint(l,type(l))\\nprint(s,type(s))\", '_i40': '# write the code to find the area of rectangle.\\ndef rect(length,width):\\n    return length * width\\nprint(rect(10,35))', 'rect': <function rect at 0x00000232E44B40E0>, '_i41': '# write the code to find the area of triangle.\\ndef tri(length,height):\\n    return (length * height)//2\\nprint(tri(3,2))', 'tri': <function tri at 0x00000232E48EC2C0>, '_i42': \"#Write the code to merge the two dictionary.\\ndict1={'Name':'Suvetha','reg':101}\\ndict2={'Name':'jeni','dept':'IT','salary':'70k'}\\nmerged= {**dict1,**dict2}\\nprint(merged)\", 'dict1': {'Name': 'Suvetha', 'reg': 101}, 'dict2': {'Name': 'jeni', 'dept': 'IT', 'salary': '70k'}, 'merged': {'Name': 'jeni', 'reg': 101, 'dept': 'IT', 'salary': '70k'}, '_i43': \"dict1={'Name':'Suvetha','reg':101}\\ndict2={'Name':'jeni','dept':'IT','salary':'70k'}\\nmerge= dict1 | dict2\\nprint(merge)\", 'merge': {'Name': 'jeni', 'reg': 101, 'dept': 'IT', 'salary': '70k'}, '_i44': \"dict1={'Name':'Suvetha','reg':101}\\ndict2={'Name':'jeni','dept':'IT','salary':'70k'}\\ndict1.update(dict2)\\nprint(dict1)\", '_i45': \"#Dictionary comprehension\\ndict1={'Name':'Suvetha','reg':101}\\ndict2={'Name':'jeni','dept':'IT','salary':'70k'}\\nnewdic= {key:value for d in (dict1,dict2) for key,value in d.items()}\\nprint(newdic)\", 'newdic': {'Name': 'jeni', 'reg': 101, 'dept': 'IT', 'salary': '70k'}, '_i46': '# ---- check the key in the dictionary or not\\nd={\\'Name\\':\\'jeni\\',\\'dept\\':\\'IT\\',\\'salary\\':\\'70k\\'}\\nif \\'dept\\' in d.keys():\\n    print(\"Yes\")', 'd': {'Name': 'jeni', 'dept': 'IT', 'salary': '70k'}, '_i47': 'd={\\'Name\\':\\'jeni\\',\\'dept\\':\\'IT\\',\\'salary\\':\\'70k\\'}\\nif \\'dept\\' in d:\\n    print(\"Yes\")', '_i48': 'print(locals())  # ---------- retrives a dictionary of local symbols.\\n# --------- locals() returns a dictionary representing the current local symbol table (includes all the local variable)'}\n"
     ]
    }
   ],
   "source": [
    "print(locals())  # ---------- retrives a dictionary of local symbols.\n",
    "# --------- locals() returns a dictionary representing the current local symbol table (includes all the local variable)"
   ]
  },
  {
   "cell_type": "code",
   "execution_count": 49,
   "id": "8c849cff",
   "metadata": {},
   "outputs": [
    {
     "name": "stdout",
     "output_type": "stream",
     "text": [
      "{'__name__': '__main__', '__doc__': 'from collections import Counter\\nx= \"Friend indeed is a Friend in deed\"\\nfor i in x:\\n    if i.lower() not in \\'aeiou\\':\\n        print(dict(Counter(i)))\\n', '__package__': None, '__loader__': None, '__spec__': None, '__builtin__': <module 'builtins' (built-in)>, '__builtins__': <module 'builtins' (built-in)>, '_ih': ['', '# Write a Python program to check if a string is a palindrome.\\nx= \"abcddcba\"\\ny= x[::-1]\\nif x==y:\\n    print(x, \"is palindrome\")\\nelse:\\n    print(x, \"is not a palindrome\")\\n    ', '#void fn.\\ndef pal(x):\\n    y = x[::-1]\\n    if y==x:\\n        return f\"{x} is palindrome\"\\n    else:\\n        return f\"{x} is not a palindrome\"\\nprint(pal(\"mom\"))', '# non-void fn.\\ndef pal(x):\\n    y = x[::-1]\\n    if y==x:\\n        print(f\"{x} is palindrome\")\\n    else:\\n        print(f\"{x} is not a palindrome\")\\nprint(pal(\"mom\"))', '# Write a Python program to find the factorial of the number\\ndef factorial(n):\\n    if n == 0:\\n        return 1\\n    else:\\n        return n * factorial(n-1)\\nfactorial(4)', \"# Write the program to find the sum of n natural number. \\ndef sum_of_n(n):\\n    if n==1:\\n        return 1\\n    return n + sum_of_n(n-1)\\nprint(sum_of_n(5))\\n\\n'''----Recursion........ a fn. calls itself directly or indirectly inside the fn. to solve the pblm.\\nbreaking the pblm. to smaller sub pblm. to solve it.'''\", '# Write a Python program to find the smallest element in a list.\\nx=[10,20,30,40,50,15,25,5]\\nnum=x[0]\\nfor i in x:\\n    if i < num:\\n        num = i\\nprint(num)\\n\\nprint(min(x))', '# Write a Python program to find the largest element in a list.\\nx=[10,20,8,40,50,15,25,5]\\nnum =x[0]\\nfor i in x:\\n    if i > num:\\n        num = i\\nprint(num)\\n    \\nprint(max(x))', '#using max() with list\\ndef larg(lst):\\n    return max(lst)\\nprint(larg([10,20,30,40,20,50,70,86]))', 'def lar(n1,n2,n3):\\n    return max(n1,n2,n3)\\nprint(lar(4,9,2))', '# using max() with tuple\\ndef lrg(*args):\\n    return max(*args)\\nprint(lrg(4,2,6,7,83,22))', '# Write a Python program to reverse a string.\\nx=\"abcdefg\"\\nprint(\"reversed_string\", x[::-1])', '# reverse the array using numpy flip\\nimport numpy as np\\nx=np.array([1,2,3,4,5,6])\\ny= np.flip(x)\\nprint(y)', 'import numpy as np\\nx=np.array([[1,2,3,4,5,6],[8,9,6,8,4,2]])\\ny= np.flip(x)\\nprint(y)', '# reverse list using reverse() fn.\\nx=[1,2,3,4,5,6]\\nprint(x)\\nx.reverse()\\nprint(x)\\nprint(x[::-1])', '# Write a Python program to count the frequency of each element in a list.\\nx=[1,2,3,4,5,3,1,2,4,6,7]\\ncount={}\\ny=[]\\nfor i in x:\\n    if i not in y:\\n        y.append(i)\\n        count[i] = 1\\n    else:\\n        count[i] += 1\\n        print(i,\":\",count[i])\\n    \\n        ', 'from collections import Counter\\ndef countfr(lst):\\n    return dict(Counter(lst))\\nprint(countfr([1,2,3,4,5,7,8,4,2,8,2,9,5,1,6,10]))', 'from collections import Counter\\ndef count_freq(*args):\\n    return dict(Counter(args))\\nprint(count_freq(2,4,6,8,5,4,2,7,6,2))', '# Write a python code to find the maximum length of element in string.\\ndef maxlen(s):\\n    word = s.split()\\n    return max(word,key = len)\\nprint(maxlen(\"suvetha is a talented girl\"))', 'def maxl(s):\\n    word = s.split()\\n    longest = word[0]\\n    for i in word:\\n        if len(i) > len(longest):\\n            longest = i\\n    print(longest)\\n    \\nmaxl(\"Write a python code to find the maximum length of element in string\")', '# Write a Python program to count the frequency of each word in a string.\\nfrom collections import Counter\\ndef freq(s):\\n    word = s.split()\\n    return dict(Counter(word))\\nprint(freq(\"Friend indeed is a Friend in deed\"))', 'from collections import Counter\\ndef freq(s):\\n    return dict(Counter(s))\\nprint(freq(\"Friend indeed is a Friend in deed\"))', '# Write a Python program to check if a number is composite or prime\\ndef comp(n):\\n    if n<2:\\n        return False\\n    for i in range(2,int((n**0.5)+1)):\\n        if n%i == 0:\\n            return f\"{n} : composite\"\\n    return f\"{n} : prime\"\\nprint(comp(28))\\n   \\n#n=28\\n#print(range(2, int(n ** 0.5) + 1))', '# Write a Python program to check if a number is prime.\\ndef prime(n):\\n    if n<2:\\n        return False\\n    for i in range(2,int((n**0.5)+1)):\\n        if n%i == 0:\\n            return \"composite\"\\n    return \\'prime\\'\\nprint(prime(7))', '# Write the code to find if the number is even or odd.\\ndef ch(num):\\n    if num % 2 == 0:\\n        return f\"{num} is even number\"\\n    else:\\n        return f\"{num} is odd number\"\\nch(110)', 'def ch(num):\\n    if num % 2 == 0:\\n        print(num,\"is even number\")\\n    else:\\n        print(num,\"is odd number\")\\nch(110)', '# write code to find even or odd using ternary operator.\\nx = int(input(\"enter a number:\"))\\nprint(\"even\" if x%2 == 0 else \"odd\")', 'def num(x):\\n    return x % 2 == 0\\nprint(num(116))', '# write code to merge two string.\\nstr1 = \"With God Grace\"\\nstr2 = \"I am fine.\"\\nmer1 = str1 + str2\\nprint(mer1)\\nmer2 = str1 + \" \" + str2\\nprint(mer2)', '# Write the code to count the consonant in string.\\nfrom collections import Counter\\ns=\"Suvethav\"\\nx= []\\nfor i in s:\\n    if i.lower() not in \\'aeiou\\':\\n        x.append(i)\\nprint(dict(Counter(x)))', '\\'\\'\\'from collections import Counter\\nx= \"Friend indeed is a Friend in deed\"\\nfor i in x:\\n    if i.lower() not in \\'aeiou\\':\\n        print(dict(Counter(i)))\\n\\'\\'\\'\\nfrom collections import Counter\\nx= \"Friend indeed is a Friend in deed\"        \\ny = [i for i in x if i.lower() not in \\'aeiou\\']\\nres = dict(Counter(y))\\nprint(res)', 'from collections import Counter\\nx= \"Friend indeed is a Friend in deed\"\\nfor i in x:\\n    if i.lower() not in \\'aeiou\\':\\n        print(dict(Counter(i)))', '# Write the python code to find the count of vowels.\\ndef vowel(s):\\n    return sum(1 for i in s if i.lower() in \\'aeiou\\')\\nprint(vowel(\"suvetha\"))\\n\\nx=\"suvetha\"\\ncount=0\\nfor i in x:\\n    if i in \\'aeiou\\':\\n        count+=1\\nprint(\"number of vowel\", count)    ', '# Write the python code to find the veowls.\\nx=\"suvetha\"\\nfor i in x:\\n    if i in \\'aeiou\\':\\n        print(i)', '# Write the python code to find the veowls and its count.\\nfrom collections import Counter\\nx=\"suvetha\"\\nfor i in x:\\n    if i in \\'aeiou\\':\\n        print(dict(Counter(i)))', '# Write the python code to find the veowls and its count.\\nfrom collections import Counter\\nx=\"suvethaouaiau\"\\ny = []\\nfor i in x:\\n    if i in \\'aeiou\\':\\n        y.append(i)\\nprint(dict(Counter(y)))', 'x=\"suvetha\"\\ncount={}\\nfor i in x:\\n    if i in \\'aeiou\\':\\n        count[i]=count.get(i,0)+1\\n        print(i,\":\",count[i])\\n        ', 'l = [1,3,5,6,7,8,3,2,4,5,4,1,4,2,3,6,8,7,19,79]\\nres = {x:l.count(x) for x in l}\\nprint(res)', '# convert string to int.\\nx=\"123456\"\\nprint(x,type(x))\\ny= int(x)\\nprint(y,type(y))\\nprint(x[1])\\n#print(y[1]) --------int can\\'t be slicing using index number', \"# convert list into string.\\nl= ['p','y','t','h','o','n']\\ns= ''.join(l)\\nprint(l,type(l))\\nprint(s,type(s))\", '# write the code to find the area of rectangle.\\ndef rect(length,width):\\n    return length * width\\nprint(rect(10,35))', '# write the code to find the area of triangle.\\ndef tri(length,height):\\n    return (length * height)//2\\nprint(tri(3,2))', \"#Write the code to merge the two dictionary.\\ndict1={'Name':'Suvetha','reg':101}\\ndict2={'Name':'jeni','dept':'IT','salary':'70k'}\\nmerged= {**dict1,**dict2}\\nprint(merged)\", \"dict1={'Name':'Suvetha','reg':101}\\ndict2={'Name':'jeni','dept':'IT','salary':'70k'}\\nmerge= dict1 | dict2\\nprint(merge)\", \"dict1={'Name':'Suvetha','reg':101}\\ndict2={'Name':'jeni','dept':'IT','salary':'70k'}\\ndict1.update(dict2)\\nprint(dict1)\", \"#Dictionary comprehension\\ndict1={'Name':'Suvetha','reg':101}\\ndict2={'Name':'jeni','dept':'IT','salary':'70k'}\\nnewdic= {key:value for d in (dict1,dict2) for key,value in d.items()}\\nprint(newdic)\", '# ---- check the key in the dictionary or not\\nd={\\'Name\\':\\'jeni\\',\\'dept\\':\\'IT\\',\\'salary\\':\\'70k\\'}\\nif \\'dept\\' in d.keys():\\n    print(\"Yes\")', 'd={\\'Name\\':\\'jeni\\',\\'dept\\':\\'IT\\',\\'salary\\':\\'70k\\'}\\nif \\'dept\\' in d:\\n    print(\"Yes\")', 'print(locals())  # ---------- retrives a dictionary of local symbols.\\n# --------- locals() returns a dictionary representing the current local symbol table (includes all the local variable)', 'print(globals())'], '_oh': {4: 24, 5: '----Recursion........ a fn. calls itself directly or indirectly inside the fn. to solve the pblm.\\nbreaking the pblm. to smaller sub pblm. to solve it.', 24: '110 is even number'}, '_dh': [WindowsPath('C:/Users/suvet')], 'In': ['', '# Write a Python program to check if a string is a palindrome.\\nx= \"abcddcba\"\\ny= x[::-1]\\nif x==y:\\n    print(x, \"is palindrome\")\\nelse:\\n    print(x, \"is not a palindrome\")\\n    ', '#void fn.\\ndef pal(x):\\n    y = x[::-1]\\n    if y==x:\\n        return f\"{x} is palindrome\"\\n    else:\\n        return f\"{x} is not a palindrome\"\\nprint(pal(\"mom\"))', '# non-void fn.\\ndef pal(x):\\n    y = x[::-1]\\n    if y==x:\\n        print(f\"{x} is palindrome\")\\n    else:\\n        print(f\"{x} is not a palindrome\")\\nprint(pal(\"mom\"))', '# Write a Python program to find the factorial of the number\\ndef factorial(n):\\n    if n == 0:\\n        return 1\\n    else:\\n        return n * factorial(n-1)\\nfactorial(4)', \"# Write the program to find the sum of n natural number. \\ndef sum_of_n(n):\\n    if n==1:\\n        return 1\\n    return n + sum_of_n(n-1)\\nprint(sum_of_n(5))\\n\\n'''----Recursion........ a fn. calls itself directly or indirectly inside the fn. to solve the pblm.\\nbreaking the pblm. to smaller sub pblm. to solve it.'''\", '# Write a Python program to find the smallest element in a list.\\nx=[10,20,30,40,50,15,25,5]\\nnum=x[0]\\nfor i in x:\\n    if i < num:\\n        num = i\\nprint(num)\\n\\nprint(min(x))', '# Write a Python program to find the largest element in a list.\\nx=[10,20,8,40,50,15,25,5]\\nnum =x[0]\\nfor i in x:\\n    if i > num:\\n        num = i\\nprint(num)\\n    \\nprint(max(x))', '#using max() with list\\ndef larg(lst):\\n    return max(lst)\\nprint(larg([10,20,30,40,20,50,70,86]))', 'def lar(n1,n2,n3):\\n    return max(n1,n2,n3)\\nprint(lar(4,9,2))', '# using max() with tuple\\ndef lrg(*args):\\n    return max(*args)\\nprint(lrg(4,2,6,7,83,22))', '# Write a Python program to reverse a string.\\nx=\"abcdefg\"\\nprint(\"reversed_string\", x[::-1])', '# reverse the array using numpy flip\\nimport numpy as np\\nx=np.array([1,2,3,4,5,6])\\ny= np.flip(x)\\nprint(y)', 'import numpy as np\\nx=np.array([[1,2,3,4,5,6],[8,9,6,8,4,2]])\\ny= np.flip(x)\\nprint(y)', '# reverse list using reverse() fn.\\nx=[1,2,3,4,5,6]\\nprint(x)\\nx.reverse()\\nprint(x)\\nprint(x[::-1])', '# Write a Python program to count the frequency of each element in a list.\\nx=[1,2,3,4,5,3,1,2,4,6,7]\\ncount={}\\ny=[]\\nfor i in x:\\n    if i not in y:\\n        y.append(i)\\n        count[i] = 1\\n    else:\\n        count[i] += 1\\n        print(i,\":\",count[i])\\n    \\n        ', 'from collections import Counter\\ndef countfr(lst):\\n    return dict(Counter(lst))\\nprint(countfr([1,2,3,4,5,7,8,4,2,8,2,9,5,1,6,10]))', 'from collections import Counter\\ndef count_freq(*args):\\n    return dict(Counter(args))\\nprint(count_freq(2,4,6,8,5,4,2,7,6,2))', '# Write a python code to find the maximum length of element in string.\\ndef maxlen(s):\\n    word = s.split()\\n    return max(word,key = len)\\nprint(maxlen(\"suvetha is a talented girl\"))', 'def maxl(s):\\n    word = s.split()\\n    longest = word[0]\\n    for i in word:\\n        if len(i) > len(longest):\\n            longest = i\\n    print(longest)\\n    \\nmaxl(\"Write a python code to find the maximum length of element in string\")', '# Write a Python program to count the frequency of each word in a string.\\nfrom collections import Counter\\ndef freq(s):\\n    word = s.split()\\n    return dict(Counter(word))\\nprint(freq(\"Friend indeed is a Friend in deed\"))', 'from collections import Counter\\ndef freq(s):\\n    return dict(Counter(s))\\nprint(freq(\"Friend indeed is a Friend in deed\"))', '# Write a Python program to check if a number is composite or prime\\ndef comp(n):\\n    if n<2:\\n        return False\\n    for i in range(2,int((n**0.5)+1)):\\n        if n%i == 0:\\n            return f\"{n} : composite\"\\n    return f\"{n} : prime\"\\nprint(comp(28))\\n   \\n#n=28\\n#print(range(2, int(n ** 0.5) + 1))', '# Write a Python program to check if a number is prime.\\ndef prime(n):\\n    if n<2:\\n        return False\\n    for i in range(2,int((n**0.5)+1)):\\n        if n%i == 0:\\n            return \"composite\"\\n    return \\'prime\\'\\nprint(prime(7))', '# Write the code to find if the number is even or odd.\\ndef ch(num):\\n    if num % 2 == 0:\\n        return f\"{num} is even number\"\\n    else:\\n        return f\"{num} is odd number\"\\nch(110)', 'def ch(num):\\n    if num % 2 == 0:\\n        print(num,\"is even number\")\\n    else:\\n        print(num,\"is odd number\")\\nch(110)', '# write code to find even or odd using ternary operator.\\nx = int(input(\"enter a number:\"))\\nprint(\"even\" if x%2 == 0 else \"odd\")', 'def num(x):\\n    return x % 2 == 0\\nprint(num(116))', '# write code to merge two string.\\nstr1 = \"With God Grace\"\\nstr2 = \"I am fine.\"\\nmer1 = str1 + str2\\nprint(mer1)\\nmer2 = str1 + \" \" + str2\\nprint(mer2)', '# Write the code to count the consonant in string.\\nfrom collections import Counter\\ns=\"Suvethav\"\\nx= []\\nfor i in s:\\n    if i.lower() not in \\'aeiou\\':\\n        x.append(i)\\nprint(dict(Counter(x)))', '\\'\\'\\'from collections import Counter\\nx= \"Friend indeed is a Friend in deed\"\\nfor i in x:\\n    if i.lower() not in \\'aeiou\\':\\n        print(dict(Counter(i)))\\n\\'\\'\\'\\nfrom collections import Counter\\nx= \"Friend indeed is a Friend in deed\"        \\ny = [i for i in x if i.lower() not in \\'aeiou\\']\\nres = dict(Counter(y))\\nprint(res)', 'from collections import Counter\\nx= \"Friend indeed is a Friend in deed\"\\nfor i in x:\\n    if i.lower() not in \\'aeiou\\':\\n        print(dict(Counter(i)))', '# Write the python code to find the count of vowels.\\ndef vowel(s):\\n    return sum(1 for i in s if i.lower() in \\'aeiou\\')\\nprint(vowel(\"suvetha\"))\\n\\nx=\"suvetha\"\\ncount=0\\nfor i in x:\\n    if i in \\'aeiou\\':\\n        count+=1\\nprint(\"number of vowel\", count)    ', '# Write the python code to find the veowls.\\nx=\"suvetha\"\\nfor i in x:\\n    if i in \\'aeiou\\':\\n        print(i)', '# Write the python code to find the veowls and its count.\\nfrom collections import Counter\\nx=\"suvetha\"\\nfor i in x:\\n    if i in \\'aeiou\\':\\n        print(dict(Counter(i)))', '# Write the python code to find the veowls and its count.\\nfrom collections import Counter\\nx=\"suvethaouaiau\"\\ny = []\\nfor i in x:\\n    if i in \\'aeiou\\':\\n        y.append(i)\\nprint(dict(Counter(y)))', 'x=\"suvetha\"\\ncount={}\\nfor i in x:\\n    if i in \\'aeiou\\':\\n        count[i]=count.get(i,0)+1\\n        print(i,\":\",count[i])\\n        ', 'l = [1,3,5,6,7,8,3,2,4,5,4,1,4,2,3,6,8,7,19,79]\\nres = {x:l.count(x) for x in l}\\nprint(res)', '# convert string to int.\\nx=\"123456\"\\nprint(x,type(x))\\ny= int(x)\\nprint(y,type(y))\\nprint(x[1])\\n#print(y[1]) --------int can\\'t be slicing using index number', \"# convert list into string.\\nl= ['p','y','t','h','o','n']\\ns= ''.join(l)\\nprint(l,type(l))\\nprint(s,type(s))\", '# write the code to find the area of rectangle.\\ndef rect(length,width):\\n    return length * width\\nprint(rect(10,35))', '# write the code to find the area of triangle.\\ndef tri(length,height):\\n    return (length * height)//2\\nprint(tri(3,2))', \"#Write the code to merge the two dictionary.\\ndict1={'Name':'Suvetha','reg':101}\\ndict2={'Name':'jeni','dept':'IT','salary':'70k'}\\nmerged= {**dict1,**dict2}\\nprint(merged)\", \"dict1={'Name':'Suvetha','reg':101}\\ndict2={'Name':'jeni','dept':'IT','salary':'70k'}\\nmerge= dict1 | dict2\\nprint(merge)\", \"dict1={'Name':'Suvetha','reg':101}\\ndict2={'Name':'jeni','dept':'IT','salary':'70k'}\\ndict1.update(dict2)\\nprint(dict1)\", \"#Dictionary comprehension\\ndict1={'Name':'Suvetha','reg':101}\\ndict2={'Name':'jeni','dept':'IT','salary':'70k'}\\nnewdic= {key:value for d in (dict1,dict2) for key,value in d.items()}\\nprint(newdic)\", '# ---- check the key in the dictionary or not\\nd={\\'Name\\':\\'jeni\\',\\'dept\\':\\'IT\\',\\'salary\\':\\'70k\\'}\\nif \\'dept\\' in d.keys():\\n    print(\"Yes\")', 'd={\\'Name\\':\\'jeni\\',\\'dept\\':\\'IT\\',\\'salary\\':\\'70k\\'}\\nif \\'dept\\' in d:\\n    print(\"Yes\")', 'print(locals())  # ---------- retrives a dictionary of local symbols.\\n# --------- locals() returns a dictionary representing the current local symbol table (includes all the local variable)', 'print(globals())'], 'Out': {4: 24, 5: '----Recursion........ a fn. calls itself directly or indirectly inside the fn. to solve the pblm.\\nbreaking the pblm. to smaller sub pblm. to solve it.', 24: '110 is even number'}, 'get_ipython': <bound method InteractiveShell.get_ipython of <ipykernel.zmqshell.ZMQInteractiveShell object at 0x00000232E40D8750>>, 'exit': <IPython.core.autocall.ZMQExitAutocall object at 0x00000232E40F3590>, 'quit': <IPython.core.autocall.ZMQExitAutocall object at 0x00000232E40F3590>, 'open': <function open at 0x00000232E206FBA0>, '_': '110 is even number', '__': '----Recursion........ a fn. calls itself directly or indirectly inside the fn. to solve the pblm.\\nbreaking the pblm. to smaller sub pblm. to solve it.', '___': 24, '_i': 'print(locals())  # ---------- retrives a dictionary of local symbols.\\n# --------- locals() returns a dictionary representing the current local symbol table (includes all the local variable)', '_ii': 'd={\\'Name\\':\\'jeni\\',\\'dept\\':\\'IT\\',\\'salary\\':\\'70k\\'}\\nif \\'dept\\' in d:\\n    print(\"Yes\")', '_iii': '# ---- check the key in the dictionary or not\\nd={\\'Name\\':\\'jeni\\',\\'dept\\':\\'IT\\',\\'salary\\':\\'70k\\'}\\nif \\'dept\\' in d.keys():\\n    print(\"Yes\")', '_i1': '# Write a Python program to check if a string is a palindrome.\\nx= \"abcddcba\"\\ny= x[::-1]\\nif x==y:\\n    print(x, \"is palindrome\")\\nelse:\\n    print(x, \"is not a palindrome\")\\n    ', 'x': '123456', 'y': 123456, '_i2': '#void fn.\\ndef pal(x):\\n    y = x[::-1]\\n    if y==x:\\n        return f\"{x} is palindrome\"\\n    else:\\n        return f\"{x} is not a palindrome\"\\nprint(pal(\"mom\"))', 'pal': <function pal at 0x00000232E40DFA60>, '_i3': '# non-void fn.\\ndef pal(x):\\n    y = x[::-1]\\n    if y==x:\\n        print(f\"{x} is palindrome\")\\n    else:\\n        print(f\"{x} is not a palindrome\")\\nprint(pal(\"mom\"))', '_i4': '# Write a Python program to find the factorial of the number\\ndef factorial(n):\\n    if n == 0:\\n        return 1\\n    else:\\n        return n * factorial(n-1)\\nfactorial(4)', 'factorial': <function factorial at 0x00000232E40DCEA0>, '_4': 24, '_i5': \"# Write the program to find the sum of n natural number. \\ndef sum_of_n(n):\\n    if n==1:\\n        return 1\\n    return n + sum_of_n(n-1)\\nprint(sum_of_n(5))\\n\\n'''----Recursion........ a fn. calls itself directly or indirectly inside the fn. to solve the pblm.\\nbreaking the pblm. to smaller sub pblm. to solve it.'''\", 'sum_of_n': <function sum_of_n at 0x00000232E40DFB00>, '_5': '----Recursion........ a fn. calls itself directly or indirectly inside the fn. to solve the pblm.\\nbreaking the pblm. to smaller sub pblm. to solve it.', '_i6': '# Write a Python program to find the smallest element in a list.\\nx=[10,20,30,40,50,15,25,5]\\nnum=x[0]\\nfor i in x:\\n    if i < num:\\n        num = i\\nprint(num)\\n\\nprint(min(x))', 'num': <function num at 0x00000232E48EC0E0>, 'i': 'a', '_i7': '# Write a Python program to find the largest element in a list.\\nx=[10,20,8,40,50,15,25,5]\\nnum =x[0]\\nfor i in x:\\n    if i > num:\\n        num = i\\nprint(num)\\n    \\nprint(max(x))', '_i8': '#using max() with list\\ndef larg(lst):\\n    return max(lst)\\nprint(larg([10,20,30,40,20,50,70,86]))', 'larg': <function larg at 0x00000232E44B4540>, '_i9': 'def lar(n1,n2,n3):\\n    return max(n1,n2,n3)\\nprint(lar(4,9,2))', 'lar': <function lar at 0x00000232E44B45E0>, '_i10': '# using max() with tuple\\ndef lrg(*args):\\n    return max(*args)\\nprint(lrg(4,2,6,7,83,22))', 'lrg': <function lrg at 0x00000232E44B4680>, '_i11': '# Write a Python program to reverse a string.\\nx=\"abcdefg\"\\nprint(\"reversed_string\", x[::-1])', '_i12': '# reverse the array using numpy flip\\nimport numpy as np\\nx=np.array([1,2,3,4,5,6])\\ny= np.flip(x)\\nprint(y)', 'np': <module 'numpy' from 'C:\\\\Users\\\\suvet\\\\anaconda3\\\\Lib\\\\site-packages\\\\numpy\\\\__init__.py'>, '_i13': 'import numpy as np\\nx=np.array([[1,2,3,4,5,6],[8,9,6,8,4,2]])\\ny= np.flip(x)\\nprint(y)', '_i14': '# reverse list using reverse() fn.\\nx=[1,2,3,4,5,6]\\nprint(x)\\nx.reverse()\\nprint(x)\\nprint(x[::-1])', '_i15': '# Write a Python program to count the frequency of each element in a list.\\nx=[1,2,3,4,5,3,1,2,4,6,7]\\ncount={}\\ny=[]\\nfor i in x:\\n    if i not in y:\\n        y.append(i)\\n        count[i] = 1\\n    else:\\n        count[i] += 1\\n        print(i,\":\",count[i])\\n    \\n        ', 'count': {'u': 1, 'e': 1, 'a': 1}, '_i16': 'from collections import Counter\\ndef countfr(lst):\\n    return dict(Counter(lst))\\nprint(countfr([1,2,3,4,5,7,8,4,2,8,2,9,5,1,6,10]))', 'Counter': <class 'collections.Counter'>, 'countfr': <function countfr at 0x00000232E40DF240>, '_i17': 'from collections import Counter\\ndef count_freq(*args):\\n    return dict(Counter(args))\\nprint(count_freq(2,4,6,8,5,4,2,7,6,2))', 'count_freq': <function count_freq at 0x00000232E48CBEC0>, '_i18': '# Write a python code to find the maximum length of element in string.\\ndef maxlen(s):\\n    word = s.split()\\n    return max(word,key = len)\\nprint(maxlen(\"suvetha is a talented girl\"))', 'maxlen': <function maxlen at 0x00000232E48CBE20>, '_i19': 'def maxl(s):\\n    word = s.split()\\n    longest = word[0]\\n    for i in word:\\n        if len(i) > len(longest):\\n            longest = i\\n    print(longest)\\n    \\nmaxl(\"Write a python code to find the maximum length of element in string\")', 'maxl': <function maxl at 0x00000232E40DFD80>, '_i20': '# Write a Python program to count the frequency of each word in a string.\\nfrom collections import Counter\\ndef freq(s):\\n    word = s.split()\\n    return dict(Counter(word))\\nprint(freq(\"Friend indeed is a Friend in deed\"))', 'freq': <function freq at 0x00000232E44B4360>, '_i21': 'from collections import Counter\\ndef freq(s):\\n    return dict(Counter(s))\\nprint(freq(\"Friend indeed is a Friend in deed\"))', '_i22': '# Write a Python program to check if a number is composite or prime\\ndef comp(n):\\n    if n<2:\\n        return False\\n    for i in range(2,int((n**0.5)+1)):\\n        if n%i == 0:\\n            return f\"{n} : composite\"\\n    return f\"{n} : prime\"\\nprint(comp(28))\\n   \\n#n=28\\n#print(range(2, int(n ** 0.5) + 1))', 'comp': <function comp at 0x00000232DE718D60>, '_i23': '# Write a Python program to check if a number is prime.\\ndef prime(n):\\n    if n<2:\\n        return False\\n    for i in range(2,int((n**0.5)+1)):\\n        if n%i == 0:\\n            return \"composite\"\\n    return \\'prime\\'\\nprint(prime(7))', 'prime': <function prime at 0x00000232E40DF380>, '_i24': '# Write the code to find if the number is even or odd.\\ndef ch(num):\\n    if num % 2 == 0:\\n        return f\"{num} is even number\"\\n    else:\\n        return f\"{num} is odd number\"\\nch(110)', 'ch': <function ch at 0x00000232E40DF920>, '_24': '110 is even number', '_i25': 'def ch(num):\\n    if num % 2 == 0:\\n        print(num,\"is even number\")\\n    else:\\n        print(num,\"is odd number\")\\nch(110)', '_i26': '# write code to find even or odd using ternary operator.\\nx = int(input(\"enter a number:\"))\\nprint(\"even\" if x%2 == 0 else \"odd\")', '_i27': 'def num(x):\\n    return x % 2 == 0\\nprint(num(116))', '_i28': '# write code to merge two string.\\nstr1 = \"With God Grace\"\\nstr2 = \"I am fine.\"\\nmer1 = str1 + str2\\nprint(mer1)\\nmer2 = str1 + \" \" + str2\\nprint(mer2)', 'str1': 'With God Grace', 'str2': 'I am fine.', 'mer1': 'With God GraceI am fine.', 'mer2': 'With God Grace I am fine.', '_i29': '# Write the code to count the consonant in string.\\nfrom collections import Counter\\ns=\"Suvethav\"\\nx= []\\nfor i in s:\\n    if i.lower() not in \\'aeiou\\':\\n        x.append(i)\\nprint(dict(Counter(x)))', 's': 'python', '_i30': '\\'\\'\\'from collections import Counter\\nx= \"Friend indeed is a Friend in deed\"\\nfor i in x:\\n    if i.lower() not in \\'aeiou\\':\\n        print(dict(Counter(i)))\\n\\'\\'\\'\\nfrom collections import Counter\\nx= \"Friend indeed is a Friend in deed\"        \\ny = [i for i in x if i.lower() not in \\'aeiou\\']\\nres = dict(Counter(y))\\nprint(res)', 'res': {1: 2, 3: 3, 5: 2, 6: 2, 7: 2, 8: 2, 2: 2, 4: 3, 19: 1, 79: 1}, '_i31': 'from collections import Counter\\nx= \"Friend indeed is a Friend in deed\"\\nfor i in x:\\n    if i.lower() not in \\'aeiou\\':\\n        print(dict(Counter(i)))', '_i32': '# Write the python code to find the count of vowels.\\ndef vowel(s):\\n    return sum(1 for i in s if i.lower() in \\'aeiou\\')\\nprint(vowel(\"suvetha\"))\\n\\nx=\"suvetha\"\\ncount=0\\nfor i in x:\\n    if i in \\'aeiou\\':\\n        count+=1\\nprint(\"number of vowel\", count)    ', 'vowel': <function vowel at 0x00000232E48EC180>, '_i33': '# Write the python code to find the veowls.\\nx=\"suvetha\"\\nfor i in x:\\n    if i in \\'aeiou\\':\\n        print(i)', '_i34': '# Write the python code to find the veowls and its count.\\nfrom collections import Counter\\nx=\"suvetha\"\\nfor i in x:\\n    if i in \\'aeiou\\':\\n        print(dict(Counter(i)))', '_i35': '# Write the python code to find the veowls and its count.\\nfrom collections import Counter\\nx=\"suvethaouaiau\"\\ny = []\\nfor i in x:\\n    if i in \\'aeiou\\':\\n        y.append(i)\\nprint(dict(Counter(y)))', '_i36': 'x=\"suvetha\"\\ncount={}\\nfor i in x:\\n    if i in \\'aeiou\\':\\n        count[i]=count.get(i,0)+1\\n        print(i,\":\",count[i])\\n        ', '_i37': 'l = [1,3,5,6,7,8,3,2,4,5,4,1,4,2,3,6,8,7,19,79]\\nres = {x:l.count(x) for x in l}\\nprint(res)', 'l': ['p', 'y', 't', 'h', 'o', 'n'], '_i38': '# convert string to int.\\nx=\"123456\"\\nprint(x,type(x))\\ny= int(x)\\nprint(y,type(y))\\nprint(x[1])\\n#print(y[1]) --------int can\\'t be slicing using index number', '_i39': \"# convert list into string.\\nl= ['p','y','t','h','o','n']\\ns= ''.join(l)\\nprint(l,type(l))\\nprint(s,type(s))\", '_i40': '# write the code to find the area of rectangle.\\ndef rect(length,width):\\n    return length * width\\nprint(rect(10,35))', 'rect': <function rect at 0x00000232E44B40E0>, '_i41': '# write the code to find the area of triangle.\\ndef tri(length,height):\\n    return (length * height)//2\\nprint(tri(3,2))', 'tri': <function tri at 0x00000232E48EC2C0>, '_i42': \"#Write the code to merge the two dictionary.\\ndict1={'Name':'Suvetha','reg':101}\\ndict2={'Name':'jeni','dept':'IT','salary':'70k'}\\nmerged= {**dict1,**dict2}\\nprint(merged)\", 'dict1': {'Name': 'Suvetha', 'reg': 101}, 'dict2': {'Name': 'jeni', 'dept': 'IT', 'salary': '70k'}, 'merged': {'Name': 'jeni', 'reg': 101, 'dept': 'IT', 'salary': '70k'}, '_i43': \"dict1={'Name':'Suvetha','reg':101}\\ndict2={'Name':'jeni','dept':'IT','salary':'70k'}\\nmerge= dict1 | dict2\\nprint(merge)\", 'merge': {'Name': 'jeni', 'reg': 101, 'dept': 'IT', 'salary': '70k'}, '_i44': \"dict1={'Name':'Suvetha','reg':101}\\ndict2={'Name':'jeni','dept':'IT','salary':'70k'}\\ndict1.update(dict2)\\nprint(dict1)\", '_i45': \"#Dictionary comprehension\\ndict1={'Name':'Suvetha','reg':101}\\ndict2={'Name':'jeni','dept':'IT','salary':'70k'}\\nnewdic= {key:value for d in (dict1,dict2) for key,value in d.items()}\\nprint(newdic)\", 'newdic': {'Name': 'jeni', 'reg': 101, 'dept': 'IT', 'salary': '70k'}, '_i46': '# ---- check the key in the dictionary or not\\nd={\\'Name\\':\\'jeni\\',\\'dept\\':\\'IT\\',\\'salary\\':\\'70k\\'}\\nif \\'dept\\' in d.keys():\\n    print(\"Yes\")', 'd': {'Name': 'jeni', 'dept': 'IT', 'salary': '70k'}, '_i47': 'd={\\'Name\\':\\'jeni\\',\\'dept\\':\\'IT\\',\\'salary\\':\\'70k\\'}\\nif \\'dept\\' in d:\\n    print(\"Yes\")', '_i48': 'print(locals())  # ---------- retrives a dictionary of local symbols.\\n# --------- locals() returns a dictionary representing the current local symbol table (includes all the local variable)', '_i49': 'print(globals())'}\n"
     ]
    }
   ],
   "source": [
    "print(globals())"
   ]
  },
  {
   "cell_type": "code",
   "execution_count": 50,
   "id": "4568f0f1",
   "metadata": {},
   "outputs": [
    {
     "name": "stdout",
     "output_type": "stream",
     "text": [
      "[1, 2, 3, 4, 5, 76, 4, 3, 4, 6, 8, 4, 97]\n",
      "[1, 2, 3, 4, 5, 76, 4, 3, 4, 6, 8, 4, 97]\n"
     ]
    }
   ],
   "source": [
    "#merging tow list\n",
    "l1= [1,2,3,4,5,76,4]\n",
    "l2=[3,4,6,8,4,97]\n",
    "l= l1+l2\n",
    "print(l)\n",
    "ll=[*l1,*l2]\n",
    "print(ll)"
   ]
  },
  {
   "cell_type": "code",
   "execution_count": 51,
   "id": "8c06caf5",
   "metadata": {},
   "outputs": [
    {
     "name": "stdout",
     "output_type": "stream",
     "text": [
      "[1, 2, 3, 4, 5, 76, 4, [3, 4, 6, 8, 4, 97]]\n"
     ]
    }
   ],
   "source": [
    "l1.append(l2)\n",
    "print(l1)"
   ]
  },
  {
   "cell_type": "code",
   "execution_count": 52,
   "id": "dad642b2",
   "metadata": {},
   "outputs": [
    {
     "name": "stdout",
     "output_type": "stream",
     "text": [
      "[1, 2, 3, 4, 5, 6, 7]\n",
      "[1, 2, 3, 4, 5, 6, 7, 8]\n",
      "[1, 2, 3, 4, 5, 6, 7, 8, [9, 10, 11]]\n",
      "[9, 10, 11]\n",
      "10\n"
     ]
    },
    {
     "data": {
      "text/plain": [
       "'\\n------- append can insert 1 element or 1 list of element. not like this l.append(9,10,11)\\ncan join the element in the last of the list--------- append join the list of element as one element\\n'"
      ]
     },
     "execution_count": 52,
     "metadata": {},
     "output_type": "execute_result"
    }
   ],
   "source": [
    "# append is used to insert the elemnt\n",
    "l= [1,2,3,4,5,6,7]\n",
    "print(l)\n",
    "l.append(8)\n",
    "print(l)\n",
    "l.append([9,10,11])\n",
    "print(l)\n",
    "print(l[8])\n",
    "print(l[8][1])\n",
    "'''\n",
    "------- append can insert 1 element or 1 list of element. not like this l.append(9,10,11)\n",
    "can join the element in the last of the list--------- append join the list of element as one element\n",
    "'''"
   ]
  },
  {
   "cell_type": "code",
   "execution_count": 53,
   "id": "c4b6b8f6",
   "metadata": {},
   "outputs": [
    {
     "name": "stdout",
     "output_type": "stream",
     "text": [
      "[1, 2, 3, 4, 5, 76, 4, [3, 4, 6, 8, 4, 97], 3, 4, 6, 8, 4, 97]\n",
      "3\n"
     ]
    }
   ],
   "source": [
    "#--- extend add the element one by one \n",
    "l1.extend(l2) \n",
    "print(l1)\n",
    "print(l1[2])"
   ]
  },
  {
   "cell_type": "code",
   "execution_count": 54,
   "id": "ff89fc66",
   "metadata": {},
   "outputs": [
    {
     "name": "stdout",
     "output_type": "stream",
     "text": [
      "[1, 2, 3, 4, 5, 6, 7, 8]\n",
      "[1, 2, 22, 3, 4, 5, 6, 7, 8]\n",
      "[1, 2, 22, 3, 4, 5, 6, 7, 33, 8]\n",
      "[1, 2, 22, 3, 4, 5, 6, 7, 31, 33, 8]\n"
     ]
    }
   ],
   "source": [
    "# insert can add element in any place by using index number.\n",
    "l1= [1,2,3,4,5,6,7,8]\n",
    "print(l1)\n",
    "l1.insert(2,22) #-------insert(index,value)\n",
    "print(l1)\n",
    "l1.insert(-1,33)\n",
    "print(l1)\n",
    "l1.insert(-2,31)\n",
    "print(l1)"
   ]
  },
  {
   "cell_type": "code",
   "execution_count": 55,
   "id": "74290e92",
   "metadata": {},
   "outputs": [
    {
     "name": "stdout",
     "output_type": "stream",
     "text": [
      "[3, 4, 5, 7]\n"
     ]
    }
   ],
   "source": [
    "li1=[1,2,3,4,5,7,86]\n",
    "li2=[4,5,7,8,3,5,887,54]\n",
    "li=list( set(li1) & set(li2))\n",
    "print(li)"
   ]
  },
  {
   "cell_type": "code",
   "execution_count": 21,
   "id": "891f6234",
   "metadata": {},
   "outputs": [
    {
     "name": "stdout",
     "output_type": "stream",
     "text": [
      "[2, 3, 4, 5, 6, 7]\n",
      "[]\n",
      "[1, 2, 3, 4, 5, 6, 7, 8, 9, 10, 11, 34, 66, 88, 3333, 567, 234, 12]\n",
      "[1, 2, 3, 4, 5, 6, 7, 8, 9, 10, 11, 34, 66, 88, 3333, 567, 234]\n",
      "6\n",
      "[1, 2, 3, 4, 5, 7, 8, 9, 10, 11, 34, 66, 88, 3333, 567, 234]\n",
      "[1, 2, 3, 4, 5, 7, 8, 9, 11, 34, 66, 88, 3333, 567, 234]\n",
      "[1, 2, 66, 88, 5, 6, 7, 8, 9]\n",
      "True\n",
      "3\n",
      "[1, 2, 66, 88, 5, 6, 7, 8, 9, 88, 5, 7, 77, 43, 65, 88, 2]\n"
     ]
    }
   ],
   "source": [
    "l1= [2,3,4,5,6,7]\n",
    "print(l1)\n",
    "l1.clear()  # to delete all element in the list but the empty list is exist.\n",
    "print(l1)\n",
    "lst= [1,2,3,4,5,6,7,8,9,10,11,34,66,88,3333,567,234,12]\n",
    "print(lst)\n",
    "lst.pop() #-------------remove using index number if not specify the index then remove last element.\n",
    "print(lst)\n",
    "print(lst.pop(5)) #------------remove using index(5)\n",
    "print(lst)\n",
    "lst.remove(10) #--------remove using the element value remove(10)-------remove the value '10'\n",
    "print(lst)\n",
    "lst1 = [1,2,3,4,5,6,7,8,9]\n",
    "lst1[2:4] = [66,88]\n",
    "print(lst1)\n",
    "lst1[5]\n",
    "print(88 in lst1)\n",
    "#lst1.discard(8)   # ------ discard are not in list.\n",
    "print(lst1.index(88))\n",
    "lst1.extend([88,5,7,77,43,65,88,2])\n",
    "print(lst1)\n",
    "del lst1   # ------ delete all element also the list ------ i fi ask to print the list it raise an error."
   ]
  },
  {
   "cell_type": "code",
   "execution_count": 19,
   "id": "50deb0f6",
   "metadata": {},
   "outputs": [
    {
     "name": "stdout",
     "output_type": "stream",
     "text": [
      "{1, 2, 4, 5, 6, 7, 8, 9, 10}\n",
      "{1, 2, 5, 6, 7, 8, 9, 10}\n",
      "{2, 5, 6, 7, 8, 9, 10}\n",
      "set()\n"
     ]
    }
   ],
   "source": [
    "s = {1,2,3,4,5,6,7,8,9,10}\n",
    "s.remove(3)   # ------- removes the value if it exist otherwise error will occurs.\n",
    "print(s)\n",
    "s.discard(4)\n",
    "print(s)\n",
    "s.discard(11)   # -------- removes the value if it exist if no more element in the set does't raise an error.\n",
    "s.pop()\n",
    "print(s)\n",
    "s.clear()\n",
    "print(s)\n"
   ]
  },
  {
   "cell_type": "code",
   "execution_count": 50,
   "id": "3a6e4236",
   "metadata": {},
   "outputs": [
    {
     "name": "stdout",
     "output_type": "stream",
     "text": [
      "(1, 2, 3, 4, 5, 6, 7, 8, 9, 10)\n"
     ]
    }
   ],
   "source": [
    "t = (1,2,3,4,5,6,7,8,9,10) \n",
    "# t.clear()  --------- tuple dosen't has clear() fn.\n",
    "print(t)\n",
    "tt = (11,12,13,14,15,16,17,18)\n",
    "del tt    # ------ completely delete"
   ]
  },
  {
   "cell_type": "code",
   "execution_count": 57,
   "id": "08e5642f",
   "metadata": {},
   "outputs": [
    {
     "name": "stdout",
     "output_type": "stream",
     "text": [
      "[1, 2, 3, 4, 5, 6, 7, 6, 4, 3, 2, 5, 4, 1, 6, 7, 8, 9, 3, 4, 6, 10]\n",
      "4\n",
      "3\n"
     ]
    }
   ],
   "source": [
    "# can count the specific element in the list.\n",
    "l= [1,2,3,4,5,6,7,6,4,3,2,5,4,1,6,7,8,9,3,4,6,10]\n",
    "print(l)\n",
    "print(l.count(6))\n",
    "'''-----same as min(),max(),sum(),sort() >>>>> default asccending order----- if u need descending the sort(reverse= True)'''\n",
    "print(l.index(4))  #-------index() took only the 1st occurence of the element."
   ]
  },
  {
   "cell_type": "code",
   "execution_count": 58,
   "id": "df5b2260",
   "metadata": {},
   "outputs": [
    {
     "name": "stdout",
     "output_type": "stream",
     "text": [
      "<class 'int'>\n",
      "<class 'tuple'>\n",
      "<class 'str'>\n",
      "<class 'tuple'>\n",
      "orange\n",
      "<class 'tuple'>\n",
      "('apple', 'banana', 'grape', 'mango')\n",
      "('apple', 'banana', 'grape', 'mango', 'orange')\n"
     ]
    }
   ],
   "source": [
    "t = (60) #--------- single element in the () not consider as an tuple --------- if it with numbers then named as 'int'\n",
    "print(type(t))\n",
    "tt = (60,)\n",
    "print(type(tt)) \n",
    "t1 = ('apple')   # -------- single element in the () as alphabet then named as string\n",
    "print(type(t1))\n",
    "x = 'apple','orange','banana'  # -------- without any brackets also named as tuple\n",
    "print(type(x))\n",
    "print(x[1])\n",
    "y = 1,2,3,4,5,6   # --------- without any brackets also named as tuple\n",
    "print(type(y))\n",
    "\n",
    "fruit = ('apple','banana','grape','mango')\n",
    "print(fruit)\n",
    "fruit += ('orange',)\n",
    "print(fruit)"
   ]
  },
  {
   "cell_type": "code",
   "execution_count": 59,
   "id": "adeeed10",
   "metadata": {},
   "outputs": [
    {
     "name": "stdout",
     "output_type": "stream",
     "text": [
      "(1, 2, 3, 4, 67, 9, 3, 5, 7, 9, 3, 76, 89)\n",
      "(1, 2, 3, 4, 67, 9, 3, 5, 7, 9, 3, 76, 89)\n"
     ]
    }
   ],
   "source": [
    "#merging tow tuple\n",
    "t1=(1,2,3,4,67,9)\n",
    "t2=(3,5,7,9,3,76,89)\n",
    "t=(*t1,*t2)\n",
    "print(t)\n",
    "tt= t1+t2\n",
    "print(tt)"
   ]
  },
  {
   "cell_type": "code",
   "execution_count": 60,
   "id": "85bc94d0",
   "metadata": {},
   "outputs": [
    {
     "name": "stdout",
     "output_type": "stream",
     "text": [
      "{2, 84, 5}\n",
      "{1, 2, 65, 4, 5, 6, 7, 76, 84, 21, 90}\n",
      "{1, 2, 65, 4, 5, 6, 7, 76, 84, 21, 90}\n",
      "{2, 84, 5}\n",
      "{1, 4, 7}\n"
     ]
    }
   ],
   "source": [
    "# merging tow set\n",
    "s1={1,2,4,5,7,84}\n",
    "s2={65,76,2,5,6,84,90,21}\n",
    "s= s1 & s2 # merge with common value\n",
    "print(s)\n",
    "ss= s1 | s2 \n",
    "print(ss) # merge with all value\n",
    " # --- same as maths concept union, intersection, difference\n",
    "print(s1.union(s2))\n",
    "print(s1.intersection(s2))\n",
    "print(s1.difference(s2))"
   ]
  },
  {
   "cell_type": "code",
   "execution_count": 61,
   "id": "4df904f1",
   "metadata": {},
   "outputs": [
    {
     "name": "stdout",
     "output_type": "stream",
     "text": [
      "{2, 3, 4, 5}\n"
     ]
    }
   ],
   "source": [
    "set1 = {1,2,3,4}\n",
    "set2 = {4,5}\n",
    "set3 ={2,3,4,5,7,8}\n",
    "print(set1.union(set2).intersection(set3))"
   ]
  },
  {
   "cell_type": "code",
   "execution_count": 65,
   "id": "3d919146",
   "metadata": {},
   "outputs": [
    {
     "name": "stdout",
     "output_type": "stream",
     "text": [
      "5\n",
      "7\n"
     ]
    }
   ],
   "source": [
    "# Finding middle element in list.\n",
    "l=[1,2,3,4,5,64,7,3,86]\n",
    "x=len(l)//2\n",
    "print(l[x])\n",
    "l1=[1,2,3,4,5,64,7,3,86,23,87,41]\n",
    "x1=len(l1)//2\n",
    "print(l1[x1])"
   ]
  },
  {
   "cell_type": "code",
   "execution_count": 4,
   "id": "855e91c1",
   "metadata": {},
   "outputs": [
    {
     "name": "stdout",
     "output_type": "stream",
     "text": [
      "[1, 2, 3, 4, 5, 6, 7, 8, 21]\n"
     ]
    }
   ],
   "source": [
    "# code to remove the reappearing element in list.\n",
    "l= [1,2,3,4,5,8,7,2,6,1,8,3,21]\n",
    "li= list(set(l))\n",
    "print(li)"
   ]
  },
  {
   "cell_type": "code",
   "execution_count": 15,
   "id": "c2b85117",
   "metadata": {},
   "outputs": [
    {
     "name": "stdout",
     "output_type": "stream",
     "text": [
      "[2, 4, 6, 8, 10, 12, 14, 16, 18, 20, 22, 24, 26]\n"
     ]
    }
   ],
   "source": [
    "# code to filter out the even number from thelist using filter fn.\n",
    "l = [1,2,3,4,5,6,7,8,9,10,11,12,13,14,15,16,17,18,29,20,22,21,23,24,25,26]\n",
    "res = list(filter(lambda x : x%2 == 0, l))\n",
    "print(res)"
   ]
  },
  {
   "cell_type": "code",
   "execution_count": 5,
   "id": "e059619d",
   "metadata": {},
   "outputs": [
    {
     "name": "stdout",
     "output_type": "stream",
     "text": [
      "3\n"
     ]
    }
   ],
   "source": [
    "def countup(s):\n",
    "    return sum(1 for i in s if i.isupper())\n",
    "print(countup(\"Suvetha is a Good Girl\"))"
   ]
  },
  {
   "cell_type": "code",
   "execution_count": 4,
   "id": "2532eb17",
   "metadata": {},
   "outputs": [
    {
     "name": "stdout",
     "output_type": "stream",
     "text": [
      "15\n",
      "-1582\n",
      "288\n",
      "0.7804878048780488\n"
     ]
    }
   ],
   "source": [
    "# calculator.\n",
    "def cal(a,b,operation):\n",
    "    if operation == 'add':\n",
    "        return a+b\n",
    "    elif operation == 'subraction':\n",
    "        return a-b\n",
    "    elif operation == 'multiplication':\n",
    "        return a*b\n",
    "    elif operation == 'divide':\n",
    "        return a/b if b != 0 else \"infinity\"\n",
    "    else:\n",
    "        return \"invalid operation\"\n",
    "print(cal(3,12,'add'))\n",
    "print(cal(63,1645,'subraction'))\n",
    "print(cal(24,12,'multiplication'))\n",
    "print(cal(64,82,'divide'))"
   ]
  },
  {
   "cell_type": "code",
   "execution_count": 6,
   "id": "a69f3706",
   "metadata": {},
   "outputs": [
    {
     "name": "stdout",
     "output_type": "stream",
     "text": [
      "[8, 10, 8, 13, 8]\n"
     ]
    }
   ],
   "source": [
    "# Adding two list element.\n",
    "l1=[1,2,3,4,5]\n",
    "l2=[7,8,5,9,3]\n",
    "l3=[]\n",
    "for i in range(0,len(l1)):\n",
    "    l3.append(l1[i]+l2[i])\n",
    "print(l3)"
   ]
  },
  {
   "cell_type": "code",
   "execution_count": 8,
   "id": "e6e3fa7a",
   "metadata": {},
   "outputs": [
    {
     "name": "stdout",
     "output_type": "stream",
     "text": [
      "anagrams\n"
     ]
    }
   ],
   "source": [
    "# finding the word is anagrams.\n",
    "str1 = 'worth'\n",
    "str2 = 'throw'\n",
    "l1 = list(str1)\n",
    "l2 = list(str2)\n",
    "l1.sort()\n",
    "l2.sort()\n",
    "if l1 == l2:\n",
    "    print(\"anagrams\")\n",
    "else:\n",
    "    print(\"no anagrams\")"
   ]
  },
  {
   "cell_type": "code",
   "execution_count": 1,
   "id": "9e8a9bb6",
   "metadata": {},
   "outputs": [
    {
     "name": "stdout",
     "output_type": "stream",
     "text": [
      "4\n",
      "2\n"
     ]
    }
   ],
   "source": [
    "# counting the space in string.\n",
    "str= \"Suvetha is a good girl\"\n",
    "print(str.count(' '))\n",
    "print(str.count('o'))"
   ]
  },
  {
   "cell_type": "code",
   "execution_count": 5,
   "id": "400152d8",
   "metadata": {},
   "outputs": [
    {
     "name": "stdout",
     "output_type": "stream",
     "text": [
      "Friend indeed is a Friend in deed <class 'str'>\n",
      "F.r.i.e.n.d. .i.n.d.e.e.d. .i.s. .a. .F.r.i.e.n.d. .i.n. .d.e.e.d <class 'str'>\n",
      "m 2\n",
      "o 1\n",
      "m 2\n",
      "d 2\n",
      "a 1\n",
      "d 2\n"
     ]
    }
   ],
   "source": [
    "x= \"Friend indeed is a Friend in deed\"        \n",
    "y = '.'.join(x)\n",
    "print(x,type(x))\n",
    "print(y,type(y))\n",
    "a=\"momdad\"\n",
    "for i in a:\n",
    "    print(i,a.count(i))"
   ]
  },
  {
   "cell_type": "code",
   "execution_count": 42,
   "id": "392b5c32",
   "metadata": {},
   "outputs": [
    {
     "name": "stdout",
     "output_type": "stream",
     "text": [
      "[3, 2, 5, 4, 7, 9, 1, 6, 8]\n"
     ]
    }
   ],
   "source": [
    "#Randomize the element in list.\n",
    "import numpy as np\n",
    "l = [1,2,3,4,5,6,7,8,9]\n",
    "np.random.shuffle(l)\n",
    "print(l)"
   ]
  },
  {
   "cell_type": "code",
   "execution_count": 32,
   "id": "d4ee9acb",
   "metadata": {},
   "outputs": [
    {
     "name": "stdout",
     "output_type": "stream",
     "text": [
      "[4, 5, 7, 34, 72, 91, 75]\n",
      "[4, 5, 7, 34, 72, 75, 91]\n"
     ]
    }
   ],
   "source": [
    "l1 = [4,5,7,34,72,91,75]\n",
    "sorted(l1)  # ------temporarily sort the list \n",
    "print(l1)\n",
    "l2 = sorted(l1)\n",
    "print(l2)"
   ]
  },
  {
   "cell_type": "code",
   "execution_count": 52,
   "id": "6c27deeb",
   "metadata": {},
   "outputs": [
    {
     "name": "stdout",
     "output_type": "stream",
     "text": [
      "[1, 2, 4, 7, 76, 78]\n"
     ]
    }
   ],
   "source": [
    "# sort the two merging list.\n",
    "def mer(l1,l2):\n",
    "    return sorted(l1 + l2)\n",
    "print(mer([1,7,4],[78,2,76]))"
   ]
  },
  {
   "cell_type": "code",
   "execution_count": 53,
   "id": "b0db53ad",
   "metadata": {},
   "outputs": [
    {
     "name": "stdout",
     "output_type": "stream",
     "text": [
      "[1, 4, 7, 2, 76, 78]\n"
     ]
    }
   ],
   "source": [
    "# Merging the two sorted list\n",
    "def smer(li1,li2):\n",
    "    return sorted(li1) + sorted(li2)\n",
    "print(smer([1,7,4],[78,2,76]))"
   ]
  },
  {
   "cell_type": "code",
   "execution_count": 46,
   "id": "7546ae01",
   "metadata": {},
   "outputs": [
    {
     "name": "stdout",
     "output_type": "stream",
     "text": [
      "a\n"
     ]
    }
   ],
   "source": [
    "# find the 1st non repeating word in string.\n",
    "def nonrep(s):\n",
    "    for i in s:\n",
    "        if s.count(i) == 1:\n",
    "            return i\n",
    "    return \"repeating  word\"\n",
    "print(nonrep(\"daddy\"))"
   ]
  },
  {
   "cell_type": "code",
   "execution_count": 34,
   "id": "35cfcd02",
   "metadata": {},
   "outputs": [
    {
     "name": "stdout",
     "output_type": "stream",
     "text": [
      " \n"
     ]
    }
   ],
   "source": [
    "# find the 1st reoccurance word in string.\n",
    "def rep(s):\n",
    "    for i in s:\n",
    "        if s.count(i) >= 2:\n",
    "            return i\n",
    "    return \"no repeating word\"\n",
    "print(rep(\"uvetha is good\"))   "
   ]
  },
  {
   "cell_type": "code",
   "execution_count": 89,
   "id": "a8509550",
   "metadata": {},
   "outputs": [
    {
     "name": "stdout",
     "output_type": "stream",
     "text": [
      "o\n"
     ]
    }
   ],
   "source": [
    "# without space \n",
    "def rep(s):\n",
    "    x= s.replace(' ','')\n",
    "    for i in x:\n",
    "        if x.count(i) >= 2:\n",
    "            return i\n",
    "    return \"no repeating word\"\n",
    "print(rep(\"uvetha is good\"))   "
   ]
  },
  {
   "cell_type": "code",
   "execution_count": 48,
   "id": "ffc8c54e",
   "metadata": {},
   "outputs": [
    {
     "name": "stdout",
     "output_type": "stream",
     "text": [
      "True\n",
      "False\n",
      "True\n",
      "a : [1, 2, 3]\n",
      "b : [1, 2, 3]\n",
      "c : [1, 2, 3]\n",
      "mb : [10, 2, 3]\n",
      "ma : [10, 2, 3]\n"
     ]
    }
   ],
   "source": [
    "#---------------- is: Checks if two object refer to the same memory location.\n",
    "\n",
    "#---------------- ==: Checks if the values of two objects are equal.\n",
    "\n",
    "#---------------- in: Checks if the value inside or not\n",
    "\n",
    "a = [1, 2, 3]\n",
    "b = a\n",
    "c = [1, 2, 3]\n",
    "print(a is b)\n",
    "print(a is c)\n",
    "print(a == c)\n",
    "print(\"a :\",a)\n",
    "print(\"b :\",b)\n",
    "print(\"c :\",c)\n",
    "b[0] = 10\n",
    "print(\"mb :\",b)\n",
    "print(\"ma :\",a)"
   ]
  },
  {
   "cell_type": "code",
   "execution_count": 64,
   "id": "c0c37b77",
   "metadata": {},
   "outputs": [
    {
     "name": "stdout",
     "output_type": "stream",
     "text": [
      "True\n",
      "False\n"
     ]
    }
   ],
   "source": [
    "string1 = \"Python\"\n",
    "string2 = \"Python\"\n",
    "print(string1 is string2)\n",
    "\n",
    "a= [1,2,3]\n",
    "c= [1,2,3]\n",
    "print(a is c)"
   ]
  },
  {
   "cell_type": "code",
   "execution_count": 37,
   "id": "7d8a42b2",
   "metadata": {},
   "outputs": [
    {
     "name": "stdout",
     "output_type": "stream",
     "text": [
      "4321"
     ]
    }
   ],
   "source": [
    "#Write the program to reverse the number(integer)\n",
    "num = 1234\n",
    "while num >0:\n",
    "    last = num % 10\n",
    "    num = num //10\n",
    "    print(last,end= '')"
   ]
  },
  {
   "cell_type": "code",
   "execution_count": 37,
   "id": "1c3cd215",
   "metadata": {},
   "outputs": [
    {
     "ename": "AttributeError",
     "evalue": "'int' object has no attribute 'reverse'",
     "output_type": "error",
     "traceback": [
      "\u001b[1;31m---------------------------------------------------------------------------\u001b[0m",
      "\u001b[1;31mAttributeError\u001b[0m                            Traceback (most recent call last)",
      "Cell \u001b[1;32mIn[37], line 2\u001b[0m\n\u001b[0;32m      1\u001b[0m num \u001b[38;5;241m=\u001b[39m \u001b[38;5;241m1234\u001b[39m\n\u001b[1;32m----> 2\u001b[0m num\u001b[38;5;241m.\u001b[39mreverse()\n",
      "\u001b[1;31mAttributeError\u001b[0m: 'int' object has no attribute 'reverse'"
     ]
    }
   ],
   "source": [
    "num = 1234\n",
    "num.reverse()  # ----- integer can't use reverse() fn. and can't reverse using index (can't access by index)"
   ]
  },
  {
   "cell_type": "code",
   "execution_count": 3,
   "id": "000a3ce7",
   "metadata": {},
   "outputs": [
    {
     "name": "stdout",
     "output_type": "stream",
     "text": [
      "4\n"
     ]
    }
   ],
   "source": [
    "#Write the code to print the unit.\n",
    "num = 1234\n",
    "res = num%10\n",
    "print(res)"
   ]
  },
  {
   "cell_type": "code",
   "execution_count": 2,
   "id": "f173c8fe",
   "metadata": {},
   "outputs": [
    {
     "name": "stdout",
     "output_type": "stream",
     "text": [
      "3\n"
     ]
    }
   ],
   "source": [
    "#Write the code to print the tens.\n",
    "num = 1234\n",
    "x=num//10\n",
    "res=x%10\n",
    "print(res)"
   ]
  },
  {
   "cell_type": "code",
   "execution_count": 38,
   "id": "c4aeb7db",
   "metadata": {},
   "outputs": [
    {
     "ename": "TypeError",
     "evalue": "unsupported operand type(s) for +: 'int' and 'str'",
     "output_type": "error",
     "traceback": [
      "\u001b[1;31m---------------------------------------------------------------------------\u001b[0m",
      "\u001b[1;31mTypeError\u001b[0m                                 Traceback (most recent call last)",
      "Cell \u001b[1;32mIn[38], line 3\u001b[0m\n\u001b[0;32m      1\u001b[0m a \u001b[38;5;241m=\u001b[39m \u001b[38;5;241m10\u001b[39m\n\u001b[0;32m      2\u001b[0m b \u001b[38;5;241m=\u001b[39m \u001b[38;5;124m\"\u001b[39m\u001b[38;5;124m20\u001b[39m\u001b[38;5;124m\"\u001b[39m\n\u001b[1;32m----> 3\u001b[0m c \u001b[38;5;241m=\u001b[39m a \u001b[38;5;241m+\u001b[39m b\n\u001b[0;32m      4\u001b[0m \u001b[38;5;28mprint\u001b[39m(c)\n",
      "\u001b[1;31mTypeError\u001b[0m: unsupported operand type(s) for +: 'int' and 'str'"
     ]
    }
   ],
   "source": [
    "a = 10\n",
    "b = \"20\"\n",
    "c = a + b\n",
    "print(c)"
   ]
  },
  {
   "cell_type": "code",
   "execution_count": 7,
   "id": "6943bc72",
   "metadata": {},
   "outputs": [
    {
     "name": "stdout",
     "output_type": "stream",
     "text": [
      "unfit\n"
     ]
    }
   ],
   "source": [
    "age = 24\n",
    "eat_pizza = True\n",
    "exercise = False\n",
    "print(\"unfit\" if eat_pizza else \"fit\" if age < 30 else \"Fit\" if exercise else \"Unfit\")"
   ]
  },
  {
   "cell_type": "code",
   "execution_count": 8,
   "id": "6c5f5c7a",
   "metadata": {},
   "outputs": [
    {
     "name": "stdout",
     "output_type": "stream",
     "text": [
      "enter marital status:unmarried\n",
      "Enter age:20\n",
      "selected\n"
     ]
    }
   ],
   "source": [
    "'''\n",
    "    if a=='married':\n",
    "        print(\"rejected\")\n",
    "    else:\n",
    "        if age>18:\n",
    "            print(\"selected\")\n",
    "        else:\n",
    "            print(\"age is unsatisfied\")\n",
    "'''\n",
    "            \n",
    "            \n",
    "a = input(\"enter marital status:\")\n",
    "age = int(input(\"Enter age:\"))\n",
    "print(\"rejected\" if a==\"married\" else \"selected\" if age > 18 else \"age is unsatisfied\")"
   ]
  },
  {
   "cell_type": "code",
   "execution_count": 18,
   "id": "986d0ad2",
   "metadata": {},
   "outputs": [
    {
     "name": "stdout",
     "output_type": "stream",
     "text": [
      "1 \n",
      "1 2 \n",
      "1 2 3 \n",
      "1 2 3 4 \n",
      "1 2 3 4 5 \n"
     ]
    }
   ],
   "source": [
    "# Patterns.\n",
    "\n",
    "for i in range(1,6):\n",
    "    for j in range(1,i+1):\n",
    "        print(j,end = ' ')\n",
    "    print()"
   ]
  },
  {
   "cell_type": "code",
   "execution_count": 16,
   "id": "d132fb57",
   "metadata": {},
   "outputs": [
    {
     "name": "stdout",
     "output_type": "stream",
     "text": [
      "\n",
      "1 \n",
      "2 2 \n",
      "3 3 3 \n",
      "4 4 4 4 \n",
      "5 5 5 5 5 \n"
     ]
    }
   ],
   "source": [
    "for i in range(6):\n",
    "    for j in range(i):\n",
    "        print(i,end = ' ')\n",
    "    print()"
   ]
  },
  {
   "cell_type": "code",
   "execution_count": 21,
   "id": "3e294071",
   "metadata": {},
   "outputs": [
    {
     "name": "stdout",
     "output_type": "stream",
     "text": [
      "1 1 1 1 1 \n",
      "2 2 2 2 \n",
      "3 3 3 \n",
      "4 4 \n",
      "5 \n"
     ]
    }
   ],
   "source": [
    "a =0\n",
    "for i in range(5,0,-1):\n",
    "    a+=1\n",
    "    for j in range(1,i+1):\n",
    "        print(a,end=' ')\n",
    "    print()"
   ]
  },
  {
   "cell_type": "code",
   "execution_count": 24,
   "id": "c8d3b85a",
   "metadata": {},
   "outputs": [
    {
     "name": "stdout",
     "output_type": "stream",
     "text": [
      "5 5 5 5 5 \n",
      "5 5 5 5 \n",
      "5 5 5 \n",
      "5 5 \n",
      "5 \n"
     ]
    }
   ],
   "source": [
    "for i in range(5,0,-1):\n",
    "    for j in range(1,i+1):\n",
    "        print(\"5\", end = ' ')\n",
    "    print()"
   ]
  },
  {
   "cell_type": "code",
   "execution_count": 5,
   "id": "093222e5",
   "metadata": {},
   "outputs": [
    {
     "name": "stdout",
     "output_type": "stream",
     "text": [
      "Given condition matched\n"
     ]
    }
   ],
   "source": [
    "x=13\n",
    "\n",
    "if x>12 or x<15 and x==16:\n",
    "    print(\"Given condition matched\")\n",
    "else:\n",
    "    print(\"Given condition did not match\")"
   ]
  },
  {
   "cell_type": "code",
   "execution_count": 3,
   "id": "974a2cef",
   "metadata": {},
   "outputs": [
    {
     "name": "stdout",
     "output_type": "stream",
     "text": [
      "Given condition did not match\n"
     ]
    }
   ],
   "source": [
    "x=13\n",
    "\n",
    "if x<15 and x==16:\n",
    "    print(\"Given condition matched\")\n",
    "else:\n",
    "    print(\"Given condition did not match\")"
   ]
  },
  {
   "cell_type": "code",
   "execution_count": 4,
   "id": "fbd7cbd5",
   "metadata": {},
   "outputs": [
    {
     "name": "stdout",
     "output_type": "stream",
     "text": [
      "0\n",
      "1\n",
      "2\n",
      "3\n",
      "4\n",
      "5\n",
      "6\n",
      "7\n",
      "8\n",
      "9\n",
      "bye\n"
     ]
    }
   ],
   "source": [
    "for i in range(10):\n",
    "    print(i)\n",
    "else:\n",
    "    print(\"bye\")"
   ]
  },
  {
   "cell_type": "code",
   "execution_count": 5,
   "id": "8786e9fd",
   "metadata": {},
   "outputs": [
    {
     "name": "stdout",
     "output_type": "stream",
     "text": [
      "0\n"
     ]
    }
   ],
   "source": [
    "for i in range(10):\n",
    "    print(i)\n",
    "    break\n",
    "else:\n",
    "    print(\"bye\")"
   ]
  },
  {
   "cell_type": "code",
   "execution_count": 52,
   "id": "29507e42",
   "metadata": {},
   "outputs": [
    {
     "name": "stdout",
     "output_type": "stream",
     "text": [
      "10\n",
      "9\n",
      "8\n",
      "7\n",
      "6\n",
      "5\n",
      "4\n",
      "3\n",
      "2\n",
      "1\n"
     ]
    }
   ],
   "source": [
    "l = [1,2,3,4,5,6,7,8,9,10]\n",
    "for i in l[::-1]:\n",
    "    print(i)"
   ]
  },
  {
   "cell_type": "code",
   "execution_count": 9,
   "id": "968d9d8a",
   "metadata": {},
   "outputs": [
    {
     "name": "stdout",
     "output_type": "stream",
     "text": [
      "10\n",
      "9\n",
      "8\n",
      "7\n",
      "6\n",
      "5\n",
      "4\n",
      "3\n",
      "2\n",
      "1\n"
     ]
    }
   ],
   "source": [
    "for i in reversed(l):\n",
    "    print(i)"
   ]
  },
  {
   "cell_type": "code",
   "execution_count": 10,
   "id": "66f521b0",
   "metadata": {},
   "outputs": [
    {
     "name": "stdout",
     "output_type": "stream",
     "text": [
      "(0, 1)\n",
      "(1, 2)\n",
      "(2, 3)\n",
      "(3, 4)\n",
      "(4, 5)\n",
      "(5, 6)\n",
      "(6, 7)\n",
      "(7, 8)\n",
      "(8, 9)\n",
      "(9, 10)\n"
     ]
    }
   ],
   "source": [
    "for i in enumerate(l):  # -------  enumerated used to retrun the index and its value.\n",
    "    print(i)"
   ]
  },
  {
   "cell_type": "code",
   "execution_count": 41,
   "id": "8872e229",
   "metadata": {},
   "outputs": [
    {
     "name": "stdout",
     "output_type": "stream",
     "text": [
      "3\n"
     ]
    }
   ],
   "source": [
    "def add(a, b):\n",
    "    return a + b\n",
    "\n",
    "numbers = [1, 2]\n",
    "result = add(*numbers) \n",
    "print(result)\n",
    "# -------- \" * \" this astrick symbol is called argument unpacking (this unpack the list into the individual argument)."
   ]
  },
  {
   "cell_type": "code",
   "execution_count": 51,
   "id": "3d3d3873",
   "metadata": {},
   "outputs": [
    {
     "name": "stdout",
     "output_type": "stream",
     "text": [
      "[1, 2, 3, 4, 5, 76, 4] <class 'list'>\n",
      "1 2 3 4 5 76 4 <class 'list'>\n"
     ]
    }
   ],
   "source": [
    "l1= [1,2,3,4,5,76,4]\n",
    "l2=[3,4,6,8,4,97]\n",
    "print(l1,type(l1))\n",
    "print(*l1,type(l1)) # ----------- unpacking "
   ]
  },
  {
   "cell_type": "code",
   "execution_count": 20,
   "id": "5272d375",
   "metadata": {},
   "outputs": [
    {
     "name": "stdout",
     "output_type": "stream",
     "text": [
      "{'Name': 'jeni', 'dept': 'IT', 'salary': '70k'}\n",
      "Name dept salary\n"
     ]
    },
    {
     "ename": "TypeError",
     "evalue": "'Name' is an invalid keyword argument for print()",
     "output_type": "error",
     "traceback": [
      "\u001b[1;31m---------------------------------------------------------------------------\u001b[0m",
      "\u001b[1;31mTypeError\u001b[0m                                 Traceback (most recent call last)",
      "Cell \u001b[1;32mIn[20], line 4\u001b[0m\n\u001b[0;32m      2\u001b[0m \u001b[38;5;28mprint\u001b[39m(d)\n\u001b[0;32m      3\u001b[0m \u001b[38;5;28mprint\u001b[39m(\u001b[38;5;241m*\u001b[39md)\n\u001b[1;32m----> 4\u001b[0m \u001b[38;5;28mprint\u001b[39m(\u001b[38;5;241m*\u001b[39m\u001b[38;5;241m*\u001b[39md)\n",
      "\u001b[1;31mTypeError\u001b[0m: 'Name' is an invalid keyword argument for print()"
     ]
    }
   ],
   "source": [
    "d={'Name':'jeni','dept':'IT','salary':'70k'}\n",
    "print(d)\n",
    "print(*d)\n",
    "print(**d)"
   ]
  },
  {
   "cell_type": "code",
   "execution_count": 33,
   "id": "13a75fe3",
   "metadata": {},
   "outputs": [
    {
     "name": "stdout",
     "output_type": "stream",
     "text": [
      "False\n",
      "False\n",
      "True\n"
     ]
    }
   ],
   "source": [
    "# -------- callable() fn. checks if an object can be called as a function or not.\n",
    "print(callable(d))\n",
    "print(callable(result))\n",
    "print(callable(add))"
   ]
  },
  {
   "cell_type": "code",
   "execution_count": 41,
   "id": "94302781",
   "metadata": {},
   "outputs": [
    {
     "name": "stdout",
     "output_type": "stream",
     "text": [
      "True\n",
      "True\n",
      "False\n"
     ]
    }
   ],
   "source": [
    "# ----- isinstance() fn. is used to check if a variable is of a certain type or not.\n",
    "print(isinstance(l1,list))\n",
    "print(isinstance(num,int))\n",
    "print(isinstance(s1,int))"
   ]
  },
  {
   "cell_type": "code",
   "execution_count": 54,
   "id": "59b365e9",
   "metadata": {},
   "outputs": [
    {
     "name": "stdout",
     "output_type": "stream",
     "text": [
      "[1, 2, 3, 1, 2, 3, 1, 2, 3]\n"
     ]
    }
   ],
   "source": [
    "def mysterious_function(a, b=[]):\n",
    "    b.append(a)\n",
    "    return b\n",
    "\n",
    "result1 = mysterious_function(1)\n",
    "result2 = mysterious_function(2)\n",
    "result3 = mysterious_function(3)\n",
    "\n",
    "print(result1+ result2 + result3)"
   ]
  },
  {
   "cell_type": "code",
   "execution_count": 56,
   "id": "986ae960",
   "metadata": {},
   "outputs": [
    {
     "name": "stdout",
     "output_type": "stream",
     "text": [
      "12\n"
     ]
    }
   ],
   "source": [
    "def power(x, n=2):\n",
    "    return x ** n\n",
    "\n",
    "result1 = power(2)\n",
    "result2 = power(2, 3)\n",
    "\n",
    "print(result1 + result2)"
   ]
  },
  {
   "cell_type": "code",
   "execution_count": 57,
   "id": "db72a927",
   "metadata": {},
   "outputs": [
    {
     "name": "stdout",
     "output_type": "stream",
     "text": [
      "[1, 2, 3, 4, 5] [1, 2, 3, 4, 5] None\n"
     ]
    }
   ],
   "source": [
    "x = [1, 2, 3]\n",
    "y = x + [4, 5]\n",
    "z = x.extend([4, 5])\n",
    "print(x, y, z)"
   ]
  },
  {
   "cell_type": "code",
   "execution_count": 61,
   "id": "e702c051",
   "metadata": {},
   "outputs": [
    {
     "name": "stdout",
     "output_type": "stream",
     "text": [
      "None\n",
      "[1, 2, 3, 4, 5] [1, 2, 3, 4, 5]\n"
     ]
    }
   ],
   "source": [
    "x = [1, 2, 3]\n",
    "y = x + [4, 5]\n",
    "print(x.extend([4, 5])) # -------- extend() modify but return none but if i print(x) its print the modified value of x \n",
    "print(x, y)"
   ]
  },
  {
   "cell_type": "code",
   "execution_count": 3,
   "id": "d02ee324",
   "metadata": {},
   "outputs": [
    {
     "name": "stdout",
     "output_type": "stream",
     "text": [
      "0\n",
      "4\n",
      "5\n",
      "1\n",
      "4\n",
      "5\n"
     ]
    }
   ],
   "source": [
    "for i in range(0,2):\n",
    "    for i in range(4,6):\n",
    "        print(i)"
   ]
  },
  {
   "cell_type": "code",
   "execution_count": 19,
   "id": "847fd3b2",
   "metadata": {},
   "outputs": [
    {
     "name": "stdout",
     "output_type": "stream",
     "text": [
      "1 1 1\n",
      "3 1 1\n"
     ]
    }
   ],
   "source": [
    "class A:\n",
    "    def __init__(self):\n",
    "        self.val = 1\n",
    "\n",
    "class B(A):\n",
    "    pass\n",
    "\n",
    "class C(A):\n",
    "    pass\n",
    "\n",
    "a = A()\n",
    "#b = B()\n",
    "#c = C()\n",
    "\n",
    "print(a.val,b.val,c.val)\n",
    "a.val = 3\n",
    "print(a.val,b.val,c.val)"
   ]
  },
  {
   "cell_type": "code",
   "execution_count": 22,
   "id": "fa20ae9e",
   "metadata": {},
   "outputs": [
    {
     "name": "stdout",
     "output_type": "stream",
     "text": [
      "dabc\n"
     ]
    }
   ],
   "source": [
    "#input like this x \"abcdabcdabcfgh\"\n",
    "#out put like   dabc\n",
    "#write python code to find the largest reapeated substring \n",
    "\n",
    "def find_largest_repeated_substring(s):\n",
    "    n = len(s)\n",
    "    longest = \"\"\n",
    "    \n",
    "    # Try every possible substring\n",
    "    for i in range(n):\n",
    "        for j in range(i + 1, n):\n",
    "            sub = s[i:j]\n",
    "            # Check if it repeats in the string\n",
    "            if s.count(sub) > 1 and len(sub) > len(longest):\n",
    "                longest = sub\n",
    "    return longest\n",
    "\n",
    "# Example usage\n",
    "x = \"aafgabcdabchgedabc\"\n",
    "result = find_largest_repeated_substring(x)\n",
    "print(result)\n"
   ]
  },
  {
   "cell_type": "code",
   "execution_count": 29,
   "id": "760be1b3",
   "metadata": {},
   "outputs": [
    {
     "ename": "SyntaxError",
     "evalue": "'break' outside loop (1086566441.py, line 9)",
     "output_type": "error",
     "traceback": [
      "\u001b[1;36m  Cell \u001b[1;32mIn[29], line 9\u001b[1;36m\u001b[0m\n\u001b[1;33m    break\u001b[0m\n\u001b[1;37m    ^\u001b[0m\n\u001b[1;31mSyntaxError\u001b[0m\u001b[1;31m:\u001b[0m 'break' outside loop\n"
     ]
    }
   ],
   "source": [
    "x = \"abcdabcdabcghe\"\n",
    "i = 0\n",
    "j = 1\n",
    "r=2\n",
    "m = 1\n",
    "start = 3\n",
    "last = 4\n",
    "if j >=len(x):\n",
    "    break\n",
    "f = x[0]+x[1]\n",
    "for step in range(0,len(x)):\n",
    "    for k in range(start+m,last+m):\n",
    "        x[r:k] == f\n",
    "        #print(f)\n",
    "        w1 = f\n",
    "        m+= 1\n",
    "        r+= 1\n",
    "    j+= 1\n",
    "    f= w1 + x[j]\n",
    "    start+=1\n",
    "    last+=1\n",
    "print(w1)\n"
   ]
  },
  {
   "cell_type": "code",
   "execution_count": 7,
   "id": "22563851",
   "metadata": {},
   "outputs": [
    {
     "name": "stdout",
     "output_type": "stream",
     "text": [
      "negative\n"
     ]
    }
   ],
   "source": [
    "x=-9\n",
    "if x>0:\n",
    "    print(\"positive\")\n",
    "elif x<0:\n",
    "    print(\"negative\")\n",
    "else:\n",
    "    print(\"zero\")"
   ]
  },
  {
   "cell_type": "code",
   "execution_count": 9,
   "id": "8c8ad983",
   "metadata": {},
   "outputs": [
    {
     "name": "stdout",
     "output_type": "stream",
     "text": [
      "odd\n"
     ]
    }
   ],
   "source": [
    "x=7\n",
    "if x%2==0:\n",
    "    print(\"even\")\n",
    "else:\n",
    "    print(\"odd\")"
   ]
  },
  {
   "cell_type": "code",
   "execution_count": 17,
   "id": "77f74c24",
   "metadata": {},
   "outputs": [],
   "source": [
    "x=-7\n",
    "if x>0:\n",
    "    print(\"positive\")\n",
    "    if x%2==0:\n",
    "        print(\"even\")\n",
    "    else:\n",
    "        print(\"odd\")\n",
    "\n",
    "    \n",
    "\n",
    "#if x<0:\n",
    " #   print(\"odd\")\n",
    "#lse:\n",
    "#    print(\"even\")"
   ]
  },
  {
   "cell_type": "code",
   "execution_count": 28,
   "id": "816423fd",
   "metadata": {},
   "outputs": [
    {
     "name": "stdout",
     "output_type": "stream",
     "text": [
      "[1, 2, 3, 4, 5, 6, 8, 'suvetha']\n",
      "[4, 5, 6, 8]\n",
      "6\n",
      "{1, 2, 3, 4, 5, 6}\n",
      "range(0, 10)\n"
     ]
    }
   ],
   "source": [
    "x=[1,2,3,4,5,6,8,\"suvetha\"]  #list\n",
    "print(x)\n",
    "print(x[3:7])\n",
    "print(x[-3])\n",
    "y=(1,2,3,4,5,6,7,\"suvetha\")  #tuple\n",
    "z={1,1,2,3,4,5,6}  #set\n",
    "print(z)\n",
    "a={\"a\":1,\"b\":2,\"c\":3}     #dictionary\n",
    "b=range(10)\n",
    "print(b)"
   ]
  }
 ],
 "metadata": {
  "kernelspec": {
   "display_name": "Python 3 (ipykernel)",
   "language": "python",
   "name": "python3"
  },
  "language_info": {
   "codemirror_mode": {
    "name": "ipython",
    "version": 3
   },
   "file_extension": ".py",
   "mimetype": "text/x-python",
   "name": "python",
   "nbconvert_exporter": "python",
   "pygments_lexer": "ipython3",
   "version": "3.11.5"
  }
 },
 "nbformat": 4,
 "nbformat_minor": 5
}
